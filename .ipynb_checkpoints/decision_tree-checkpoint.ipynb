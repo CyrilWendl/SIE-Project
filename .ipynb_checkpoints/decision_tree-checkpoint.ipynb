{
 "cells": [
  {
   "cell_type": "markdown",
   "metadata": {},
   "source": [
    "# Decision Tree for N-dimensional data and labels\n",
    "The code below implements a decision tree calculated on all the data, for one label depending on several independent variables."
   ]
  },
  {
   "cell_type": "markdown",
   "metadata": {},
   "source": [
    "## Libraries\n",
    "First, some libraries are loaded and global figure settings are made for exporting."
   ]
  },
  {
   "cell_type": "code",
   "execution_count": 38,
   "metadata": {},
   "outputs": [],
   "source": [
    "import numpy as np\n",
    "import matplotlib.pyplot as plt\n",
    "import pandas as pd\n",
    "from math import log, e\n",
    "import pylab\n",
    "\n",
    "# Figure settings\n",
    "F = pylab.gcf()\n",
    "plt.rc('text', usetex=True)\n",
    "plt.rc('font', family='serif')"
   ]
  },
  {
   "cell_type": "markdown",
   "metadata": {},
   "source": [
    "## Functions"
   ]
  },
  {
   "cell_type": "code",
   "execution_count": 134,
   "metadata": {},
   "outputs": [
    {
     "data": {
      "text/plain": [
       "array([ 16.73358046,  18.62934659,  17.84876269,  19.22438261,\n",
       "        18.01892999,  18.54080171,  16.285953  ,  17.90174184,\n",
       "        17.38153612,  19.28946645,  18.30943969,  18.5680414 ,\n",
       "        16.27563381,  19.51308207,  19.38674629,  17.65390348,\n",
       "        18.94652075,  17.7121735 ,  18.49254733,  16.59211778,\n",
       "        18.73891008,  16.64420913,  17.29625562,  15.88313778,\n",
       "        18.67772004,  16.73956545,  18.2409673 ,  17.08594681,\n",
       "        18.14578441,  18.87933426,  16.82318936,  17.21398961,\n",
       "        18.01149059,  18.14348554,  17.33033265,  17.41421153,\n",
       "        19.01945898,  18.56901505,  18.92983688,  18.29415556,\n",
       "        17.9451527 ,  19.13737354,  17.50071668,  17.46702483,\n",
       "        17.43575735,  17.99593776,  18.76004021,  15.22838935,\n",
       "        17.33186005,  19.14552248])"
      ]
     },
     "execution_count": 134,
     "metadata": {},
     "output_type": "execute_result"
    }
   ],
   "source": [
    "def createClusters(means, covs, npoints):\n",
    "    \"\"\"\n",
    "    Generate `npoints` random points within two clusters characteristed by their `mean` and `diagonal covariance`\n",
    "    # TODO generalize to return more than two clusters\n",
    "    \"\"\"\n",
    "    x,y=[],[]\n",
    "    for i in range(len(means)):\n",
    "        x1,y1=np.random.multivariate_normal(means[i], covs[i], npoints).T\n",
    "        x.append(np.array(x1))\n",
    "        y.append(np.array(y1))\n",
    "    return x,y\n",
    "\n",
    "# cluster parameters\n",
    "mean1 = [18, 30]\n",
    "cov1 = [[1, 0], [0, 1]]  # diagonal covariance\n",
    "mean2 = [15, 40]\n",
    "cov2 = [[2, 0], [0, 2]]  # diagonal covariance\n",
    "\n",
    "means=[mean1,mean2]\n",
    "covs=[cov1,cov2]\n",
    "npoints=50\n",
    "\n",
    "x,y=createClusters(means,covs,npoints)\n",
    "x[0]"
   ]
  },
  {
   "cell_type": "code",
   "execution_count": 155,
   "metadata": {},
   "outputs": [],
   "source": [
    "def createTwoClusters(mean1, mean2, cov1, cov2, npoints):\n",
    "    \"\"\"\n",
    "    Generate `npoints` random points within two clusters characteristed by their `mean` and `diagonal covariance`\n",
    "    # TODO generalize to return more than two clusters\n",
    "    \"\"\"\n",
    "    x1, y1 = np.random.multivariate_normal(mean1, cov1, npoints).T\n",
    "    x2, y2 = np.random.multivariate_normal(mean2, cov2, npoints).T\n",
    "    return x1, y1, x2, y2\n",
    "\n",
    "\n",
    "def plotData(clusters):\n",
    "    \"\"\"\n",
    "    Plot the clustered data\n",
    "    \"\"\"\n",
    "    for c in clusters:\n",
    "        plt.plot(c[:,0], c[:,1], 'x')\n",
    "    plt.axis('equal')\n",
    "    plt.grid()\n",
    "    plt.savefig('/Users/cyrilwendl/Documents/EPFL/Projet SIE/SIE-Project/random_data.pdf', bbox_inches='tight')\n",
    "    plt.show()\n",
    "\n",
    "\n",
    "def entropy(labels, base=None):  # [1]\n",
    "    \"\"\"\n",
    "    Calculate the entropy for a set of labels\n",
    "    \"\"\"\n",
    "    value, counts = np.unique(labels, return_counts=True)\n",
    "    norm_counts = counts / counts.sum()\n",
    "    base = e if base is None else base\n",
    "    return -(norm_counts * np.log(norm_counts) / np.log(base)).sum()\n",
    "\n",
    "def differentialEntropy():\n",
    "    \"\"\"\n",
    "    # TODO implement: Gaussian entropy for continuous variables\n",
    "    \"\"\"\n",
    "    pass\n",
    "    \n",
    "\n",
    "def split(index, value, dataset):  # [2]\n",
    "    \"\"\"\n",
    "    split a dataset (columns: variables, rows: data) in two according to some column (index) value \n",
    "    \"\"\"\n",
    "    left, right = list(), list()\n",
    "    for row in dataset:\n",
    "        if row[index] < value:\n",
    "            left.append(row)\n",
    "        else:\n",
    "            right.append(row)\n",
    "    return left, right\n",
    "\n",
    "def entropy_discrete(dataset, col_index):\n",
    "    \"\"\"\n",
    "    calculate the entropy values for all cuts on one attribute (left<cut, right>=cut).\n",
    "    \n",
    "    Parameters\n",
    "    ----------\n",
    "    dataset :\n",
    "        Input array with data and label in rows. The last column contains the labels.\n",
    "    col_index :\n",
    "        The index of the column for which the entropy should be computed.\n",
    "    \"\"\"\n",
    "    x_vals, entropy_vals = list(), list()\n",
    "    uniquevals=(np.unique(dataset[:,col_index]))\n",
    "    for split_x in uniquevals[1:]:\n",
    "        x_vals.append(split_x)\n",
    "\n",
    "        # split\n",
    "        left, right = split(col_index, split_x, dataset)\n",
    "        left = np.asarray(left)\n",
    "        right = np.asarray(right)\n",
    "\n",
    "        # labels\n",
    "        left_labels = left[:, -1]  # last column = labels\n",
    "        right_labels = right[:, -1]\n",
    "\n",
    "        # entropy\n",
    "        left_entropy = entropy(left_labels, base=2)\n",
    "        right_entropy = entropy(right_labels, base=2)\n",
    "\n",
    "        # total entropy for attribute\n",
    "        entropy_attr_split = left_entropy * len(left) / len(dataset) + right_entropy * len(right) / len(dataset)\n",
    "        entropy_vals.append(entropy_attr_split)\n",
    "\n",
    "    return entropy_vals, x_vals\n"
   ]
  },
  {
   "cell_type": "markdown",
   "metadata": {},
   "source": [
    "## Test Data\n",
    "Next, some data is generated to test the functions above."
   ]
  },
  {
   "cell_type": "code",
   "execution_count": 156,
   "metadata": {},
   "outputs": [
    {
     "data": {
      "image/png": "[encoded data removed]",
      "text/plain": [
       "<matplotlib.figure.Figure at 0x1155aa390>"
      ]
     },
     "metadata": {},
     "output_type": "display_data"
    }
   ],
   "source": [
    "# cluster parameters\n",
    "npoints=50\n",
    "means=[[18, 30],[15, 40],[30,15]]\n",
    "covs=[[[1, 0], [0, 1]],[[2, 0], [0, 2]],[[2, 0], [0, 2]]]\n",
    "npoints=50\n",
    "\n",
    "x,y=createClusters(means,covs,npoints)\n",
    "\n",
    "# zip for having tuples (x,y), round and unique for having discrete coordinates (eliminating duplicate points)\n",
    "clusters=[]\n",
    "for i in range(len(x)):\n",
    "    clusters.append(np.unique(np.round(list(zip(x[i],y[i],np.ones(len(x[i]))*(i+1)%3))),axis=0)) # np.ones: label 1 for first cluster\n",
    "\n",
    "# connect unique points of cluster 1 and cluster 2\n",
    "dataset=np.asarray(np.concatenate(clusters,axis=0))\n",
    "plotData(clusters)"
   ]
  },
  {
   "cell_type": "markdown",
   "metadata": {},
   "source": [
    "Next, we can calculate the entropy for one given attribute:"
   ]
  },
  {
   "cell_type": "code",
   "execution_count": 157,
   "metadata": {},
   "outputs": [
    {
     "data": {
      "text/html": [
       "<div>\n",
       "<style>\n",
       "    .dataframe thead tr:only-child th {\n",
       "        text-align: right;\n",
       "    }\n",
       "\n",
       "    .dataframe thead th {\n",
       "        text-align: left;\n",
       "    }\n",
       "\n",
       "    .dataframe tbody tr th {\n",
       "        vertical-align: top;\n",
       "    }\n",
       "</style>\n",
       "<table border=\"1\" class=\"dataframe\">\n",
       "  <thead>\n",
       "    <tr style=\"text-align: right;\">\n",
       "      <th></th>\n",
       "      <th>entropy</th>\n",
       "      <th>cut value</th>\n",
       "    </tr>\n",
       "  </thead>\n",
       "  <tbody>\n",
       "    <tr>\n",
       "      <th>0</th>\n",
       "      <td>1.519798</td>\n",
       "      <td>12.0</td>\n",
       "    </tr>\n",
       "    <tr>\n",
       "      <th>1</th>\n",
       "      <td>1.459723</td>\n",
       "      <td>13.0</td>\n",
       "    </tr>\n",
       "    <tr>\n",
       "      <th>2</th>\n",
       "      <td>1.394655</td>\n",
       "      <td>14.0</td>\n",
       "    </tr>\n",
       "    <tr>\n",
       "      <th>3</th>\n",
       "      <td>1.272237</td>\n",
       "      <td>15.0</td>\n",
       "    </tr>\n",
       "    <tr>\n",
       "      <th>4</th>\n",
       "      <td>1.157405</td>\n",
       "      <td>16.0</td>\n",
       "    </tr>\n",
       "    <tr>\n",
       "      <th>5</th>\n",
       "      <td>0.981095</td>\n",
       "      <td>17.0</td>\n",
       "    </tr>\n",
       "    <tr>\n",
       "      <th>6</th>\n",
       "      <td>0.845812</td>\n",
       "      <td>18.0</td>\n",
       "    </tr>\n",
       "    <tr>\n",
       "      <th>7</th>\n",
       "      <td>0.661175</td>\n",
       "      <td>19.0</td>\n",
       "    </tr>\n",
       "    <tr>\n",
       "      <th>8</th>\n",
       "      <td>0.561432</td>\n",
       "      <td>28.0</td>\n",
       "    </tr>\n",
       "    <tr>\n",
       "      <th>9</th>\n",
       "      <td>0.703722</td>\n",
       "      <td>29.0</td>\n",
       "    </tr>\n",
       "    <tr>\n",
       "      <th>10</th>\n",
       "      <td>0.759354</td>\n",
       "      <td>30.0</td>\n",
       "    </tr>\n",
       "    <tr>\n",
       "      <th>11</th>\n",
       "      <td>0.739059</td>\n",
       "      <td>31.0</td>\n",
       "    </tr>\n",
       "    <tr>\n",
       "      <th>12</th>\n",
       "      <td>0.657110</td>\n",
       "      <td>32.0</td>\n",
       "    </tr>\n",
       "    <tr>\n",
       "      <th>13</th>\n",
       "      <td>0.590001</td>\n",
       "      <td>37.0</td>\n",
       "    </tr>\n",
       "    <tr>\n",
       "      <th>14</th>\n",
       "      <td>0.691260</td>\n",
       "      <td>38.0</td>\n",
       "    </tr>\n",
       "    <tr>\n",
       "      <th>15</th>\n",
       "      <td>0.825289</td>\n",
       "      <td>39.0</td>\n",
       "    </tr>\n",
       "    <tr>\n",
       "      <th>16</th>\n",
       "      <td>1.060065</td>\n",
       "      <td>40.0</td>\n",
       "    </tr>\n",
       "    <tr>\n",
       "      <th>17</th>\n",
       "      <td>1.293386</td>\n",
       "      <td>41.0</td>\n",
       "    </tr>\n",
       "    <tr>\n",
       "      <th>18</th>\n",
       "      <td>1.400592</td>\n",
       "      <td>42.0</td>\n",
       "    </tr>\n",
       "    <tr>\n",
       "      <th>19</th>\n",
       "      <td>1.517347</td>\n",
       "      <td>43.0</td>\n",
       "    </tr>\n",
       "  </tbody>\n",
       "</table>\n",
       "</div>"
      ],
      "text/plain": [
       "     entropy  cut value\n",
       "0   1.519798       12.0\n",
       "1   1.459723       13.0\n",
       "2   1.394655       14.0\n",
       "3   1.272237       15.0\n",
       "4   1.157405       16.0\n",
       "5   0.981095       17.0\n",
       "6   0.845812       18.0\n",
       "7   0.661175       19.0\n",
       "8   0.561432       28.0\n",
       "9   0.703722       29.0\n",
       "10  0.759354       30.0\n",
       "11  0.739059       31.0\n",
       "12  0.657110       32.0\n",
       "13  0.590001       37.0\n",
       "14  0.691260       38.0\n",
       "15  0.825289       39.0\n",
       "16  1.060065       40.0\n",
       "17  1.293386       41.0\n",
       "18  1.400592       42.0\n",
       "19  1.517347       43.0"
      ]
     },
     "execution_count": 157,
     "metadata": {},
     "output_type": "execute_result"
    }
   ],
   "source": [
    "dfs=[]#pd.DataFrame(columns=([\"x\",\"y\"])\n",
    "entropy_attr=[]\n",
    "x_attr=[]\n",
    "attributes=[\"x\",\"y\"]\n",
    "\n",
    "for attribute_ind in range(np.shape(dataset,)[1]-1):\n",
    "    entropy_vals_attr, xs_vals_attr = entropy_discrete(col_index=attribute_ind, dataset=dataset)\n",
    "    x_attr.append(xs_vals_attr)\n",
    "    entropy_attr.append(np.asarray(entropy_vals_attr))\n",
    "    \n",
    "    df=pd.DataFrame(x_attr[attribute_ind], entropy_attr[attribute_ind])\n",
    "    df.reset_index(inplace=True)\n",
    "    df.columns=([\"entropy\",\"cut value\"])\n",
    "    dfs.append(df)\n",
    "\n",
    "dfs[1] # y data"
   ]
  },
  {
   "cell_type": "markdown",
   "metadata": {},
   "source": [
    "We now want to get the variable for which the minimum entropy is lowest and make a cut there. Then continue on recursively until all labels are in the same split subarrays."
   ]
  },
  {
   "cell_type": "code",
   "execution_count": 103,
   "metadata": {},
   "outputs": [
    {
     "data": {
      "text/html": [
       "<div>\n",
       "<style>\n",
       "    .dataframe thead tr:only-child th {\n",
       "        text-align: right;\n",
       "    }\n",
       "\n",
       "    .dataframe thead th {\n",
       "        text-align: left;\n",
       "    }\n",
       "\n",
       "    .dataframe tbody tr th {\n",
       "        vertical-align: top;\n",
       "    }\n",
       "</style>\n",
       "<table border=\"1\" class=\"dataframe\">\n",
       "  <thead>\n",
       "    <tr style=\"text-align: right;\">\n",
       "      <th></th>\n",
       "      <th>indicator</th>\n",
       "    </tr>\n",
       "  </thead>\n",
       "  <tbody>\n",
       "    <tr>\n",
       "      <th>0.0</th>\n",
       "      <td>lowest entropy</td>\n",
       "    </tr>\n",
       "    <tr>\n",
       "      <th>37.0</th>\n",
       "      <td>cut value</td>\n",
       "    </tr>\n",
       "    <tr>\n",
       "      <th>1.0</th>\n",
       "      <td>variable number</td>\n",
       "    </tr>\n",
       "  </tbody>\n",
       "</table>\n",
       "</div>"
      ],
      "text/plain": [
       "            indicator\n",
       "0.0    lowest entropy\n",
       "37.0        cut value\n",
       "1.0   variable number"
      ]
     },
     "execution_count": 103,
     "metadata": {},
     "output_type": "execute_result"
    }
   ],
   "source": [
    "dfs[0].entropy.min()\n",
    "min_val=2 # over value range [0,1], min < min_vals will be necessarily true during first evaluation\n",
    "min_val_cut=np.nan\n",
    "min_var=np.nan\n",
    "for i in range(len(dfs)):\n",
    "    df=dfs[i]\n",
    "    min_df=df.loc[df['entropy'].argmin()]\n",
    "    if min_df[\"entropy\"] < min_val:\n",
    "        min_val = min_df[\"entropy\"] \n",
    "        min_val_cut = min_df[\"cut value\"] \n",
    "        min_var=i\n",
    "        \n",
    "df=pd.DataFrame([\"lowest entropy\",\"cut value\",\"variable number\"],[min_val,min_val_cut,min_var])\n",
    "df.columns=[\"indicator\"]\n",
    "df"
   ]
  },
  {
   "cell_type": "markdown",
   "metadata": {},
   "source": [
    "Now we can iterate the same procedure over the both splitted sides until there is no split left."
   ]
  },
  {
   "cell_type": "code",
   "execution_count": 117,
   "metadata": {},
   "outputs": [
    {
     "data": {
      "text/plain": [
       "[array([ 12.,  37.,   2.]),\n",
       " array([ 12.,  40.,   2.]),\n",
       " array([ 12.,  41.,   2.]),\n",
       " array([ 13.,  39.,   2.]),\n",
       " array([ 13.,  40.,   2.]),\n",
       " array([ 13.,  41.,   2.]),\n",
       " array([ 13.,  42.,   2.]),\n",
       " array([ 14.,  39.,   2.]),\n",
       " array([ 14.,  40.,   2.]),\n",
       " array([ 14.,  41.,   2.]),\n",
       " array([ 15.,  38.,   2.]),\n",
       " array([ 15.,  39.,   2.]),\n",
       " array([ 15.,  40.,   2.]),\n",
       " array([ 16.,  39.,   2.]),\n",
       " array([ 16.,  41.,   2.]),\n",
       " array([ 17.,  38.,   2.]),\n",
       " array([ 17.,  39.,   2.]),\n",
       " array([ 17.,  40.,   2.]),\n",
       " array([ 17.,  41.,   2.]),\n",
       " array([ 19.,  41.,   2.])]"
      ]
     },
     "execution_count": 117,
     "metadata": {},
     "output_type": "execute_result"
    }
   ],
   "source": [
    "# get left (l) and right (r) based on split\n",
    "# check if labels unique \n",
    "# get entropies for all split values in ll rr\n",
    "# recurse\n",
    "left,right=split(dataset=dataset,index=min_var,value=min_val_cut)\n",
    "left\n",
    "right"
   ]
  },
  {
   "cell_type": "markdown",
   "metadata": {},
   "source": [
    "# TODO add code for continous entropy calculation"
   ]
  },
  {
   "cell_type": "code",
   "execution_count": null,
   "metadata": {},
   "outputs": [],
   "source": []
  }
 ],
 "metadata": {
  "kernelspec": {
   "display_name": "Python 3",
   "language": "python",
   "name": "python3"
  },
  "language_info": {
   "codemirror_mode": {
    "name": "ipython",
    "version": 3
   },
   "file_extension": ".py",
   "mimetype": "text/x-python",
   "name": "python",
   "nbconvert_exporter": "python",
   "pygments_lexer": "ipython3",
   "version": "3.6.1"
  }
 },
 "nbformat": 4,
 "nbformat_minor": 2
}
