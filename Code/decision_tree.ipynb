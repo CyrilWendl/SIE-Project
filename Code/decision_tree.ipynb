{
 "cells": [
  {
   "cell_type": "markdown",
   "metadata": {},
   "source": [
    "# Decision Tree for N-dimensional data and labels\n",
    "The code below implements a decision tree calculated on all the data, for one label depending on several independent variables."
   ]
  },
  {
   "cell_type": "markdown",
   "metadata": {},
   "source": [
    "## Libraries\n",
    "First, some libraries are loaded and global figure settings are made for exporting."
   ]
  },
  {
   "cell_type": "code",
   "execution_count": 1,
   "metadata": {},
   "outputs": [],
   "source": [
    "import numpy as np\n",
    "import matplotlib.pyplot as plt\n",
    "import pandas as pd\n",
    "from math import log, e\n",
    "import random\n",
    "import sys"
   ]
  },
  {
   "cell_type": "markdown",
   "metadata": {},
   "source": [
    "### Custom Libraries"
   ]
  },
  {
   "cell_type": "code",
   "execution_count": 2,
   "metadata": {},
   "outputs": [],
   "source": [
    "import density_tree as dt\n",
    "import density_tree.create_data\n",
    "import density_tree.decision_tree_create\n",
    "import density_tree.decision_tree_traverse\n",
    "import density_tree.density_tree\n",
    "import density_tree.plots"
   ]
  },
  {
   "cell_type": "markdown",
   "metadata": {},
   "source": [
    "The methods implemented for producing a decision tree can be found in the python files under the package `density_tree`.\n"
   ]
  },
  {
   "cell_type": "markdown",
   "metadata": {},
   "source": [
    "# Unsupervised entropy with unlabelled clusters\n",
    "Below are some functions that compute an optimal split for unlabelled data, using the differential entropy of a d-variate Gaussian density. \n",
    "\n",
    "First, let's generate some unlabelled data:\n"
   ]
  },
  {
   "cell_type": "code",
   "execution_count": 3,
   "metadata": {},
   "outputs": [
    {
     "data": {
      "image/png": "[encoded data removed]",
      "text/plain": [
       "<matplotlib.figure.Figure at 0x11307c978>"
      ]
     },
     "metadata": {},
     "output_type": "display_data"
    }
   ],
   "source": [
    "dimensions = 2\n",
    "nclusters = 3\n",
    "covariance =  10\n",
    "npoints = 30\n",
    "minRange = 0\n",
    "maxRange = 100\n",
    "\n",
    "dataset, clusters = dt.create_data.createData(nclusters, dimensions, covariance, npoints)\n",
    "dataset=dataset[:,:-1]\n",
    "dt.plots.plotData(dataset,title=\"..\", labels = False,\n",
    "                 minRange = minRange, maxRange = maxRange)"
   ]
  },
  {
   "cell_type": "code",
   "execution_count": 4,
   "metadata": {},
   "outputs": [
    {
     "name": "stdout",
     "output_type": "stream",
     "text": [
      "Overwriting ./density_tree/density_tree.py\n"
     ]
    }
   ],
   "source": [
    "%%writefile ./density_tree/density_tree.py\n",
    "import numpy as np\n",
    "\n",
    "def entropy_gaussian(S, base=2):\n",
    "    \"\"\"\n",
    "    Differential entropy of a d-variate Gaussian density\n",
    "    :param S: dataset in R^(N*D)\n",
    "    :param base: base of entropy\n",
    "    :return: entropy\n",
    "    \"\"\"\n",
    "    K = np.linalg.det(np.cov(S.T))\n",
    "    d = np.shape(S)[1]\n",
    "    \n",
    "    entropy = np.multiply(np.power(2 * np.pi * np.exp(1), d), K)\n",
    "    if entropy <= 0:\n",
    "        return 0\n",
    "    entropy = np.log(entropy) / (np.log(base) * 2)\n",
    "    if np.isnan(entropy):\n",
    "        entropy = 0\n",
    "    return entropy\n",
    "\n",
    "\n",
    "def get_ig_dim(dataset, dim, entropy_f = entropy_gaussian, base = 2):\n",
    "    \"\"\"for one dimension, get information gain\"\"\"\n",
    "    ig_vals = []\n",
    "    split_vals = []\n",
    "\n",
    "    # loop over all possible cut values\n",
    "    for split_val in np.linspace(dataset[2, dim],dataset[-2, dim],100):  # TODO remove 1:-2, find out why beginning and end cause crash\n",
    "        # split values\n",
    "        split_rand_l = dataset[dataset[:, dim] < split_val]\n",
    "        split_rand_r = dataset[dataset[:, dim] >= split_val]\n",
    "        \n",
    "        # entropy\n",
    "        entropy_l = entropy_f(split_rand_l, base=base)\n",
    "        entropy_r = entropy_f(split_rand_r, base=base)\n",
    "        entropy_tot = entropy_f(dataset, base=base)\n",
    "\n",
    "        # information gain\n",
    "        ig = entropy_tot - (entropy_l * len(split_rand_l) /\n",
    "                            len(dataset) + entropy_r * len(split_rand_r) / len(dataset))\n",
    "        # append split value and information gain\n",
    "        split_vals.append(split_val)\n",
    "        ig_vals.append(ig)\n",
    "\n",
    "    return np.array(ig_vals), np.array(split_vals)\n",
    "\n",
    "def get_best_split(dataset):\n",
    "    \"\"\"for a given dimension, get best split based on information gain\"\"\"\n",
    "\n",
    "    # get all information gains on all dimensions\n",
    "    ig_dims_vals, split_dims_vals = [], []\n",
    "    for dim in range(np.shape(dataset)[1]): # loop all dimensions\n",
    "        ig_vals, split_vals = get_ig_dim(dataset, dim)\n",
    "        ig_dims_vals.append(ig_vals)\n",
    "        split_dims_vals.append(split_vals)\n",
    "\n",
    "    # select best information gain and dimension\n",
    "    # TODO implement\n",
    "\n",
    "    return ig_dims_vals, split_dims_vals\n"
   ]
  },
  {
   "cell_type": "markdown",
   "metadata": {},
   "source": [
    "test set for differential Gaussian entropy function"
   ]
  },
  {
   "cell_type": "code",
   "execution_count": 5,
   "metadata": {},
   "outputs": [],
   "source": [
    "np.seterr(all='print')\n",
    "import warnings\n",
    "\n",
    "with warnings.catch_warnings():\n",
    "    warnings.simplefilter(\"ignore\", category=RuntimeWarning)\n",
    "    ig_dims_vals, split_dims_vals = dt.density_tree.get_best_split(dataset)"
   ]
  },
  {
   "cell_type": "markdown",
   "metadata": {},
   "source": [
    "Show information gain per cut on axis"
   ]
  },
  {
   "cell_type": "code",
   "execution_count": 6,
   "metadata": {},
   "outputs": [
    {
     "data": {
      "image/png": "[encoded data removed]",
      "text/plain": [
       "<matplotlib.figure.Figure at 0x11307c630>"
      ]
     },
     "metadata": {},
     "output_type": "display_data"
    }
   ],
   "source": [
    "f, axes = plt.subplots(1,2, sharex=True, sharey=True)\n",
    "f.set_size_inches((12,4))\n",
    "for dim in [0,1]:\n",
    "    axes[dim].scatter(split_dims_vals[dim],ig_dims_vals[dim])\n",
    "    axes[dim].set_title(\"information gain based on cut value in dimension \"+str(dim))\n",
    "plt.show()"
   ]
  },
  {
   "cell_type": "code",
   "execution_count": 7,
   "metadata": {},
   "outputs": [
    {
     "data": {
      "text/plain": [
       "(1, 43.653224566527925)"
      ]
     },
     "execution_count": 7,
     "metadata": {},
     "output_type": "execute_result"
    }
   ],
   "source": [
    "def get_best_split():\n",
    "    # dimension of maximum gain\n",
    "    dim_max = np.argmax(np.max(ig_dims_vals,axis=1))\n",
    "    \n",
    "    # maximum gain split value\n",
    "    middle_max_ind = np.where(np.equal(ig_dims_vals[dim_max],np.max(ig_dims_vals[dim_max]))) # take the middle if there are several maximum values\n",
    "    middle_max_ind = int(np.floor(np.mean(middle_max_ind)))\n",
    "    val_dim_max = split_dims_vals[dim_max][middle_max_ind]\n",
    "    return dim_max, val_dim_max\n",
    "\n",
    "dim_max, val_dim_max = get_best_split()\n",
    "get_best_split()"
   ]
  },
  {
   "cell_type": "markdown",
   "metadata": {},
   "source": [
    "For tree descent, we have to decide how many clusters we want to produce (limit depth) or what should be the threshold of information gain for the algorithm to stop (information gain limit)"
   ]
  },
  {
   "cell_type": "code",
   "execution_count": 8,
   "metadata": {},
   "outputs": [],
   "source": [
    "def next_split(left, right, results, root):\n",
    "    \"\"\"\n",
    "    recursive method to split variables on dimension until all variables are contained in one subspace. G\n",
    "    1. Get left (l) and right (r) based on split\n",
    "    2. Check if labels unique\n",
    "    3. Get entropies for all split values in ll rr\n",
    "    4. Recurse -> 1.\n",
    "    \"\"\"\n",
    "    for side in (left, right):  # loop both sides\n",
    "        dt_node = Node() # decision tree node]\n",
    "        dt_node.parent = root\n",
    "        # <<< dt_node.labels = np.unique(np.asarray(side)[:, -1])  # get variables (in last column)\n",
    "        \n",
    "        if np.array_equal(left, side):\n",
    "            dt_node.parent.left = dt_node\n",
    "        elif np.array_equal(right, side):\n",
    "            dt_node.parent.right = dt_node\n",
    "        \n",
    "        #if len(dt_node.labels) > 1:  # if there are still more than one labels in a side\n",
    "            side = np.asarray(side)\n",
    "            dfs = calc_entropy_attribute(side)  # get entropies for all attributes within side\n",
    "            min_df = get_best_attr(dfs)  # get best split value\n",
    "            # dataframe\n",
    "            results.append(create_df_results(min_df))\n",
    "            \n",
    "            dt_node.split_value = min_df[\"cut value\"].values[0]\n",
    "            dt_node.split_dimension = min_df[\"dimension\"].values[0]\n",
    "            left_new, right_new = split(side, \n",
    "                                        dt_node.split_dimension,\n",
    "                                        dt_node.split_value) # get new left and right labels\n",
    "            \n",
    "            # save results for dataframe\n",
    "            next_split(left_new, right_new, results, dt_node)  # split, recursion\n",
    "            \n",
    "def create_df_results(node):\n",
    "    df = pd.DataFrame(node.split_dimension,node,split_value)\n",
    "    df.reset_index()\n",
    "    return df\n",
    "\n",
    "def create_decision_tree(dimensions = 0, subsample = 0):\n",
    "    \"\"\"create decision tree be performing initial split,\n",
    "    then recursively splitting until all labels are in unique bins\n",
    "    \"\"\"\n",
    "    # TODO modify such as to take as entry number of variables to create tree on, number of data subsamples etc.\n",
    "    \n",
    "    root = Node() # initial node\n",
    "    # initial split\n",
    "    # <<< dfs = calc_entropy_attribute(dataset)\n",
    "    # <<< min_df = get_best_attr(dfs)\n",
    "    dim_max, val_dim_max = get_best_split() \n",
    "    \n",
    "    root.split_dimension = dim_max # <<< min_df[\"dimension\"].values[0]\n",
    "    root.split_value = val_dim_max # <<<< min_df[\"cut value\"].values[0]\n",
    "    # <<< root.labels = np.unique(dataset[:,-1])\n",
    "    \n",
    "    left,right=split(dataset, \n",
    "                 root.split_dimension, # dimension of min cut value\n",
    "                 root.split_value) # min cut value\n",
    "    results=[create_df_results(root)]\n",
    "    # recursively continue splitting\n",
    "    next_split(left, right, results, root) # iterate\n",
    "    return results, root\n"
   ]
  },
  {
   "cell_type": "markdown",
   "metadata": {},
   "source": [
    "# Labelled data"
   ]
  },
  {
   "cell_type": "code",
   "execution_count": 9,
   "metadata": {},
   "outputs": [
    {
     "data": {
      "image/png": "[encoded data removed]",
      "text/plain": [
       "<matplotlib.figure.Figure at 0x11314eeb8>"
      ]
     },
     "metadata": {},
     "output_type": "display_data"
    }
   ],
   "source": [
    "# cluster parameters\n",
    "nclusters=8\n",
    "dimensions=2\n",
    "covariance=10\n",
    "minRange=0\n",
    "maxRange=100\n",
    "npoints=5\n",
    "\n",
    "    \n",
    "dataset, clusters = dt.create_data.createData(nclusters, dimensions, covariance, npoints,)\n",
    "dt.plots.plotData(clusters, title=\"Training Data\", clusters=clusters,\n",
    "                  minRange = minRange, maxRange = maxRange, covariance=covariance)"
   ]
  },
  {
   "cell_type": "code",
   "execution_count": null,
   "metadata": {},
   "outputs": [],
   "source": []
  },
  {
   "cell_type": "markdown",
   "metadata": {},
   "source": [
    "### Calculate the entropy over all possible split values in all dimensions (`calc_entropy attribute`)\n"
   ]
  },
  {
   "cell_type": "markdown",
   "metadata": {},
   "source": [
    "Now we can iterate the same procedure over the both splitted sides until there is no split left."
   ]
  },
  {
   "cell_type": "code",
   "execution_count": 10,
   "metadata": {},
   "outputs": [],
   "source": [
    "#%%writefile ./density_tree/decision_tree_traverse.py\n",
    "# Binary tree node to save binary tree nodes\n",
    "\n",
    "class Node:\n",
    "    \"\"\"\n",
    "    constructor for new nodes\n",
    "    # decision rule is the rule which splits labels in two groups labels_left and labels_right\n",
    "    # left_rule and right_rule are pointers to the rules that have to be used\n",
    "    # to further split labels_left and labels_right\n",
    "    \"\"\"\n",
    "\n",
    "    def __init__(self):\n",
    "        # data for node\n",
    "        self.parent = None  # parent node\n",
    "        self.labels = None  # the labels contained at this split level\n",
    "        self.split_value = None  # the split value\n",
    "        self.split_dimension = None  # the split dimension\n",
    "\n",
    "        # child nodes\n",
    "        self.left = None  # node to the left, e.g., for value < split_value\n",
    "        self.left_labels = None\n",
    "        self.right = None\n",
    "        self.right_labels = None\n",
    "\n",
    "    \"\"\"print data for node\"\"\"\n",
    "\n",
    "    def has_children(self):\n",
    "        if (self.right != None) & (self.right != None):\n",
    "            return True\n",
    "        return False\n",
    "\n",
    "    def __format__(self):\n",
    "        # print(\"rule: \" + self.decisionrule) # print a decision rule on one line as a string (e.g., `d(2) < 20`)\n",
    "        print(\"labels: \" + str(self.labels))\n",
    "        if self.has_children():\n",
    "            print(\"split dimension: \" + str(self.split_dimension))\n",
    "            print(\"split value: \" + str(self.split_value))\n",
    "\n",
    "    \"\"\"get tree depth\"\"\"\n",
    "    def depth(self):\n",
    "        left_depth = self.left.depth() if self.left else 0\n",
    "        right_depth = self.right.depth() if self.right else 0\n",
    "        return max(left_depth, right_depth) + 1\n",
    "\n",
    "    \"\"\"traversal methods\"\"\"\n",
    "    def traverse_inorder(self):\n",
    "        if self.left is not None:\n",
    "            self.left.traverse_inorder()\n",
    "        self.__format__()\n",
    "        if self.right is not None:\n",
    "            self.right.traverse_inorder\n",
    "\n",
    "    def traverse_preorder(self):\n",
    "        self.__format__()\n",
    "        if self.left is not None:\n",
    "            self.left.traverse_preorder()\n",
    "        if self.right is not None:\n",
    "            self.right.traverse_preorder()\n",
    "\n",
    "    def traverse_postorder(self):\n",
    "        if self.left is not None:\n",
    "            self.left.traverse_preorder()\n",
    "        if self.right is not None:\n",
    "            self.right.traverse_preorder()\n",
    "        self.__format__()\n",
    "        raise NotImplementedError\n",
    "        \n"
   ]
  },
  {
   "cell_type": "code",
   "execution_count": 11,
   "metadata": {},
   "outputs": [],
   "source": [
    "#%%writefile ./density_tree/decision_tree_create.py\n",
    "\"\"\"Functions for entropy and splitting\"\"\"\n",
    "\n",
    "import numpy as np\n",
    "import pandas as pd\n",
    "\n",
    "\n",
    "def split(dataset, index, split_value):  # [2]\n",
    "    \"\"\"\n",
    "    split a dataset (columns: variables, rows: data) in two according to some column (index) value.\n",
    "    :param dataset: input dataset\n",
    "    :param index: index of dimension to split values on\n",
    "    :param split_value: value of the dimension where the dataset is split\n",
    "    :return: left and right split datasets\n",
    "    \"\"\"\n",
    "    left, right = list(), list()\n",
    "    for row in dataset:\n",
    "        if row[index] < split_value:\n",
    "            left.append(row)\n",
    "        else:\n",
    "            right.append(row)\n",
    "    return left, right\n",
    "\n",
    "\n",
    "def entropy(labels, base=np.e):  # [1]\n",
    "    \"\"\"\n",
    "    Calculate the entropy for a set of labels.\n",
    "    :param labels: an array of labels\n",
    "    :param base: base of entropy, by default e\n",
    "    :return: entropy\n",
    "    \"\"\"\n",
    "    value, counts = np.unique(labels, return_counts=True)\n",
    "    norm_counts = counts / counts.sum()\n",
    "    return -(norm_counts * np.log(norm_counts) / np.log(base)).sum()\n",
    "\n",
    "def entropy_discrete(dataset, dim):\n",
    "    \"\"\"\n",
    "    calculate the entropy values for all cuts on one attribute (left<cut, right>=cut).\n",
    "    :param dataset: Input array with data and label in rows. The last column contains the labels.\n",
    "    :param dim: The index of the column for which the entropy should be computed.\n",
    "    :return: entropy values, corresponding split values\n",
    "    \"\"\"\n",
    "    x_vals, entropy_vals = list(), list()\n",
    "    uniquevals = (np.unique(dataset[:, dim]))\n",
    "    left_labels_unique, right_labels_unique = list(), list()\n",
    "    \n",
    "    # loop all possible split values\n",
    "    for split_x in uniquevals[1:]:\n",
    "        # append value\n",
    "        x_vals.append(split_x)\n",
    "\n",
    "        # split on value\n",
    "        left, right = split(dataset, dim, split_x)\n",
    "        left = np.asarray(left)\n",
    "        right = np.asarray(right)\n",
    "\n",
    "        # labels\n",
    "        left_labels = left[:, -1]  # last column = labels\n",
    "        right_labels = right[:, -1]\n",
    "\n",
    "        # unique labels\n",
    "        left_labels_unique.append(np.unique(left_labels))\n",
    "        right_labels_unique.append(np.unique(right_labels))\n",
    "\n",
    "        # entropy for split\n",
    "        left_entropy = entropy(left_labels, base=2)\n",
    "        right_entropy = entropy(right_labels, base=2)\n",
    "\n",
    "        # total entropy for attribute\n",
    "        # TODO change to information gain\n",
    "        entropy_attr_split = left_entropy * len(left) / len(dataset) + right_entropy * len(right) / len(dataset)\n",
    "        entropy_vals.append(entropy_attr_split)\n",
    "\n",
    "    return entropy_vals, x_vals, left_labels_unique, right_labels_unique\n",
    "\n",
    "\n",
    "def data_to_clusters(dataset):\n",
    "    \"\"\"Helper function to get clusters from estimated labels\"\"\"\n",
    "    clusters = []\n",
    "    for val in np.unique(dataset[:, 2]):\n",
    "        clusters.append(dataset[dataset[:, 2] == val])\n",
    "    return clusters\n",
    "\n",
    "\n",
    "def get_unique_labels(labels):\n",
    "    ul_side, ul_side_c = [], []\n",
    "\n",
    "    for i in labels:\n",
    "        ul_side_c.append(len(np.unique(i)))  # count of unique values on right side\n",
    "        if len(np.unique(i)) == 1:  # if there is only one label, print the label\n",
    "            ul_side.append(i)\n",
    "        else:  # if there are several labels, print the number of the labels\n",
    "            ul_side.append(i)\n",
    "            # ul_side.append('several')\n",
    "    return ul_side, ul_side_c\n",
    "\n",
    "\n",
    "def calc_entropy_attribute(dataset):\n",
    "    '''find the lowest entropy for a given attribute'''\n",
    "    dfs = []\n",
    "    entropy_attr = []\n",
    "    x_attr = []\n",
    "\n",
    "    for attribute_ind in range(np.shape(dataset, )[1] - 1): # loop over all attributes\n",
    "\n",
    "        # get the entropy for all cuts\n",
    "        entropy_vals_attr, xs_vals_attr, left_l_unique, right_l_unique = entropy_discrete(dataset,attribute_ind)\n",
    "        # get number of unique labels (= cluster) on both sides\n",
    "        ul_l, ul_l_c = get_unique_labels(left_l_unique)\n",
    "        ul_r, ul_r_c = get_unique_labels(right_l_unique)\n",
    "\n",
    "        # append values for all splits to dataframe\n",
    "        x_attr.append(xs_vals_attr)\n",
    "        entropy_attr.append(np.asarray(entropy_vals_attr))\n",
    "        \n",
    "        df = pd.DataFrame({'cut value': x_attr[attribute_ind],\n",
    "                           'entropy': list(entropy_attr[attribute_ind]),\n",
    "                           'left clusters': ul_l_c,\n",
    "                           'right clusters': ul_r_c,\n",
    "                           'left labels': ul_l,\n",
    "                           'right labels': ul_r},\n",
    "                          columns=['cut value', 'entropy', 'left clusters',\n",
    "                                   'right clusters', 'left labels', 'right labels'])\n",
    "        df.reset_index(inplace=True)\n",
    "        dfs.append(df)\n",
    "        \n",
    "    return dfs\n",
    "\n",
    "\n",
    "def get_best_attr(dfs):\n",
    "    \"\"\"get the attribute cutting which the information gain is highest\"\"\"\n",
    "    min_e = np.infty\n",
    "\n",
    "    for i in range(len(dfs)):  # loop all variables\n",
    "        df = dfs[i]\n",
    "        min_df_attr = df.loc[df['entropy'].argmin()]\n",
    "        if min_df_attr['entropy'] < min_e:\n",
    "            min_e = min_df_attr['entropy']\n",
    "            min_df = pd.DataFrame(min_df_attr.drop(\"index\")).transpose()\n",
    "            min_df[\"dimension\"] = i\n",
    "\n",
    "    return min_df  # value of lowest entropy after possible cut, cut value, dimension\n",
    "\n",
    "\n",
    "def next_split(left, right, results, root):\n",
    "    \"\"\"\n",
    "    recursive method to split variables on dimension until all variables are contained in one subspace. G\n",
    "    1. Get left (l) and right (r) based on split\n",
    "    2. Check if labels unique\n",
    "    3. Get entropies for all split values in ll rr\n",
    "    4. Recurse -> 1.\n",
    "    \"\"\"\n",
    "    for side in (left, right):  # loop both sides\n",
    "        dt_node = Node() # decision tree node]\n",
    "        dt_node.parent = root\n",
    "        dt_node.labels = np.unique(np.asarray(side)[:, -1])  # get variables (in last column)\n",
    "        \n",
    "        if np.array_equal(left, side):\n",
    "            dt_node.parent.left = dt_node\n",
    "        elif np.array_equal(right, side):\n",
    "            dt_node.parent.right = dt_node\n",
    "\n",
    "        \n",
    "        \n",
    "        if len(dt_node.labels) > 1:  # if there are still more than one labels in a side\n",
    "            side = np.asarray(side)\n",
    "            dfs = calc_entropy_attribute(side)  # get entropies for all attributes within side\n",
    "            min_df = get_best_attr(dfs)  # get best split value\n",
    "            # dataframe\n",
    "            results.append(min_df)\n",
    "            \n",
    "            dt_node.split_value = min_df[\"cut value\"].values[0]\n",
    "            dt_node.split_dimension = min_df[\"dimension\"].values[0]\n",
    "            left_new, right_new = split(side, \n",
    "                                        dt_node.split_dimension,\n",
    "                                        dt_node.split_value) # get new left and right labels\n",
    "            \n",
    "            # save results for dataframe\n",
    "            next_split(left_new, right_new, results, dt_node)  # split, recursion\n",
    "            \n",
    "def create_decision_tree(dimensions = 0, subsample = 0):\n",
    "    \"\"\"create decision tree be performing initial split,\n",
    "    then recursively splitting until all labels are in unique bins\n",
    "    \"\"\"\n",
    "    # TODO modify such as to take as entry number of variables to create tree on, number of data subsamples etc.\n",
    "    \n",
    "    root = Node() # initial node\n",
    "    # initial split\n",
    "    dfs = calc_entropy_attribute(dataset)\n",
    "    min_df = get_best_attr(dfs)\n",
    "    \n",
    "    root.split_value = min_df[\"cut value\"].values[0]\n",
    "    root.split_dimension = min_df[\"dimension\"].values[0]\n",
    "    root.labels = np.unique(dataset[:,-1])\n",
    "    \n",
    "    left,right=split(dataset, \n",
    "                 min_df[\"dimension\"].values[0], # dimension of min cut value\n",
    "                 min_df[\"cut value\"].values[0]) # min cut value\n",
    "    results=[min_df]\n",
    "    # recursively continue splitting\n",
    "    next_split(left, right, results, root) # iterate\n",
    "    return results, root"
   ]
  },
  {
   "cell_type": "code",
   "execution_count": 12,
   "metadata": {},
   "outputs": [],
   "source": [
    "results, root = create_decision_tree()\n",
    "df_results=pd.concat(results)"
   ]
  },
  {
   "cell_type": "code",
   "execution_count": 13,
   "metadata": {},
   "outputs": [
    {
     "data": {
      "text/plain": [
       "4"
      ]
     },
     "execution_count": 13,
     "metadata": {},
     "output_type": "execute_result"
    }
   ],
   "source": [
    "root.depth()"
   ]
  },
  {
   "cell_type": "code",
   "execution_count": 14,
   "metadata": {},
   "outputs": [
    {
     "data": {
      "text/html": [
       "<div>\n",
       "<style>\n",
       "    .dataframe thead tr:only-child th {\n",
       "        text-align: right;\n",
       "    }\n",
       "\n",
       "    .dataframe thead th {\n",
       "        text-align: left;\n",
       "    }\n",
       "\n",
       "    .dataframe tbody tr th {\n",
       "        vertical-align: top;\n",
       "    }\n",
       "</style>\n",
       "<table border=\"1\" class=\"dataframe\">\n",
       "  <thead>\n",
       "    <tr style=\"text-align: right;\">\n",
       "      <th></th>\n",
       "      <th>cut value</th>\n",
       "      <th>entropy</th>\n",
       "      <th>left clusters</th>\n",
       "      <th>right clusters</th>\n",
       "      <th>left labels</th>\n",
       "      <th>right labels</th>\n",
       "      <th>dimension</th>\n",
       "    </tr>\n",
       "  </thead>\n",
       "  <tbody>\n",
       "    <tr>\n",
       "      <th>19</th>\n",
       "      <td>44.4899</td>\n",
       "      <td>2</td>\n",
       "      <td>4</td>\n",
       "      <td>4</td>\n",
       "      <td>[1.0, 2.0, 4.0, 8.0]</td>\n",
       "      <td>[3.0, 5.0, 6.0, 7.0]</td>\n",
       "      <td>0</td>\n",
       "    </tr>\n",
       "    <tr>\n",
       "      <th>9</th>\n",
       "      <td>83.857</td>\n",
       "      <td>1</td>\n",
       "      <td>2</td>\n",
       "      <td>2</td>\n",
       "      <td>[2.0, 8.0]</td>\n",
       "      <td>[1.0, 4.0]</td>\n",
       "      <td>1</td>\n",
       "    </tr>\n",
       "    <tr>\n",
       "      <th>4</th>\n",
       "      <td>57.8738</td>\n",
       "      <td>-0</td>\n",
       "      <td>1</td>\n",
       "      <td>1</td>\n",
       "      <td>[8.0]</td>\n",
       "      <td>[2.0]</td>\n",
       "      <td>1</td>\n",
       "    </tr>\n",
       "    <tr>\n",
       "      <th>4</th>\n",
       "      <td>36.0905</td>\n",
       "      <td>-0</td>\n",
       "      <td>1</td>\n",
       "      <td>1</td>\n",
       "      <td>[1.0]</td>\n",
       "      <td>[4.0]</td>\n",
       "      <td>0</td>\n",
       "    </tr>\n",
       "    <tr>\n",
       "      <th>9</th>\n",
       "      <td>72.7715</td>\n",
       "      <td>1</td>\n",
       "      <td>2</td>\n",
       "      <td>2</td>\n",
       "      <td>[3.0, 6.0]</td>\n",
       "      <td>[5.0, 7.0]</td>\n",
       "      <td>0</td>\n",
       "    </tr>\n",
       "    <tr>\n",
       "      <th>4</th>\n",
       "      <td>48.5169</td>\n",
       "      <td>-0</td>\n",
       "      <td>1</td>\n",
       "      <td>1</td>\n",
       "      <td>[3.0]</td>\n",
       "      <td>[6.0]</td>\n",
       "      <td>0</td>\n",
       "    </tr>\n",
       "    <tr>\n",
       "      <th>4</th>\n",
       "      <td>70.7154</td>\n",
       "      <td>-0</td>\n",
       "      <td>1</td>\n",
       "      <td>1</td>\n",
       "      <td>[5.0]</td>\n",
       "      <td>[7.0]</td>\n",
       "      <td>1</td>\n",
       "    </tr>\n",
       "  </tbody>\n",
       "</table>\n",
       "</div>"
      ],
      "text/plain": [
       "   cut value entropy left clusters right clusters           left labels  \\\n",
       "19   44.4899       2             4              4  [1.0, 2.0, 4.0, 8.0]   \n",
       "9     83.857       1             2              2            [2.0, 8.0]   \n",
       "4    57.8738      -0             1              1                 [8.0]   \n",
       "4    36.0905      -0             1              1                 [1.0]   \n",
       "9    72.7715       1             2              2            [3.0, 6.0]   \n",
       "4    48.5169      -0             1              1                 [3.0]   \n",
       "4    70.7154      -0             1              1                 [5.0]   \n",
       "\n",
       "            right labels  dimension  \n",
       "19  [3.0, 5.0, 6.0, 7.0]          0  \n",
       "9             [1.0, 4.0]          1  \n",
       "4                  [2.0]          1  \n",
       "4                  [4.0]          0  \n",
       "9             [5.0, 7.0]          0  \n",
       "4                  [6.0]          0  \n",
       "4                  [7.0]          1  "
      ]
     },
     "metadata": {},
     "output_type": "display_data"
    },
    {
     "data": {
      "image/png": "[encoded data removed]",
      "text/plain": [
       "<matplotlib.figure.Figure at 0x113a9ae80>"
      ]
     },
     "metadata": {},
     "output_type": "display_data"
    }
   ],
   "source": [
    "x_split=df_results[df_results[\"dimension\"]==0][\"cut value\"].values\n",
    "y_split=df_results[df_results[\"dimension\"]==1][\"cut value\"].values\n",
    "\n",
    "display(df_results)\n",
    "dt.plots.plotData_tree_split(clusters, x_split, y_split, title=\"Training data after splitting\",\n",
    "                            minRange = minRange, maxRange = maxRange, covariance=covariance)"
   ]
  },
  {
   "cell_type": "markdown",
   "metadata": {},
   "source": [
    "Next, we will output the decision forest to produce a $\\LaTeX$ figure."
   ]
  },
  {
   "cell_type": "code",
   "execution_count": 15,
   "metadata": {},
   "outputs": [],
   "source": [
    "def print_rule(root):\n",
    "    rule_string = str(root.split_dimension)+\"$<$\"+str(np.round(root.split_value,1))\n",
    "    return rule_string\n",
    "    #print(root.split_dimension,end=\"\")\n",
    "\n",
    "def printstuff(node,tree_string):\n",
    "    tree_string+=\"[\"\n",
    "    if len(node.labels) > 1:\n",
    "        tree_string += print_rule(node)\n",
    "        print_rule(node)\n",
    "    else:\n",
    "        tree_string+=str(int(node.labels))\n",
    "    \n",
    "    if node.has_children():\n",
    "        tree_string =  printstuff(node.left,tree_string)\n",
    "        tree_string =  printstuff(node.right,tree_string)\n",
    "    tree_string+=\"]\"\n",
    "    \n",
    "    return tree_string\n",
    "tree_string=\"\"\n",
    "tree_string = printstuff(root,tree_string)"
   ]
  },
  {
   "cell_type": "code",
   "execution_count": 16,
   "metadata": {},
   "outputs": [
    {
     "data": {
      "text/html": [
       "\n",
       "        <iframe\n",
       "            width=\"600\"\n",
       "            height=\"300\"\n",
       "            src=\"./figures/main.pdf\"\n",
       "            frameborder=\"0\"\n",
       "            allowfullscreen\n",
       "        ></iframe>\n",
       "        "
      ],
      "text/plain": [
       "<IPython.lib.display.IFrame at 0x11312a940>"
      ]
     },
     "execution_count": 16,
     "metadata": {},
     "output_type": "execute_result"
    }
   ],
   "source": [
    "import os\n",
    "os.system(\"cd figures; rm main.tex; more main_pt1.tex >> main.tex; echo '' >> main.tex;  echo '\" + tree_string + \"' >> main.tex;  more main_pt2.tex >> main.tex;\")\n",
    "os.system(\"cd figures; pdflatex main.tex\")\n",
    "from IPython.display import IFrame\n",
    "IFrame(\"./figures/main.pdf\", width=600, height=300)"
   ]
  },
  {
   "cell_type": "markdown",
   "metadata": {},
   "source": [
    "## Test data set on regular grid\n",
    "Next, we want to estimate the label of a new data point from the decision tree just built. We will always follow the path of strongest reduction of entropy."
   ]
  },
  {
   "cell_type": "code",
   "execution_count": 17,
   "metadata": {},
   "outputs": [],
   "source": [
    "def descend_decision_tree(data_test, node):\n",
    "    \"\"\"given some test data and decision tree, assign the correct label using a decision tree\"\"\"\n",
    "    \n",
    "    # check left or right side\n",
    "    if len(node.labels) == 1:  # if there is only one label, return it\n",
    "        return int(node.labels)\n",
    "    \n",
    "    if data_test[node.split_dimension] < node.split_value:  # split to the left    \n",
    "        return descend_decision_tree(data_test, node.left)\n",
    "    else:  # split to the right\n",
    "        return descend_decision_tree(data_test, node.right)"
   ]
  },
  {
   "cell_type": "code",
   "execution_count": 18,
   "metadata": {},
   "outputs": [],
   "source": [
    "dataset_test_eval=[]\n",
    "spacing=3\n",
    "for i in [[x,y] for x in range(minRange,maxRange,spacing) for y in range(minRange,maxRange,spacing)]:\n",
    "    label=descend_decision_tree(i,root)\n",
    "    dataset_test_eval.append(np.concatenate([i,[label]]))\n",
    "    \n",
    "dataset_test_eval=np.asarray(dataset_test_eval)"
   ]
  },
  {
   "cell_type": "code",
   "execution_count": 19,
   "metadata": {},
   "outputs": [
    {
     "data": {
      "image/png": "[encoded data removed]",
      "text/plain": [
       "<matplotlib.figure.Figure at 0x11310f1d0>"
      ]
     },
     "metadata": {},
     "output_type": "display_data"
    },
    {
     "data": {
      "image/png": "[encoded data removed]",
      "text/plain": [
       "<matplotlib.figure.Figure at 0x11310f2b0>"
      ]
     },
     "metadata": {},
     "output_type": "display_data"
    }
   ],
   "source": [
    "clusters_eval=data_to_clusters(dataset_test_eval)\n",
    "dt.plots.plotData_tree_split(clusters_eval, x_split, y_split, \"Test Data and Splits of Training Data\")\n",
    "dt.plots.plotData_tree_split(clusters, x_split, y_split, \"Training Data and Splits\")"
   ]
  },
  {
   "cell_type": "code",
   "execution_count": null,
   "metadata": {},
   "outputs": [],
   "source": []
  }
 ],
 "metadata": {
  "kernelspec": {
   "display_name": "Python 3",
   "language": "python",
   "name": "python3"
  },
  "language_info": {
   "codemirror_mode": {
    "name": "ipython",
    "version": 3
   },
   "file_extension": ".py",
   "mimetype": "text/x-python",
   "name": "python",
   "nbconvert_exporter": "python",
   "pygments_lexer": "ipython3",
   "version": "3.6.1"
  }
 },
 "nbformat": 4,
 "nbformat_minor": 2
}
