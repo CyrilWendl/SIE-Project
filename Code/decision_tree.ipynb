{
 "cells": [
  {
   "cell_type": "markdown",
   "metadata": {},
   "source": [
    "# Decision Tree for N-dimensional data and labels\n",
    "The code below implements a decision tree calculated on all the data, for one label depending on several independent variables."
   ]
  },
  {
   "cell_type": "markdown",
   "metadata": {},
   "source": [
    "## Libraries\n",
    "First, some libraries are loaded and global figure settings are made for exporting."
   ]
  },
  {
   "cell_type": "code",
   "execution_count": 9,
   "metadata": {},
   "outputs": [],
   "source": [
    "import numpy as np\n",
    "import matplotlib.pyplot as plt\n",
    "import pandas as pd\n",
    "from math import log, e\n",
    "import random\n",
    "import sys\n"
   ]
  },
  {
   "cell_type": "markdown",
   "metadata": {},
   "source": [
    "### Custom Libraries"
   ]
  },
  {
   "cell_type": "code",
   "execution_count": 10,
   "metadata": {},
   "outputs": [],
   "source": [
    "import density_tree as dt"
   ]
  },
  {
   "cell_type": "markdown",
   "metadata": {},
   "source": [
    "The methods implemented for producing a decision tree can be found in the python files under the package `density_tree`.\n"
   ]
  },
  {
   "cell_type": "markdown",
   "metadata": {},
   "source": [
    "# Unsupervised entropy with unlabelled clusters\n",
    "Below are some functions that compute an optimal split for unlabelled data, using the differential entropy of a d-variate Gaussian density. \n",
    "\n",
    "First, let's generate some unlabelled data:\n"
   ]
  },
  {
   "cell_type": "code",
   "execution_count": 65,
   "metadata": {},
   "outputs": [
    {
     "data": {
      "image/png": "[encoded data removed]",
      "text/plain": [
       "<matplotlib.figure.Figure at 0x1136d0668>"
      ]
     },
     "metadata": {},
     "output_type": "display_data"
    }
   ],
   "source": [
    "dimensions = 2\n",
    "nclusters = 2\n",
    "covariance = 2\n",
    "npoints = 20\n",
    "minrange = 0\n",
    "maxrange = 100\n",
    "\n",
    "dataset, clusters = dt.create_data.createData(nclusters, dimensions, covariance, npoints)\n",
    "dataset=dataset[:,:-1]\n",
    "plt.scatter(dataset[:,0],dataset[:,1],)\n",
    "plt.grid()\n",
    "plt.show()"
   ]
  },
  {
   "cell_type": "markdown",
   "metadata": {},
   "source": [
    "Now, we want to get the best split, say, along the x-axis."
   ]
  },
  {
   "cell_type": "markdown",
   "metadata": {},
   "source": [
    "test set for differential Gaussian entropy function"
   ]
  },
  {
   "cell_type": "code",
   "execution_count": 67,
   "metadata": {},
   "outputs": [
    {
     "ename": "NameError",
     "evalue": "name 'plotData_tree_split' is not defined",
     "output_type": "error",
     "traceback": [
      "\u001b[0;31m---------------------------------------------------------------------------\u001b[0m",
      "\u001b[0;31mNameError\u001b[0m                                 Traceback (most recent call last)",
      "\u001b[0;32m<ipython-input-67-ab559cb7255e>\u001b[0m in \u001b[0;36m<module>\u001b[0;34m()\u001b[0m\n\u001b[0;32m----> 1\u001b[0;31m \u001b[0mplotData_tree_split\u001b[0m\u001b[0;34m(\u001b[0m\u001b[0mdataset\u001b[0m\u001b[0;34m,\u001b[0m \u001b[0mtitle\u001b[0m\u001b[0;34m=\u001b[0m\u001b[0;34m\"Training Data\"\u001b[0m\u001b[0;34m,\u001b[0m \u001b[0mlinesX\u001b[0m \u001b[0;34m=\u001b[0m \u001b[0;34m[\u001b[0m\u001b[0msplit_vals_opt\u001b[0m\u001b[0;34m]\u001b[0m\u001b[0;34m,\u001b[0m \u001b[0mlinesY\u001b[0m\u001b[0;34m=\u001b[0m\u001b[0;34m[\u001b[0m\u001b[0;34m]\u001b[0m\u001b[0;34m,\u001b[0m \u001b[0mlabels\u001b[0m \u001b[0;34m=\u001b[0m \u001b[0;32mFalse\u001b[0m\u001b[0;34m)\u001b[0m\u001b[0;34m\u001b[0m\u001b[0m\n\u001b[0m",
      "\u001b[0;31mNameError\u001b[0m: name 'plotData_tree_split' is not defined"
     ]
    }
   ],
   "source": [
    "plotData_tree_split(dataset, title=\"Training Data\", linesX = [split_vals_opt], linesY=[], labels = False) "
   ]
  },
  {
   "cell_type": "markdown",
   "metadata": {},
   "source": [
    "# Labelled data"
   ]
  },
  {
   "cell_type": "code",
   "execution_count": 83,
   "metadata": {},
   "outputs": [
    {
     "data": {
      "image/png": "[encoded data removed]",
      "text/plain": [
       "<matplotlib.figure.Figure at 0x113fb7da0>"
      ]
     },
     "metadata": {},
     "output_type": "display_data"
    }
   ],
   "source": [
    "# cluster parameters\n",
    "nclusters=6\n",
    "dimensions=2\n",
    "covariance=5\n",
    "minRange=0\n",
    "maxRange=100\n",
    "npoints=5\n",
    "\n",
    "    \n",
    "dataset, clusters = dt.create_data.createData(nclusters, dimensions, covariance, npoints,)\n",
    "dt.plots.plotData(clusters, title=\"Training Data\", clusters=clusters,\n",
    "                  minRange = minRange, maxRange = maxRange, covariance=covariance)"
   ]
  },
  {
   "cell_type": "markdown",
   "metadata": {},
   "source": [
    "### Calculate the entropy over all possible split values in all dimensions (`calc_entropy attribute`)\n"
   ]
  },
  {
   "cell_type": "markdown",
   "metadata": {},
   "source": [
    "Now we can iterate the same procedure over the both splitted sides until there is no split left."
   ]
  },
  {
   "cell_type": "code",
   "execution_count": null,
   "metadata": {},
   "outputs": [],
   "source": []
  },
  {
   "cell_type": "code",
   "execution_count": 183,
   "metadata": {},
   "outputs": [],
   "source": [
    "# Binary tree node to save binary tree nodes\n",
    "class Node:\n",
    "    \"\"\"\n",
    "    constructor for new nodes\n",
    "    # decision rule is the rule which splits labels in two groups labels_left and labels_right\n",
    "    # left_rule and right_rule are pointers to the rules that have to be used \n",
    "    # to further split labels_left and labels_right\n",
    "    \"\"\"\n",
    "\n",
    "    def __init__(self):\n",
    "        # data for node\n",
    "        self.parent = None  # parent node\n",
    "        self.split_value = None  # the split value\n",
    "        self.dimension = None  # the split dimension\n",
    "        self.labels = None  # the labels contained at this split level\n",
    "\n",
    "        # child nodes\n",
    "        self.left = None  # node to the left, e.g., for value < split_value\n",
    "        self.left_labels = None\n",
    "        self.right = None\n",
    "        self.right_labels = None\n",
    "\n",
    "    def traverse_inorder(self):\n",
    "        # TODO test\n",
    "        if self.left is not None:\n",
    "            self.left.traverse_inorder()\n",
    "        self.__format__()\n",
    "        if self.right is not None:\n",
    "            self.right.traverse_inorder\n",
    "\n",
    "    def traverse_preorder(self):\n",
    "        # TODO test\n",
    "        self.__format__()\n",
    "        if self.left is not None:\n",
    "            self.left.traverse_preorder()\n",
    "        if self.right is not None:\n",
    "            self.right.traverse_preorder()\n",
    "\n",
    "    def traverse_postorder(self):\n",
    "        # TODO implement\n",
    "        raise NotImplementedError\n",
    "\n",
    "    def __format__(self):\n",
    "        # print(\"rule: \" + self.decisionrule) # print a decision rule on one line as a string (e.g., `d(2) < 20`)\n",
    "        print(\"labels: \" + str(self.labels))\n",
    "        print(\"dimension: \" + str(self.dimension))\n",
    "        print(\"split value: \" + str(self.split_value))\n",
    "        if self.left is not None:\n",
    "            print(\"has left\")\n",
    "        if self.right is not None:\n",
    "            print(\"has right\")\n"
   ]
  },
  {
   "cell_type": "code",
   "execution_count": 184,
   "metadata": {},
   "outputs": [],
   "source": [
    "\"\"\"Functions for entropy and splitting\"\"\"\n",
    "\n",
    "import numpy as np\n",
    "import pandas as pd\n",
    "\n",
    "\n",
    "def split(dataset, index, split_value):  # [2]\n",
    "    \"\"\"\n",
    "    split a dataset (columns: variables, rows: data) in two according to some column (index) value.\n",
    "    :param dataset: input dataset\n",
    "    :param index: index of dimension to split values on\n",
    "    :param split_value: value of the dimension where the dataset is split\n",
    "    :return: left and right split datasets\n",
    "    \"\"\"\n",
    "    left, right = list(), list()\n",
    "    for row in dataset:\n",
    "        if row[index] < split_value:\n",
    "            left.append(row)\n",
    "        else:\n",
    "            right.append(row)\n",
    "    return left, right\n",
    "\n",
    "\n",
    "def entropy(labels, base=np.e):  # [1]\n",
    "    \"\"\"\n",
    "    Calculate the entropy for a set of labels.\n",
    "    :param labels: an array of labels\n",
    "    :param base: base of entropy, by default e\n",
    "    :return: entropy\n",
    "    \"\"\"\n",
    "    value, counts = np.unique(labels, return_counts=True)\n",
    "    norm_counts = counts / counts.sum()\n",
    "    return -(norm_counts * np.log(norm_counts) / np.log(base)).sum()\n",
    "\n",
    "def entropy_discrete(dataset, dim):\n",
    "    \"\"\"\n",
    "    calculate the entropy values for all cuts on one attribute (left<cut, right>=cut).\n",
    "    :param dataset: Input array with data and label in rows. The last column contains the labels.\n",
    "    :param dim: The index of the column for which the entropy should be computed.\n",
    "    :return: entropy values, corresponding split values\n",
    "    \"\"\"\n",
    "    x_vals, entropy_vals = list(), list()\n",
    "    uniquevals = (np.unique(dataset[:, dim]))\n",
    "    left_labels_unique, right_labels_unique = list(), list()\n",
    "    \n",
    "    # loop all possible split values\n",
    "    for split_x in uniquevals[1:]:\n",
    "        # append value\n",
    "        x_vals.append(split_x)\n",
    "\n",
    "        # split on value\n",
    "        left, right = split(dataset, dim, split_x)\n",
    "        left = np.asarray(left)\n",
    "        right = np.asarray(right)\n",
    "\n",
    "        # labels\n",
    "        left_labels = left[:, -1]  # last column = labels\n",
    "        right_labels = right[:, -1]\n",
    "\n",
    "        # unique labels\n",
    "        left_labels_unique.append(np.unique(left_labels))\n",
    "        right_labels_unique.append(np.unique(right_labels))\n",
    "\n",
    "        # entropy for split\n",
    "        left_entropy = entropy(left_labels, base=2)\n",
    "        right_entropy = entropy(right_labels, base=2)\n",
    "\n",
    "        # total entropy for attribute\n",
    "        # TODO change to information gain\n",
    "        entropy_attr_split = left_entropy * len(left) / len(dataset) + right_entropy * len(right) / len(dataset)\n",
    "        entropy_vals.append(entropy_attr_split)\n",
    "\n",
    "    return entropy_vals, x_vals, left_labels_unique, right_labels_unique\n",
    "\n",
    "\n",
    "def data_to_clusters(dataset):\n",
    "    \"\"\"Helper function to get clusters from estimated labels\"\"\"\n",
    "    clusters = []\n",
    "    for val in np.unique(dataset[:, 2]):\n",
    "        clusters.append(dataset[dataset[:, 2] == val])\n",
    "    return clusters\n",
    "\n",
    "\n",
    "def get_unique_labels(labels):\n",
    "    ul_side, ul_side_c = [], []\n",
    "\n",
    "    for i in labels:\n",
    "        ul_side_c.append(len(np.unique(i)))  # count of unique values on right side\n",
    "        if len(np.unique(i)) == 1:  # if there is only one label, print the label\n",
    "            ul_side.append(i)\n",
    "        else:  # if there are several labels, print the number of the labels\n",
    "            ul_side.append(i)\n",
    "            # ul_side.append('several')\n",
    "    return ul_side, ul_side_c\n",
    "\n",
    "\n",
    "def calc_entropy_attribute(dataset):\n",
    "    '''find the lowest entropy for a given attribute'''\n",
    "    dfs = []\n",
    "    entropy_attr = []\n",
    "    x_attr = []\n",
    "\n",
    "    for attribute_ind in range(np.shape(dataset, )[1] - 1): # loop over all attributes\n",
    "\n",
    "        # get the entropy for all cuts\n",
    "        entropy_vals_attr, xs_vals_attr, left_l_unique, right_l_unique = entropy_discrete(dataset,attribute_ind)\n",
    "        # get number of unique labels (= cluster) on both sides\n",
    "        ul_l, ul_l_c = get_unique_labels(left_l_unique)\n",
    "        ul_r, ul_r_c = get_unique_labels(right_l_unique)\n",
    "\n",
    "        # append values for all splits to dataframe\n",
    "        x_attr.append(xs_vals_attr)\n",
    "        entropy_attr.append(np.asarray(entropy_vals_attr))\n",
    "        \n",
    "        df = pd.DataFrame({'cut value': x_attr[attribute_ind],\n",
    "                           'entropy': list(entropy_attr[attribute_ind]),\n",
    "                           'left clusters': ul_l_c,\n",
    "                           'right clusters': ul_r_c,\n",
    "                           'left labels': ul_l,\n",
    "                           'right labels': ul_r},\n",
    "                          columns=['cut value', 'entropy', 'left clusters',\n",
    "                                   'right clusters', 'left labels', 'right labels'])\n",
    "        df.reset_index(inplace=True)\n",
    "        dfs.append(df)\n",
    "        \n",
    "    return dfs\n",
    "\n",
    "\n",
    "def get_best_attr(dfs):\n",
    "    \"\"\"get the attribute cutting which the information gain is highest\"\"\"\n",
    "    min_e = np.infty\n",
    "\n",
    "    for i in range(len(dfs)):  # loop all variables\n",
    "        df = dfs[i]\n",
    "        min_df_attr = df.loc[df['entropy'].argmin()]\n",
    "        if min_df_attr['entropy'] < min_e:\n",
    "            min_e = min_df_attr['entropy']\n",
    "            min_df = pd.DataFrame(min_df_attr.drop(\"index\")).transpose()\n",
    "            min_df[\"dimension\"] = i\n",
    "\n",
    "    return min_df  # value of lowest entropy after possible cut, cut value, dimension\n",
    "\n",
    "\n",
    "def next_split(left, right, results, root):\n",
    "    \"\"\"\n",
    "    recursive method to split variables on dimension until all variables are contained in one subspace. G\n",
    "    1. Get left (l) and right (r) based on split\n",
    "    2. Check if labels unique\n",
    "    3. Get entropies for all split values in ll rr\n",
    "    4. Recurse -> 1.\n",
    "    \"\"\"\n",
    "    for side in (left, right):  # loop both sides\n",
    "        dt_node = Node() # decision tree node]\n",
    "        dt_node.parent = root\n",
    "\n",
    "        dt_node.labels = np.asarray(side)[:, -1]  # get variables (in last column)\n",
    "        side = np.asarray(side)\n",
    "        if len(np.unique(np.asarray(side)[:, 2])) != 1:  # if there are still more than one labels in a side\n",
    "            dfs = calc_entropy_attribute(side)  # get entropies for all attributes within side\n",
    "            min_df = get_best_attr(dfs)  # get best split value\n",
    "            \n",
    "            dt_node.split_value = min_df[\"cut value\"].values[0]\n",
    "            dt_node.dimension = min_df[\"dimension\"].values[0]\n",
    "            if np.array_equal(left, side):\n",
    "                dt_node.parent.left = dt_node\n",
    "            elif np.array_equal(right, side):\n",
    "                dt_node.parent.right = dt_node\n",
    "            left_new, right_new = split(side, \n",
    "                                        min_df[\"dimension\"].values[0],\n",
    "                                        min_df[\"cut value\"].values[0]) # get new left and right labels\n",
    "            # save results for dataframe\n",
    "            results.append(min_df)\n",
    "            next_split(left_new, right_new, results, dt_node)  # split, recursion\n"
   ]
  },
  {
   "cell_type": "code",
   "execution_count": null,
   "metadata": {},
   "outputs": [],
   "source": []
  },
  {
   "cell_type": "code",
   "execution_count": 185,
   "metadata": {},
   "outputs": [],
   "source": [
    "# get left (l) and right (r) based on split\n",
    "# check if labels unique \n",
    "# get entropies for all split values in ll rr\n",
    "# recurse            \n",
    "            \n",
    "# initial split\n",
    "def create_decision_tree(dimensions = 0, subsample = 0):\n",
    "    \"\"\"create decision tree be performing initial split, then recursively splitting until all labels are in unique bins\"\"\"\n",
    "    # TODO modify such as to take as entry number of variables to create tree on, number of data subsamples etc.\n",
    "    \n",
    "    root = Node() # initial node\n",
    "    # initial split\n",
    "    dfs = calc_entropy_attribute(dataset)\n",
    "    min_df = get_best_attr(dfs)\n",
    "    \n",
    "    root.split_value = min_df[\"cut value\"].values[0]\n",
    "    root.dimension = min_df[\"dimension\"].values[0]\n",
    "    root.labels = dataset[:,-1]\n",
    "    left,right=split(dataset, \n",
    "                 min_df[\"dimension\"].values[0], # dimension of min cut value\n",
    "                 min_df[\"cut value\"].values[0]) # min cut value\n",
    "    results=[min_df]\n",
    "    \n",
    "    # recursively continue splitting\n",
    "    next_split(left, right, results, root) # iterate\n",
    "    return results, root\n",
    "\n",
    "results, root = create_decision_tree()\n",
    "#df_results=pd.concat(results)"
   ]
  },
  {
   "cell_type": "code",
   "execution_count": 188,
   "metadata": {
    "collapsed": true
   },
   "outputs": [
    {
     "name": "stdout",
     "output_type": "stream",
     "text": [
      "labels: [ 1.  1.  1.  1.  1.  2.  2.  2.  2.  2.  3.  3.  3.  3.  3.  4.  4.  4.\n",
      "  4.  4.  5.  5.  5.  5.  5.  6.  6.  6.  6.  6.]\n",
      "dimension: 0\n",
      "split value: 31.1186115962\n",
      "has left\n",
      "has right\n",
      "labels: [ 2.  2.  2.  2.  2.  4.  4.  4.  4.  4.]\n",
      "dimension: 1\n",
      "split value: 70.4415159843\n",
      "labels: [ 1.  1.  1.  1.  1.  3.  3.  3.  3.  3.  5.  5.  5.  5.  5.  6.  6.  6.\n",
      "  6.  6.]\n",
      "dimension: 0\n",
      "split value: 76.8395407102\n",
      "has left\n",
      "has right\n",
      "labels: [ 5.  5.  5.  5.  5.  6.  6.  6.  6.  6.]\n",
      "dimension: 1\n",
      "split value: 41.8918802521\n",
      "labels: [ 1.  1.  1.  1.  1.  3.  3.  3.  3.  3.]\n",
      "dimension: 0\n",
      "split value: 84.5672055421\n"
     ]
    }
   ],
   "source": [
    "root.traverse_preorder()"
   ]
  },
  {
   "cell_type": "code",
   "execution_count": 189,
   "metadata": {},
   "outputs": [
    {
     "data": {
      "text/html": [
       "<div>\n",
       "<style>\n",
       "    .dataframe thead tr:only-child th {\n",
       "        text-align: right;\n",
       "    }\n",
       "\n",
       "    .dataframe thead th {\n",
       "        text-align: left;\n",
       "    }\n",
       "\n",
       "    .dataframe tbody tr th {\n",
       "        vertical-align: top;\n",
       "    }\n",
       "</style>\n",
       "<table border=\"1\" class=\"dataframe\">\n",
       "  <thead>\n",
       "    <tr style=\"text-align: right;\">\n",
       "      <th></th>\n",
       "      <th>cut value</th>\n",
       "      <th>entropy</th>\n",
       "      <th>left clusters</th>\n",
       "      <th>right clusters</th>\n",
       "      <th>left labels</th>\n",
       "      <th>right labels</th>\n",
       "      <th>dimension</th>\n",
       "    </tr>\n",
       "  </thead>\n",
       "  <tbody>\n",
       "    <tr>\n",
       "      <th>14</th>\n",
       "      <td>61.0692</td>\n",
       "      <td>1.58496</td>\n",
       "      <td>3</td>\n",
       "      <td>3</td>\n",
       "      <td>[3.0, 4.0, 5.0]</td>\n",
       "      <td>[1.0, 2.0, 6.0]</td>\n",
       "      <td>0</td>\n",
       "    </tr>\n",
       "    <tr>\n",
       "      <th>4</th>\n",
       "      <td>8.53367</td>\n",
       "      <td>0.666667</td>\n",
       "      <td>1</td>\n",
       "      <td>2</td>\n",
       "      <td>[5.0]</td>\n",
       "      <td>[3.0, 4.0]</td>\n",
       "      <td>0</td>\n",
       "    </tr>\n",
       "    <tr>\n",
       "      <th>4</th>\n",
       "      <td>52.9096</td>\n",
       "      <td>-0</td>\n",
       "      <td>1</td>\n",
       "      <td>1</td>\n",
       "      <td>[4.0]</td>\n",
       "      <td>[3.0]</td>\n",
       "      <td>0</td>\n",
       "    </tr>\n",
       "    <tr>\n",
       "      <th>9</th>\n",
       "      <td>88.7964</td>\n",
       "      <td>0.666667</td>\n",
       "      <td>2</td>\n",
       "      <td>1</td>\n",
       "      <td>[1.0, 2.0]</td>\n",
       "      <td>[6.0]</td>\n",
       "      <td>0</td>\n",
       "    </tr>\n",
       "    <tr>\n",
       "      <th>4</th>\n",
       "      <td>51.2133</td>\n",
       "      <td>-0</td>\n",
       "      <td>1</td>\n",
       "      <td>1</td>\n",
       "      <td>[1.0]</td>\n",
       "      <td>[2.0]</td>\n",
       "      <td>1</td>\n",
       "    </tr>\n",
       "  </tbody>\n",
       "</table>\n",
       "</div>"
      ],
      "text/plain": [
       "   cut value   entropy left clusters right clusters      left labels  \\\n",
       "14   61.0692   1.58496             3              3  [3.0, 4.0, 5.0]   \n",
       "4    8.53367  0.666667             1              2            [5.0]   \n",
       "4    52.9096        -0             1              1            [4.0]   \n",
       "9    88.7964  0.666667             2              1       [1.0, 2.0]   \n",
       "4    51.2133        -0             1              1            [1.0]   \n",
       "\n",
       "       right labels  dimension  \n",
       "14  [1.0, 2.0, 6.0]          0  \n",
       "4        [3.0, 4.0]          0  \n",
       "4             [3.0]          0  \n",
       "9             [6.0]          0  \n",
       "4             [2.0]          1  "
      ]
     },
     "metadata": {},
     "output_type": "display_data"
    },
    {
     "data": {
      "image/png": "[encoded data removed]",
      "text/plain": [
       "<matplotlib.figure.Figure at 0x11405f588>"
      ]
     },
     "metadata": {},
     "output_type": "display_data"
    }
   ],
   "source": [
    "x_split=df_results[df_results[\"dimension\"]==0][\"cut value\"].values\n",
    "y_split=df_results[df_results[\"dimension\"]==1][\"cut value\"].values\n",
    "\n",
    "display(df_results)\n",
    "dt.plots.plotData_tree_split(clusters, x_split, y_split, title=\"Training data after splitting\",\n",
    "                            minRange = minRange, maxRange = maxRange, covariance=covariance)"
   ]
  },
  {
   "cell_type": "markdown",
   "metadata": {},
   "source": [
    "Visualize decision tree structure"
   ]
  },
  {
   "cell_type": "markdown",
   "metadata": {},
   "source": [
    "We will now set up a data structure to save the decision strucutre, left and right labels and pointers to the next decision rule."
   ]
  },
  {
   "cell_type": "markdown",
   "metadata": {},
   "source": [
    "We will now extract the decision tree according to the explanations below."
   ]
  },
  {
   "cell_type": "code",
   "execution_count": 133,
   "metadata": {},
   "outputs": [
    {
     "data": {
      "text/plain": [
       "61.069189053511657"
      ]
     },
     "execution_count": 133,
     "metadata": {},
     "output_type": "execute_result"
    }
   ],
   "source": [
    "decision_tree[0].split_value"
   ]
  },
  {
   "cell_type": "code",
   "execution_count": null,
   "metadata": {},
   "outputs": [],
   "source": []
  },
  {
   "cell_type": "code",
   "execution_count": 124,
   "metadata": {},
   "outputs": [],
   "source": [
    "def decision_string(ind, df):\n",
    "        \"\"\"print a decision rule on one line as a string (e.g., `d(2) < 20`)\"\"\"\n",
    "        thisrow = df.iloc[ind]\n",
    "        other_dim=thisrow.loc[\"dimension\"]\n",
    "        other_val=thisrow.loc[\"cut value\"]\n",
    "        string = \"d(\" + str(other_dim) + \") < \" + str(other_val)\n",
    "        return string\n",
    "\n",
    "def traverse_tree(df,decision_tree):\n",
    "    # initialize new node\n",
    "    node = Node()\n",
    "    \n",
    "    # get labels left and right\n",
    "    labels = np.asarray(df[[\"left labels\",\"right labels\"]].values) \n",
    "    labels_left=labels[0,0]\n",
    "    labels_right=labels[0,1]\n",
    "\n",
    "    # get splt value, dimensino and left / right labels from df\n",
    "    # TODO create decision tree directly in recursive split \n",
    "    node.dimension=df.iloc[0].loc[\"dimension\"]\n",
    "    node.split_value=df.iloc[0].loc[\"cut value\"]\n",
    "    node.left_labels=labels_left\n",
    "    node.right_labels=labels_right\n",
    "\n",
    "    for i, row in enumerate(labels[1:,:]):\n",
    "        thisrow_labels_left = labels[0,0] # labels of this row, e.g., [2, 3, 6]\n",
    "        thisrow_labels_right = labels[0,1] # labels of this row, e.g., [2, 3, 6]\n",
    "\n",
    "        otherrow = np.concatenate(row) # labels of other row, e.g., [2, 3, 6]\n",
    "        if len(np.setdiff1d(thisrow_labels_left,otherrow))==0: # one of the rows below contains all values of the current topmost row\n",
    "            node.left = decision_string(i+1)\n",
    "        elif len(np.setdiff1d(thisrow_labels_right,otherrow))==0:\n",
    "            node.right = decision_string(i+1)\n",
    "\n",
    "    decision_tree.append(node)\n",
    "    if len(labels)>1:\n",
    "        traverse_tree(df.iloc[1:,:],decision_tree)\n",
    "\n",
    "def create_decision_tree(df):\n",
    "    \"\"\"create decision tree\"\"\"\n",
    "    decision_tree=[]\n",
    "    traverse_tree(df,decision_tree)\n",
    "    return decision_tree\n",
    "\n",
    "decision_tree=create_decision_tree(df_results)"
   ]
  },
  {
   "cell_type": "markdown",
   "metadata": {},
   "source": [
    "We can see that using the splits above, all clusters can be partitioned into subregions."
   ]
  },
  {
   "cell_type": "markdown",
   "metadata": {},
   "source": [
    "## Test data set on regular grid\n",
    "Next, we want to estimate the label of a new data point from the decision tree just built. We will always follow the path of strongest reduction of entropy."
   ]
  },
  {
   "cell_type": "code",
   "execution_count": 126,
   "metadata": {},
   "outputs": [
    {
     "name": "stdout",
     "output_type": "stream",
     "text": [
      "dimension: 0\n",
      "split value: 61.0691890535\n",
      "left labels after split: [ 3.  4.  5.]\n",
      "right labels after split: [ 1.  2.  6.]\n",
      "next decision rule left: d(0) < 8.53367100102\n",
      "next decision rule right: d(0) < 88.7964480094\n"
     ]
    }
   ],
   "source": [
    "decision_tree[0].__format__()"
   ]
  },
  {
   "cell_type": "code",
   "execution_count": 134,
   "metadata": {},
   "outputs": [],
   "source": [
    "def descend_decision_tree(data_test, node, decision_tree):\n",
    "    \"\"\"given some test data and decision tree, assign the correct label using a decision tree\"\"\"\n",
    "    \n",
    "    # check left or right side\n",
    "    if data_test[node.dimension] < node.split_value:  # split to the left\n",
    "        if len(node.left_labels) == 1:  # if there is only one label, return it\n",
    "            return int(node.left_labels)\n",
    "        else:\n",
    "            if node.left is not None:  # else descent\n",
    "                return descend_decision_tree(data_test, node.left, decision_tree)\n",
    "    else:  # split to the right\n",
    "        if len(node.right_labels) == 1:\n",
    "            return int(node.right_labels)\n",
    "        else:\n",
    "            if node.right is not None:\n",
    "                return descend_decision_tree(data_test, node.right, decision_tree)"
   ]
  },
  {
   "cell_type": "code",
   "execution_count": 135,
   "metadata": {},
   "outputs": [
    {
     "ename": "AttributeError",
     "evalue": "'str' object has no attribute 'dimension'",
     "output_type": "error",
     "traceback": [
      "\u001b[0;31m---------------------------------------------------------------------------\u001b[0m",
      "\u001b[0;31mAttributeError\u001b[0m                            Traceback (most recent call last)",
      "\u001b[0;32m<ipython-input-135-c2cce56f735e>\u001b[0m in \u001b[0;36m<module>\u001b[0;34m()\u001b[0m\n\u001b[1;32m      2\u001b[0m \u001b[0mspacing\u001b[0m\u001b[0;34m=\u001b[0m\u001b[0;36m3\u001b[0m\u001b[0;34m\u001b[0m\u001b[0m\n\u001b[1;32m      3\u001b[0m \u001b[0;32mfor\u001b[0m \u001b[0mi\u001b[0m \u001b[0;32min\u001b[0m \u001b[0;34m[\u001b[0m\u001b[0;34m[\u001b[0m\u001b[0mx\u001b[0m\u001b[0;34m,\u001b[0m\u001b[0my\u001b[0m\u001b[0;34m]\u001b[0m \u001b[0;32mfor\u001b[0m \u001b[0mx\u001b[0m \u001b[0;32min\u001b[0m \u001b[0mrange\u001b[0m\u001b[0;34m(\u001b[0m\u001b[0;34m-\u001b[0m\u001b[0;36m10\u001b[0m\u001b[0;34m,\u001b[0m\u001b[0;36m60\u001b[0m\u001b[0;34m,\u001b[0m\u001b[0mspacing\u001b[0m\u001b[0;34m)\u001b[0m \u001b[0;32mfor\u001b[0m \u001b[0my\u001b[0m \u001b[0;32min\u001b[0m \u001b[0mrange\u001b[0m\u001b[0;34m(\u001b[0m\u001b[0;34m-\u001b[0m\u001b[0;36m10\u001b[0m\u001b[0;34m,\u001b[0m\u001b[0;36m60\u001b[0m\u001b[0;34m,\u001b[0m\u001b[0mspacing\u001b[0m\u001b[0;34m)\u001b[0m\u001b[0;34m]\u001b[0m\u001b[0;34m:\u001b[0m\u001b[0;34m\u001b[0m\u001b[0m\n\u001b[0;32m----> 4\u001b[0;31m     \u001b[0mlabel\u001b[0m\u001b[0;34m=\u001b[0m\u001b[0mdescend_decision_tree\u001b[0m\u001b[0;34m(\u001b[0m\u001b[0mi\u001b[0m\u001b[0;34m,\u001b[0m\u001b[0mdecision_tree\u001b[0m\u001b[0;34m[\u001b[0m\u001b[0;36m0\u001b[0m\u001b[0;34m]\u001b[0m\u001b[0;34m,\u001b[0m \u001b[0mdecision_tree\u001b[0m\u001b[0;34m)\u001b[0m\u001b[0;34m\u001b[0m\u001b[0m\n\u001b[0m\u001b[1;32m      5\u001b[0m     \u001b[0mdataset_test_eval\u001b[0m\u001b[0;34m.\u001b[0m\u001b[0mappend\u001b[0m\u001b[0;34m(\u001b[0m\u001b[0mnp\u001b[0m\u001b[0;34m.\u001b[0m\u001b[0mconcatenate\u001b[0m\u001b[0;34m(\u001b[0m\u001b[0;34m[\u001b[0m\u001b[0mi\u001b[0m\u001b[0;34m,\u001b[0m\u001b[0;34m[\u001b[0m\u001b[0mlabel\u001b[0m\u001b[0;34m]\u001b[0m\u001b[0;34m]\u001b[0m\u001b[0;34m)\u001b[0m\u001b[0;34m)\u001b[0m\u001b[0;34m\u001b[0m\u001b[0m\n\u001b[1;32m      6\u001b[0m \u001b[0mdataset_test_eval\u001b[0m\u001b[0;34m=\u001b[0m\u001b[0mnp\u001b[0m\u001b[0;34m.\u001b[0m\u001b[0masarray\u001b[0m\u001b[0;34m(\u001b[0m\u001b[0mdataset_test_eval\u001b[0m\u001b[0;34m)\u001b[0m\u001b[0;34m\u001b[0m\u001b[0m\n",
      "\u001b[0;32m<ipython-input-134-6fc26e2e9579>\u001b[0m in \u001b[0;36mdescend_decision_tree\u001b[0;34m(data_test, node, decision_tree)\u001b[0m\n\u001b[1;32m      8\u001b[0m         \u001b[0;32melse\u001b[0m\u001b[0;34m:\u001b[0m\u001b[0;34m\u001b[0m\u001b[0m\n\u001b[1;32m      9\u001b[0m             \u001b[0;32mif\u001b[0m \u001b[0mnode\u001b[0m\u001b[0;34m.\u001b[0m\u001b[0mleft\u001b[0m \u001b[0;32mis\u001b[0m \u001b[0;32mnot\u001b[0m \u001b[0;32mNone\u001b[0m\u001b[0;34m:\u001b[0m  \u001b[0;31m# else descent\u001b[0m\u001b[0;34m\u001b[0m\u001b[0m\n\u001b[0;32m---> 10\u001b[0;31m                 \u001b[0;32mreturn\u001b[0m \u001b[0mdescend_decision_tree\u001b[0m\u001b[0;34m(\u001b[0m\u001b[0mdata_test\u001b[0m\u001b[0;34m,\u001b[0m \u001b[0mnode\u001b[0m\u001b[0;34m.\u001b[0m\u001b[0mleft\u001b[0m\u001b[0;34m,\u001b[0m \u001b[0mdecision_tree\u001b[0m\u001b[0;34m)\u001b[0m\u001b[0;34m\u001b[0m\u001b[0m\n\u001b[0m\u001b[1;32m     11\u001b[0m     \u001b[0;32melse\u001b[0m\u001b[0;34m:\u001b[0m  \u001b[0;31m# split to the right\u001b[0m\u001b[0;34m\u001b[0m\u001b[0m\n\u001b[1;32m     12\u001b[0m         \u001b[0;32mif\u001b[0m \u001b[0mlen\u001b[0m\u001b[0;34m(\u001b[0m\u001b[0mnode\u001b[0m\u001b[0;34m.\u001b[0m\u001b[0mright_labels\u001b[0m\u001b[0;34m)\u001b[0m \u001b[0;34m==\u001b[0m \u001b[0;36m1\u001b[0m\u001b[0;34m:\u001b[0m\u001b[0;34m\u001b[0m\u001b[0m\n",
      "\u001b[0;32m<ipython-input-134-6fc26e2e9579>\u001b[0m in \u001b[0;36mdescend_decision_tree\u001b[0;34m(data_test, node, decision_tree)\u001b[0m\n\u001b[1;32m      3\u001b[0m \u001b[0;34m\u001b[0m\u001b[0m\n\u001b[1;32m      4\u001b[0m     \u001b[0;31m# check left or right side\u001b[0m\u001b[0;34m\u001b[0m\u001b[0;34m\u001b[0m\u001b[0m\n\u001b[0;32m----> 5\u001b[0;31m     \u001b[0;32mif\u001b[0m \u001b[0mdata_test\u001b[0m\u001b[0;34m[\u001b[0m\u001b[0mnode\u001b[0m\u001b[0;34m.\u001b[0m\u001b[0mdimension\u001b[0m\u001b[0;34m]\u001b[0m \u001b[0;34m<\u001b[0m \u001b[0mnode\u001b[0m\u001b[0;34m.\u001b[0m\u001b[0msplit_value\u001b[0m\u001b[0;34m:\u001b[0m  \u001b[0;31m# split to the left\u001b[0m\u001b[0;34m\u001b[0m\u001b[0m\n\u001b[0m\u001b[1;32m      6\u001b[0m         \u001b[0;32mif\u001b[0m \u001b[0mlen\u001b[0m\u001b[0;34m(\u001b[0m\u001b[0mnode\u001b[0m\u001b[0;34m.\u001b[0m\u001b[0mleft_labels\u001b[0m\u001b[0;34m)\u001b[0m \u001b[0;34m==\u001b[0m \u001b[0;36m1\u001b[0m\u001b[0;34m:\u001b[0m  \u001b[0;31m# if there is only one label, return it\u001b[0m\u001b[0;34m\u001b[0m\u001b[0m\n\u001b[1;32m      7\u001b[0m             \u001b[0;32mreturn\u001b[0m \u001b[0mint\u001b[0m\u001b[0;34m(\u001b[0m\u001b[0mnode\u001b[0m\u001b[0;34m.\u001b[0m\u001b[0mleft_labels\u001b[0m\u001b[0;34m)\u001b[0m\u001b[0;34m\u001b[0m\u001b[0m\n",
      "\u001b[0;31mAttributeError\u001b[0m: 'str' object has no attribute 'dimension'"
     ]
    }
   ],
   "source": [
    "dataset_test_eval=[]\n",
    "spacing=3\n",
    "for i in [[x,y] for x in range(-10,60,spacing) for y in range(-10,60,spacing)]:\n",
    "    label=descend_decision_tree(i,decision_tree[0], decision_tree)\n",
    "    dataset_test_eval.append(np.concatenate([i,[label]]))\n",
    "dataset_test_eval=np.asarray(dataset_test_eval)"
   ]
  },
  {
   "cell_type": "code",
   "execution_count": 101,
   "metadata": {},
   "outputs": [
    {
     "data": {
      "text/plain": [
       "array([[-10, -10, None],\n",
       "       [-10, -7, None],\n",
       "       [-10, -4, None],\n",
       "       ..., \n",
       "       [59, 53, None],\n",
       "       [59, 56, None],\n",
       "       [59, 59, None]], dtype=object)"
      ]
     },
     "execution_count": 101,
     "metadata": {},
     "output_type": "execute_result"
    }
   ],
   "source": [
    "dataset_test_eval"
   ]
  },
  {
   "cell_type": "code",
   "execution_count": 100,
   "metadata": {},
   "outputs": [
    {
     "ename": "TypeError",
     "evalue": "'<' not supported between instances of 'NoneType' and 'NoneType'",
     "output_type": "error",
     "traceback": [
      "\u001b[0;31m---------------------------------------------------------------------------\u001b[0m",
      "\u001b[0;31mTypeError\u001b[0m                                 Traceback (most recent call last)",
      "\u001b[0;32m<ipython-input-100-e693b24fa906>\u001b[0m in \u001b[0;36m<module>\u001b[0;34m()\u001b[0m\n\u001b[0;32m----> 1\u001b[0;31m \u001b[0mclusters_eval\u001b[0m\u001b[0;34m=\u001b[0m\u001b[0mdata_to_clusters\u001b[0m\u001b[0;34m(\u001b[0m\u001b[0mdataset_test_eval\u001b[0m\u001b[0;34m)\u001b[0m\u001b[0;34m\u001b[0m\u001b[0m\n\u001b[0m\u001b[1;32m      2\u001b[0m \u001b[0mplotData_tree_split\u001b[0m\u001b[0;34m(\u001b[0m\u001b[0mclusters_eval\u001b[0m\u001b[0;34m,\u001b[0m \u001b[0mx_split\u001b[0m\u001b[0;34m,\u001b[0m \u001b[0my_split\u001b[0m\u001b[0;34m,\u001b[0m \u001b[0;34m\"Test Data and Splits of Training Data\"\u001b[0m\u001b[0;34m)\u001b[0m\u001b[0;34m\u001b[0m\u001b[0m\n\u001b[1;32m      3\u001b[0m \u001b[0mplotData_tree_split\u001b[0m\u001b[0;34m(\u001b[0m\u001b[0mclusters\u001b[0m\u001b[0;34m,\u001b[0m\u001b[0mx_split\u001b[0m\u001b[0;34m,\u001b[0m\u001b[0my_split\u001b[0m\u001b[0;34m,\u001b[0m \u001b[0;34m\"Training Data and Splits\"\u001b[0m\u001b[0;34m)\u001b[0m\u001b[0;34m\u001b[0m\u001b[0m\n",
      "\u001b[0;32m<ipython-input-87-55959b265a86>\u001b[0m in \u001b[0;36mdata_to_clusters\u001b[0;34m(dataset)\u001b[0m\n\u001b[1;32m     99\u001b[0m     \u001b[0;34m\"\"\"Helper function to get clusters from estimated labels\"\"\"\u001b[0m\u001b[0;34m\u001b[0m\u001b[0m\n\u001b[1;32m    100\u001b[0m     \u001b[0mclusters\u001b[0m \u001b[0;34m=\u001b[0m \u001b[0;34m[\u001b[0m\u001b[0;34m]\u001b[0m\u001b[0;34m\u001b[0m\u001b[0m\n\u001b[0;32m--> 101\u001b[0;31m     \u001b[0;32mfor\u001b[0m \u001b[0mval\u001b[0m \u001b[0;32min\u001b[0m \u001b[0mnp\u001b[0m\u001b[0;34m.\u001b[0m\u001b[0munique\u001b[0m\u001b[0;34m(\u001b[0m\u001b[0mdataset\u001b[0m\u001b[0;34m[\u001b[0m\u001b[0;34m:\u001b[0m\u001b[0;34m,\u001b[0m \u001b[0;36m2\u001b[0m\u001b[0;34m]\u001b[0m\u001b[0;34m)\u001b[0m\u001b[0;34m:\u001b[0m\u001b[0;34m\u001b[0m\u001b[0m\n\u001b[0m\u001b[1;32m    102\u001b[0m         \u001b[0mclusters\u001b[0m\u001b[0;34m.\u001b[0m\u001b[0mappend\u001b[0m\u001b[0;34m(\u001b[0m\u001b[0mdataset\u001b[0m\u001b[0;34m[\u001b[0m\u001b[0mdataset\u001b[0m\u001b[0;34m[\u001b[0m\u001b[0;34m:\u001b[0m\u001b[0;34m,\u001b[0m \u001b[0;36m2\u001b[0m\u001b[0;34m]\u001b[0m \u001b[0;34m==\u001b[0m \u001b[0mval\u001b[0m\u001b[0;34m]\u001b[0m\u001b[0;34m)\u001b[0m\u001b[0;34m\u001b[0m\u001b[0m\n\u001b[1;32m    103\u001b[0m     \u001b[0;32mreturn\u001b[0m \u001b[0mclusters\u001b[0m\u001b[0;34m\u001b[0m\u001b[0m\n",
      "\u001b[0;32m/Library/Frameworks/Python.framework/Versions/3.6/lib/python3.6/site-packages/numpy/lib/arraysetops.py\u001b[0m in \u001b[0;36munique\u001b[0;34m(ar, return_index, return_inverse, return_counts, axis)\u001b[0m\n\u001b[1;32m    208\u001b[0m     \u001b[0mar\u001b[0m \u001b[0;34m=\u001b[0m \u001b[0mnp\u001b[0m\u001b[0;34m.\u001b[0m\u001b[0masanyarray\u001b[0m\u001b[0;34m(\u001b[0m\u001b[0mar\u001b[0m\u001b[0;34m)\u001b[0m\u001b[0;34m\u001b[0m\u001b[0m\n\u001b[1;32m    209\u001b[0m     \u001b[0;32mif\u001b[0m \u001b[0maxis\u001b[0m \u001b[0;32mis\u001b[0m \u001b[0;32mNone\u001b[0m\u001b[0;34m:\u001b[0m\u001b[0;34m\u001b[0m\u001b[0m\n\u001b[0;32m--> 210\u001b[0;31m         \u001b[0;32mreturn\u001b[0m \u001b[0m_unique1d\u001b[0m\u001b[0;34m(\u001b[0m\u001b[0mar\u001b[0m\u001b[0;34m,\u001b[0m \u001b[0mreturn_index\u001b[0m\u001b[0;34m,\u001b[0m \u001b[0mreturn_inverse\u001b[0m\u001b[0;34m,\u001b[0m \u001b[0mreturn_counts\u001b[0m\u001b[0;34m)\u001b[0m\u001b[0;34m\u001b[0m\u001b[0m\n\u001b[0m\u001b[1;32m    211\u001b[0m     \u001b[0;32mif\u001b[0m \u001b[0;32mnot\u001b[0m \u001b[0;34m(\u001b[0m\u001b[0;34m-\u001b[0m\u001b[0mar\u001b[0m\u001b[0;34m.\u001b[0m\u001b[0mndim\u001b[0m \u001b[0;34m<=\u001b[0m \u001b[0maxis\u001b[0m \u001b[0;34m<\u001b[0m \u001b[0mar\u001b[0m\u001b[0;34m.\u001b[0m\u001b[0mndim\u001b[0m\u001b[0;34m)\u001b[0m\u001b[0;34m:\u001b[0m\u001b[0;34m\u001b[0m\u001b[0m\n\u001b[1;32m    212\u001b[0m         \u001b[0;32mraise\u001b[0m \u001b[0mValueError\u001b[0m\u001b[0;34m(\u001b[0m\u001b[0;34m'Invalid axis kwarg specified for unique'\u001b[0m\u001b[0;34m)\u001b[0m\u001b[0;34m\u001b[0m\u001b[0m\n",
      "\u001b[0;32m/Library/Frameworks/Python.framework/Versions/3.6/lib/python3.6/site-packages/numpy/lib/arraysetops.py\u001b[0m in \u001b[0;36m_unique1d\u001b[0;34m(ar, return_index, return_inverse, return_counts)\u001b[0m\n\u001b[1;32m    275\u001b[0m         \u001b[0maux\u001b[0m \u001b[0;34m=\u001b[0m \u001b[0mar\u001b[0m\u001b[0;34m[\u001b[0m\u001b[0mperm\u001b[0m\u001b[0;34m]\u001b[0m\u001b[0;34m\u001b[0m\u001b[0m\n\u001b[1;32m    276\u001b[0m     \u001b[0;32melse\u001b[0m\u001b[0;34m:\u001b[0m\u001b[0;34m\u001b[0m\u001b[0m\n\u001b[0;32m--> 277\u001b[0;31m         \u001b[0mar\u001b[0m\u001b[0;34m.\u001b[0m\u001b[0msort\u001b[0m\u001b[0;34m(\u001b[0m\u001b[0;34m)\u001b[0m\u001b[0;34m\u001b[0m\u001b[0m\n\u001b[0m\u001b[1;32m    278\u001b[0m         \u001b[0maux\u001b[0m \u001b[0;34m=\u001b[0m \u001b[0mar\u001b[0m\u001b[0;34m\u001b[0m\u001b[0m\n\u001b[1;32m    279\u001b[0m     \u001b[0mflag\u001b[0m \u001b[0;34m=\u001b[0m \u001b[0mnp\u001b[0m\u001b[0;34m.\u001b[0m\u001b[0mconcatenate\u001b[0m\u001b[0;34m(\u001b[0m\u001b[0;34m(\u001b[0m\u001b[0;34m[\u001b[0m\u001b[0;32mTrue\u001b[0m\u001b[0;34m]\u001b[0m\u001b[0;34m,\u001b[0m \u001b[0maux\u001b[0m\u001b[0;34m[\u001b[0m\u001b[0;36m1\u001b[0m\u001b[0;34m:\u001b[0m\u001b[0;34m]\u001b[0m \u001b[0;34m!=\u001b[0m \u001b[0maux\u001b[0m\u001b[0;34m[\u001b[0m\u001b[0;34m:\u001b[0m\u001b[0;34m-\u001b[0m\u001b[0;36m1\u001b[0m\u001b[0;34m]\u001b[0m\u001b[0;34m)\u001b[0m\u001b[0;34m)\u001b[0m\u001b[0;34m\u001b[0m\u001b[0m\n",
      "\u001b[0;31mTypeError\u001b[0m: '<' not supported between instances of 'NoneType' and 'NoneType'"
     ]
    }
   ],
   "source": [
    "clusters_eval=data_to_clusters(dataset_test_eval)\n",
    "plotData_tree_split(clusters_eval, x_split, y_split, \"Test Data and Splits of Training Data\")\n",
    "plotData_tree_split(clusters,x_split,y_split, \"Training Data and Splits\")"
   ]
  },
  {
   "cell_type": "code",
   "execution_count": null,
   "metadata": {},
   "outputs": [],
   "source": []
  }
 ],
 "metadata": {
  "kernelspec": {
   "display_name": "Python 3",
   "language": "python",
   "name": "python3"
  },
  "language_info": {
   "codemirror_mode": {
    "name": "ipython",
    "version": 3
   },
   "file_extension": ".py",
   "mimetype": "text/x-python",
   "name": "python",
   "nbconvert_exporter": "python",
   "pygments_lexer": "ipython3",
   "version": "3.6.1"
  }
 },
 "nbformat": 4,
 "nbformat_minor": 2
}
