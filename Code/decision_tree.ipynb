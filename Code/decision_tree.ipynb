{
 "cells": [
  {
   "cell_type": "markdown",
   "metadata": {},
   "source": [
    "# Decision Tree for N-dimensional data and labels\n",
    "The code below implements a decision tree calculated on all the data, for one label depending on several independent variables."
   ]
  },
  {
   "cell_type": "markdown",
   "metadata": {},
   "source": [
    "## Libraries\n",
    "First, some libraries are loaded and global figure settings are made for exporting."
   ]
  },
  {
   "cell_type": "code",
   "execution_count": 1,
   "metadata": {},
   "outputs": [],
   "source": [
    "import numpy as np\n",
    "import matplotlib.pyplot as plt\n",
    "import pandas as pd\n",
    "from matplotlib.pyplot import cm\n",
    "from math import log, e\n",
    "import random\n",
    "import sys"
   ]
  },
  {
   "cell_type": "markdown",
   "metadata": {},
   "source": [
    "### Custom Libraries"
   ]
  },
  {
   "cell_type": "code",
   "execution_count": 2,
   "metadata": {},
   "outputs": [],
   "source": [
    "import density_tree as dt\n",
    "import density_tree.create_data\n",
    "import density_tree.decision_tree_create\n",
    "import density_tree.decision_tree_traverse\n",
    "import density_tree.density_tree\n",
    "import density_tree.plots"
   ]
  },
  {
   "cell_type": "markdown",
   "metadata": {},
   "source": [
    "# Generic Functions"
   ]
  },
  {
   "cell_type": "code",
   "execution_count": 3,
   "metadata": {},
   "outputs": [],
   "source": [
    "#%%writefile ./density_tree/density_tree.py\n",
    "import numpy as np\n",
    "\n",
    "\"\"\"\n",
    "unlabelled: working\n",
    "\"\"\"\n",
    "def entropy_gaussian(S, base=2):\n",
    "    \"\"\"\n",
    "    Differential entropy of a d-variate Gaussian density\n",
    "    :param S: dataset in R^(N*D)\n",
    "    :param base: base of entropy\n",
    "    :return: entropy\n",
    "    \"\"\"\n",
    "    K = np.linalg.det(np.cov(S.T))\n",
    "    d = np.shape(S)[1]\n",
    "    \n",
    "    entropy = np.multiply(np.power(2 * np.pi * np.exp(1), d), K)\n",
    "    if entropy <= 0:\n",
    "        return 0\n",
    "    entropy = np.log(entropy) / (np.log(base) * 2)\n",
    "    if np.isnan(entropy):\n",
    "        entropy = 0\n",
    "    return entropy\n",
    "\n",
    "#### new generic functions to use for both labelled and unlabelled data\n",
    "\"\"\"\n",
    "unlabelled: working\n",
    "labelled: working\n",
    "\"\"\"\n",
    "def split(dataset, index, split_value, return_entropy = False):  # [2]\n",
    "    \"\"\"\n",
    "    split a dataset (columns: variables, rows: data) in two according to some column (index) value.\n",
    "    :param dataset: input dataset\n",
    "    :param index: index of dimension to split values on\n",
    "    :param split_value: value of the dimension where the dataset is split\n",
    "    :return: left and right split datasets\n",
    "    \"\"\"\n",
    "    left, right = [], []\n",
    "    for row in dataset:\n",
    "        if row[index] < split_value:\n",
    "            left.append(row)\n",
    "        else:\n",
    "            right.append(row)\n",
    "\n",
    "    left = np.asarray(left)\n",
    "    right = np.asarray(right)\n",
    "    \n",
    "    if return_entropy:\n",
    "        e_left = entropy_gaussian(left)\n",
    "        e_right = entropy_gaussian(right)\n",
    "        return left, right, e_left, e_right\n",
    "    else:\n",
    "        return left, right\n",
    "    \n",
    "\"\"\"\n",
    "labelled: ?\n",
    "unlabelled: working\n",
    "\"\"\"\n",
    "def get_ig_dim(dataset, dim, entropy_f = entropy_gaussian, base = 2, labelled = True):\n",
    "    \"\"\"\n",
    "    for one dimension, get information gain\n",
    "    :param dataset: dataset without labels (X)\n",
    "    :param dim: dimension for which all cut values are to be calculated\n",
    "    :param entropy_f: entropy function to be used (labelled / unlabelled)\n",
    "    \"\"\"\n",
    "    ig_vals = []\n",
    "    split_vals = []\n",
    "\n",
    "    # loop over all possible cut values\n",
    "    \n",
    "    if labelled:\n",
    "        iter_set = dataset[:, dim]\n",
    "    else:\n",
    "        iter_set = np.linspace(dataset[2, dim],dataset[-2, dim],100) # TODO remove 1:-2, find out why beginning and end cause crash\n",
    "    \n",
    "    for split_val in iter_set:\n",
    "        # split values\n",
    "        split_l = dataset[dataset[:, dim] < split_val]\n",
    "        split_r = dataset[dataset[:, dim] >= split_val]\n",
    "        \n",
    "        # entropy\n",
    "        entropy_l = entropy_f(split_l, base = base)\n",
    "        entropy_r = entropy_f(split_r, base = base)\n",
    "        entropy_tot = entropy_f(dataset, base = base)\n",
    "\n",
    "        # information gain\n",
    "        ig = entropy_tot - (entropy_l * len(split_l) / len(dataset) + entropy_r * len(split_r) / len(dataset))\n",
    "        \n",
    "        # append split value and information gain\n",
    "        split_vals.append(split_val)\n",
    "        ig_vals.append(ig)\n",
    "\n",
    "    return np.array(ig_vals), np.array(split_vals)\n",
    "\n",
    "'''\n",
    "unlabelled: working\n",
    "labelled: ?\n",
    "'''\n",
    "def get_best_split(dataset, labelled = False):\n",
    "    '''for a given dimension, get best split based on information gain'''\n",
    "    # get all information gains on all dimensions\n",
    "    ig_dims_vals, split_dims_vals = [], []\n",
    "    \n",
    "    if labelled:\n",
    "        entropy_f = entropy\n",
    "        dimensions = range(np.shape(dataset)[1] - 1) \n",
    "        \n",
    "    else:\n",
    "        entropy_f = entropy_gaussian\n",
    "        dimensions = range(np.shape(dataset)[1])\n",
    "    \n",
    "    for dim in dimensions: # loop all dimensions\n",
    "        ig_vals, split_vals = get_ig_dim(dataset, dim, entropy_f = entropy_f, labelled = labelled)\n",
    "        ig_dims_vals.append(ig_vals)\n",
    "        split_dims_vals.append(split_vals)\n",
    "\n",
    "    # split dimension of maximum gain\n",
    "    dim_max = np.argmax(np.max(ig_dims_vals,axis=1))\n",
    "    \n",
    "    # split value of maximum gain \n",
    "    # get all maximum values and take the middle if there are several possible maximum values\n",
    "    middle_max_ind = np.where(np.equal(ig_dims_vals[dim_max],np.max(ig_dims_vals[dim_max]))) \n",
    "    middle_max_ind = int(np.floor(np.mean(middle_max_ind)))\n",
    "    val_dim_max = split_dims_vals[dim_max][middle_max_ind]\n",
    "    return dim_max, val_dim_max, ig_dims_vals, split_dims_vals"
   ]
  },
  {
   "cell_type": "markdown",
   "metadata": {},
   "source": [
    "The methods implemented for producing a decision tree can be found in the python files under the package `density_tree`.\n"
   ]
  },
  {
   "cell_type": "markdown",
   "metadata": {},
   "source": [
    "# Unsupervised entropy with unlabelled clusters\n",
    "Below are some functions that compute an optimal split for unlabelled data, using the differential entropy of a d-variate Gaussian density. \n",
    "\n",
    "First, let's generate some unlabelled data:\n"
   ]
  },
  {
   "cell_type": "code",
   "execution_count": 4,
   "metadata": {},
   "outputs": [],
   "source": [
    "def plotData(data, title, linesX = None, linesY = None, clusters = None, save=False, labels=True, minRange=1, maxRange=100, covariance = 2):\n",
    "    \"\"\"\n",
    "    Generic function to plot randomly generated labelled or unlabelled data.\n",
    "    :param data: the data to plot\n",
    "    :param title: the title of the plot \n",
    "    :param linesX, linesY: x and y splitting lines to plot\n",
    "    :param save [True | False]: save plot to a pdf file\n",
    "    :param labels [True | False]: indicator whether data contains labels    \n",
    "    :param minRange, maxRange, covariance: data parameters for setting axis limits\n",
    "    \"\"\"\n",
    "    fig, ax = plt.subplots()\n",
    "\n",
    "    if labels:\n",
    "        color = iter(cm.rainbow(np.linspace(0, 1, len(clusters))))\n",
    "        for i, c in enumerate(data):\n",
    "            color_cluster = next(color)\n",
    "            ax.plot(c[:, 0], c[:, 1], '.', color=color_cluster)\n",
    "\n",
    "            x = c[:, 0]\n",
    "            y = c[:, 1]\n",
    "            n = [int(c) for c in c[:, 2]]\n",
    "\n",
    "            for i, txt in enumerate(n):\n",
    "                ax.annotate(txt, (x[i], y[i]))\n",
    "    else:\n",
    "        ax.plot(data[:, 0], data[:, 1], '.')\n",
    "\n",
    "    ax.grid()\n",
    "    plt.title(title)\n",
    "\n",
    "    # draw split lines after partitioning\n",
    "    if linesX is not None and linesY is not None:\n",
    "        for y_line in range(len(linesY)):\n",
    "            ax.axhline(y=linesY[y_line], c=\"red\")\n",
    "        for x_line in range(len(linesX)):\n",
    "            ax.axvline(x=linesX[x_line], c=\"red\")\n",
    "\n",
    "    axes = plt.gca()\n",
    "    axes.set_xlim([minRange - 4 * covariance, maxRange + 4 * covariance])\n",
    "    axes.set_ylim([minRange - 4 * covariance, maxRange + 4 * covariance])\n",
    "\n",
    "    if (save):\n",
    "        plt.savefig('/Users/cyrilwendl/Documents/EPFL/Projet SIE/SIE-Project/random_data.pdf', bbox_inches='tight')\n",
    "\n",
    "    plt.show()"
   ]
  },
  {
   "cell_type": "code",
   "execution_count": 24,
   "metadata": {},
   "outputs": [
    {
     "data": {
      "image/png": "[encoded data removed]",
      "text/plain": [
       "<matplotlib.figure.Figure at 0x1140269e8>"
      ]
     },
     "metadata": {},
     "output_type": "display_data"
    }
   ],
   "source": [
    "dimensions = 2\n",
    "nclusters = 8\n",
    "covariance =  2\n",
    "npoints = 100\n",
    "minRange = 10\n",
    "maxRange = 100\n",
    "\n",
    "dataset, clusters = dt.create_data.createData(nclusters, dimensions, covariance, npoints, \n",
    "                                              minRange=minRange, maxRange=maxRange)\n",
    "dataset=dataset[:,:-1]\n",
    "plotData(dataset,title=\"Unlabelled data\",labels=False)"
   ]
  },
  {
   "cell_type": "markdown",
   "metadata": {},
   "source": [
    "For tree descent, we have to decide how many clusters we want to produce (limit depth) or what should be the threshold of information gain for the algorithm to stop (information gain limit)"
   ]
  },
  {
   "cell_type": "code",
   "execution_count": 25,
   "metadata": {},
   "outputs": [],
   "source": [
    "#%%writefile ./density_tree/decision_tree_traverse.py\n",
    "# Binary tree node to save binary tree nodes\n",
    "\"\"\"\n",
    "\"\"\"\n",
    "class Node:\n",
    "    \"\"\"\n",
    "    constructor for new nodes in a decision tree or density tree.\n",
    "    decision rule is the rule which splits labels in two groups labels_left and labels_right\n",
    "    left_rule and right_rule are pointers to the rules that have to be used\n",
    "    to further split labels_left and labels_right\n",
    "    \"\"\"\n",
    "\n",
    "    def __init__(self):\n",
    "        # data for node\n",
    "        self.parent = None  # parent node\n",
    "        self.split_value = None  # the split value\n",
    "        self.split_dimension = None  # the split dimension\n",
    "        \n",
    "        # labelled data\n",
    "        self.labels = None  # the labels contained at this split level\n",
    "        \n",
    "        # unlabelled data\n",
    "        self.entropy = None  # entropy, for unlabelled nodes\n",
    "        self.dataset = None\n",
    "        self.dataset_left = None\n",
    "        self.dataset_right = None\n",
    "\n",
    "        # child nodes\n",
    "        self.left = None  # node to the left, e.g., for value < split_value\n",
    "        self.right = None\n",
    "        \n",
    "        # labelled data\n",
    "        self.left_labels = None\n",
    "        self.right_labels = None\n",
    "        \n",
    "        # unlabelled data\n",
    "        self.left_entropy = None\n",
    "        self.right_entropy = None\n",
    "\n",
    "    def get_root(self):\n",
    "        if self.parent != None:\n",
    "            return self.parent.get_root()\n",
    "        else:\n",
    "            return self\n",
    "        \n",
    "    def has_children(self):\n",
    "        \"\"\"print data for node\"\"\"\n",
    "        if (self.right != None) & (self.right != None):\n",
    "            return True\n",
    "        return False\n",
    "\n",
    "    def depth(self):\n",
    "        \"\"\"get tree depth\"\"\"\n",
    "        left_depth = self.left.depth() if self.left else 0\n",
    "        right_depth = self.right.depth() if self.right else 0\n",
    "        return max(left_depth, right_depth) + 1\n",
    "    \n",
    "    def highest_entropy(self, node, e, side):\n",
    "        \"\"\"get the node in tree which has the highest entropy,\n",
    "        taking a root node as input.\n",
    "        for every node, check the entropies left and right after splitting\n",
    "        if the node is not split yet to one of the sides and the entropy on the unsplit side\n",
    "        exceeds the  maximum entropy, return the node.\n",
    "        \"\"\"\n",
    "        if self.left_entropy is not None and self.left is None:\n",
    "            if self.left_entropy > e:\n",
    "                node = self\n",
    "                e = self.left_entropy\n",
    "                side = 'left'\n",
    "        \n",
    "        if self.right_entropy is not None and self.right is None:\n",
    "            if self.right_entropy > e:\n",
    "                node = self\n",
    "                e = self.right_entropy\n",
    "                side = 'right'\n",
    "\n",
    "        if self.left is not None:\n",
    "            node_lower_l, e_lower_l, side_lower_l = self.left.highest_entropy(node, e, side)\n",
    "        if self.right is not None:\n",
    "            node_lower_r, e_lower_r, side_lower_r = self.right.highest_entropy(node, e, side)\n",
    "        if self.left is not None:\n",
    "            if e_lower_l > e:\n",
    "                node, e, side = node_lower_l, e_lower_l, side_lower_l\n",
    "        if self.right is not None:\n",
    "            if e_lower_r > e:\n",
    "                node, e, side = node_lower_r, e_lower_r, side_lower_r\n",
    "                \n",
    "        return node, e, side\n",
    "\n",
    "    \"\"\"traversal methods\"\"\"\n",
    "    def traverse_inorder(self):\n",
    "        if self.left is not None:\n",
    "            self.left.traverse_inorder()\n",
    "        self.__format__()\n",
    "        if self.right is not None:\n",
    "            self.right.traverse_inorder()\n",
    "\n",
    "    def traverse_preorder(self):\n",
    "        self.__format__()\n",
    "        if self.left is not None:\n",
    "            self.left.traverse_preorder()\n",
    "        if self.right is not None:\n",
    "            self.right.traverse_preorder()\n",
    "\n",
    "    def traverse_postorder(self):\n",
    "        if self.left is not None:\n",
    "            self.left.traverse_preorder()\n",
    "        if self.right is not None:\n",
    "            self.right.traverse_preorder()\n",
    "        self.__format__()\n",
    "        raise NotImplementedError\n",
    "        \n",
    "    def __format__(self):\n",
    "        # print(\"rule: \" + self.decisionrule) # print a decision rule on one line as a string (e.g., `d(2) < 20`)\n",
    "        print(\"labels: \" + str(self.labels))\n",
    "        if self.has_children():\n",
    "            print(\"split dimension: \" + str(self.split_dimension))\n",
    "            print(\"split value: \" + str(self.split_value))"
   ]
  },
  {
   "cell_type": "code",
   "execution_count": 26,
   "metadata": {},
   "outputs": [],
   "source": [
    "\"\"\"\n",
    "unlabelled: working\n",
    "\"\"\"\n",
    "def create_decision_tree_unlabelled(dataset, dimensions, clusters, subsample = 0, parentnode = None,\n",
    "                                    side_label = None):\n",
    "    \"\"\"create decision tree be performing initial split,\n",
    "    then recursively splitting until all labels are in unique bins\n",
    "    init: flag for first iteration\n",
    "    Principle:  create an initial split, save value, dimension, and entropies on node as well as on both split sides\n",
    "    As long as total number of splits < nclusters - 1, perform another split on the side having the higher entropy\n",
    "    Or, if there are parent nodes: perform a split on the side of the node that has the highest entropy on a side\n",
    "    \"\"\"\n",
    "    # TODO modify such as to take as entry number of variables to create tree on, number of data subsamples etc.\n",
    "    # split\n",
    "    dim_max, val_dim_max, _, _ = get_best_split(dataset, labelled = False)\n",
    "    left, right, e_left, e_right = split(dataset, dim_max, val_dim_max, return_entropy = True) # split along best dimension\n",
    "    \n",
    "    treenode = Node() # initial node\n",
    "    # save tree node\n",
    "    treenode.split_dimension = dim_max\n",
    "    treenode.split_value = val_dim_max\n",
    "    treenode.dataset = dataset\n",
    "    treenode.dataset_left = left\n",
    "    treenode.dataset_right = right\n",
    "    treenode.entropy = entropy_gaussian(dataset)\n",
    "    treenode.left_entropy = e_left\n",
    "    treenode.right_entropy = e_right\n",
    "    \n",
    "    # link parent node to new node.\n",
    "    if parentnode is not None:\n",
    "        treenode.parent = parentnode\n",
    "        if side_label == 'left':\n",
    "            parentnode.left = treenode\n",
    "        elif side_label == 'right':\n",
    "            parentnode.right = treenode\n",
    "    \n",
    "    clusters_left = clusters - 1 \n",
    "    if clusters_left > 1: \n",
    "        # recursively continue splitting\n",
    "        # continue splitting always splitting on worst side (highest entropy)\n",
    "        # find node where left or right entropy is highest and left or right node is not split yet\n",
    "        node_e, e, side = treenode.get_root().highest_entropy(dataset, 0, 'None')\n",
    "        if side == 'left':\n",
    "            dataset = node_e.dataset_left\n",
    "            side_label = 'left'\n",
    "        elif side == 'right':\n",
    "            dataset = node_e.dataset_right\n",
    "            side_label = 'right'\n",
    "            \n",
    "        create_decision_tree_unlabelled(dataset, dimensions, clusters = clusters_left, parentnode = node_e, side_label=side_label) # iterate\n",
    "    \n",
    "    return treenode\n"
   ]
  },
  {
   "cell_type": "code",
   "execution_count": 27,
   "metadata": {},
   "outputs": [],
   "source": [
    "root = create_decision_tree_unlabelled(dataset, dimensions=2, clusters = nclusters)"
   ]
  },
  {
   "cell_type": "code",
   "execution_count": 28,
   "metadata": {},
   "outputs": [],
   "source": [
    "def get_values_preorder(node, cut_dims, cut_vals):\n",
    "    cut_dims.append(node.split_dimension)\n",
    "    cut_vals.append(node.split_value)\n",
    "    if node.left is not None:\n",
    "        get_values_preorder(node.left, cut_dims, cut_vals)\n",
    "    if node.right is not None:\n",
    "        get_values_preorder(node.right, cut_dims, cut_vals)\n",
    "    return cut_vals, cut_dims\n",
    "\n",
    "cut_vals, cut_dims = get_values_preorder(root, [], [])\n",
    "cut_vals = np.asarray(cut_vals)[np.not_equal(cut_vals,None)].astype(float)\n",
    "cut_dims = np.asarray(cut_dims)[np.not_equal(cut_dims,None)].astype(int)"
   ]
  },
  {
   "cell_type": "code",
   "execution_count": 29,
   "metadata": {},
   "outputs": [
    {
     "data": {
      "text/plain": [
       "(array([ 58.35029022,  43.49434971,  22.1831154 ,  57.5171336 ,\n",
       "         57.75433214,  38.02354066,  73.01009376]),\n",
       " array([1, 0, 1, 0, 0, 0, 0]))"
      ]
     },
     "execution_count": 29,
     "metadata": {},
     "output_type": "execute_result"
    }
   ],
   "source": [
    "cut_vals, cut_dims"
   ]
  },
  {
   "cell_type": "code",
   "execution_count": 30,
   "metadata": {},
   "outputs": [
    {
     "data": {
      "image/png": "[encoded data removed]",
      "text/plain": [
       "<matplotlib.figure.Figure at 0x1140aaef0>"
      ]
     },
     "metadata": {},
     "output_type": "display_data"
    }
   ],
   "source": [
    "x_split = cut_vals[cut_dims == 0]\n",
    "y_split = cut_vals[cut_dims == 1]\n",
    "plotData(dataset, \"Training data after splitting\", x_split, y_split, labels=False,\n",
    "                            minRange = minRange, maxRange = maxRange, covariance=covariance)"
   ]
  },
  {
   "cell_type": "code",
   "execution_count": 31,
   "metadata": {},
   "outputs": [],
   "source": [
    "np.seterr(all='print')\n",
    "import warnings\n",
    "\n",
    "with warnings.catch_warnings():\n",
    "    warnings.simplefilter(\"ignore\", category=RuntimeWarning)\n",
    "    dim_max, val_dim_max, ig_dims_vals, split_dims_vals  = get_best_split(dataset)"
   ]
  },
  {
   "cell_type": "code",
   "execution_count": 32,
   "metadata": {},
   "outputs": [
    {
     "data": {
      "image/png": "[encoded data removed]",
      "text/plain": [
       "<matplotlib.figure.Figure at 0x113e3d668>"
      ]
     },
     "metadata": {},
     "output_type": "display_data"
    }
   ],
   "source": [
    "def show_ig(split_dims_vals, ig_dims_vals):\n",
    "    f, axes = plt.subplots(1,2, sharex=True, sharey=True)\n",
    "    f.set_size_inches((12,4))\n",
    "    for dim in [0,1]:\n",
    "        axes[dim].scatter(split_dims_vals[dim],ig_dims_vals[dim])\n",
    "        axes[dim].set_title(\"information gain based on cut value in dimension \"+str(dim))\n",
    "    plt.show()\n",
    "\n",
    "show_ig(split_dims_vals, ig_dims_vals)"
   ]
  },
  {
   "cell_type": "markdown",
   "metadata": {},
   "source": [
    "# Labelled data"
   ]
  },
  {
   "cell_type": "code",
   "execution_count": 33,
   "metadata": {},
   "outputs": [],
   "source": [
    "#%%writefile ./density_tree/decision_tree_create.py\n",
    "'''Functions for entropy and splitting with labelled data'''\n",
    "\n",
    "import numpy as np\n",
    "import pandas as pd\n",
    "\n",
    "def data_to_clusters(dataset):\n",
    "    '''Helper function to get clusters from estimated labels'''\n",
    "    clusters = []\n",
    "    for val in np.unique(dataset[:, 2]):\n",
    "        clusters.append(dataset[dataset[:, 2] == val])\n",
    "    return clusters\n",
    "\n",
    "\n",
    "def entropy(labels, base = np.e):  # [1]\n",
    "    '''\n",
    "    Calculate the entropy for a set of labels.\n",
    "    :param labels: an array of labels\n",
    "    :param base: base of entropy, by default e\n",
    "    :return: entropy\n",
    "    '''\n",
    "    value, counts = np.unique(labels, return_counts=True)\n",
    "    norm_counts = counts / counts.sum()\n",
    "    return -(norm_counts * np.log(norm_counts) / np.log(base)).sum()\n",
    "\n",
    "def entropy_discrete(dataset, dim):\n",
    "    '''\n",
    "    calculate the entropy values for all cuts on one attribute (left<cut, right>=cut).\n",
    "    :param dataset: Input array with data and label in rows. The last column contains the labels.\n",
    "    :param dim: The index of the column for which the entropy should be computed.\n",
    "    :return: entropy values, corresponding split values\n",
    "    '''\n",
    "    x_vals, entropy_vals = list(), list()\n",
    "    uniquevals = (np.unique(dataset[:, dim]))\n",
    "    left_labels_unique, right_labels_unique = list(), list()\n",
    "    \n",
    "    # loop all possible split values\n",
    "    for split_x in uniquevals[1:]:\n",
    "        # append value\n",
    "        x_vals.append(split_x)\n",
    "\n",
    "        # split on value\n",
    "        left, right = split(dataset, dim, split_x)\n",
    "        left = np.asarray(left)\n",
    "        right = np.asarray(right)\n",
    "\n",
    "        # labels\n",
    "        left_labels = left[:, -1]  # last column = labels\n",
    "        right_labels = right[:, -1]\n",
    "\n",
    "        # unique labels\n",
    "        left_labels_unique.append(np.unique(left_labels))\n",
    "        right_labels_unique.append(np.unique(right_labels))\n",
    "\n",
    "        # entropy for split\n",
    "        left_entropy = entropy(left_labels, base = 2)\n",
    "        right_entropy = entropy(right_labels, base = 2)\n",
    "\n",
    "        # total entropy for attribute\n",
    "        # TODO change to information gain\n",
    "        entropy_attr_split = left_entropy * len(left) / len(dataset) + right_entropy * len(right) / len(dataset)\n",
    "        entropy_vals.append(entropy_attr_split)\n",
    "\n",
    "    return entropy_vals, x_vals, left_labels_unique, right_labels_unique\n",
    "\n",
    "\n",
    "def get_unique_labels(labels):\n",
    "    ul_side, ul_side_c = [], []\n",
    "\n",
    "    for i in labels:\n",
    "        ul_side_c.append(len(np.unique(i)))  # count of unique values on right side\n",
    "        if len(np.unique(i)) == 1:  # if there is only one label, print the label\n",
    "            ul_side.append(i)\n",
    "        else:  # if there are several labels, print the number of the labels\n",
    "            ul_side.append(i)\n",
    "            # ul_side.append('several')\n",
    "    return ul_side, ul_side_c\n",
    "\n",
    "def calc_entropy_attribute(dataset):\n",
    "    \"\"\"find the lowest entropy for a given attribute\"\"\"\n",
    "    dfs = []\n",
    "    entropy_attr = []\n",
    "    x_attr = []\n",
    "\n",
    "    for attribute_ind in range(np.shape(dataset, )[1] - 1): # loop over all attributes\n",
    "\n",
    "        # get the entropy for all cuts\n",
    "        entropy_vals_attr, xs_vals_attr, left_l_unique, right_l_unique = entropy_discrete(dataset,attribute_ind)\n",
    "        # get number of unique labels (= cluster) on both sides\n",
    "        ul_l, ul_l_c = get_unique_labels(left_l_unique)\n",
    "        ul_r, ul_r_c = get_unique_labels(right_l_unique)\n",
    "\n",
    "        # append values for all splits to dataframe\n",
    "        x_attr.append(xs_vals_attr)\n",
    "        entropy_attr.append(np.asarray(entropy_vals_attr))\n",
    "        \n",
    "        df = pd.DataFrame({'cut value': x_attr[attribute_ind],\n",
    "                           'entropy': list(entropy_attr[attribute_ind]),\n",
    "                           'left clusters': ul_l_c,\n",
    "                           'right clusters': ul_r_c,\n",
    "                           'left labels': ul_l,\n",
    "                           'right labels': ul_r},\n",
    "                          columns=['cut value', 'entropy', 'left clusters',\n",
    "                                   'right clusters', 'left labels', 'right labels'])\n",
    "        df.reset_index(inplace=True)\n",
    "        dfs.append(df)\n",
    "        \n",
    "    return dfs\n",
    "\n",
    "\"\"\"\n",
    "labelled\n",
    "\"\"\"\n",
    "def create_decision_tree(dataset, parent_node = None, side_label = None, subsample_pts = 0, subsample_var = 0):\n",
    "    \"\"\"\n",
    "    create decision tree be performing initial split, then recursively splitting until all labels are in unique bins\n",
    "    :param dataset: labelled dataset [X,y]\n",
    "    \"\"\"\n",
    "    # TODO add data and variable subsample for RF\n",
    "    dim_max, val_dim_max, ig_dims_vals, split_dims_vals = get_best_split(dataset, labelled = True)\n",
    "    \n",
    "    # create binary tree node\n",
    "    treenode = Node() \n",
    "    treenode.split_value = val_dim_max\n",
    "    treenode.split_dimension = dim_max\n",
    "    treenode.labels = np.unique(dataset[:,-1])\n",
    "    if parent_node is not None:\n",
    "        treenode.parent = parent_node\n",
    "        if side_label == 'left':\n",
    "            parent_node.left = treenode\n",
    "        elif side_label == 'right':\n",
    "            parent_node.right = treenode\n",
    "    \n",
    "    # recursively continue splitting\n",
    "    left, right = split(dataset, dim_max, val_dim_max) # split along best split dimension\n",
    "    treenode.left_labels = np.unique(left[:,-1])\n",
    "    treenode.right_labels = np.unique(right[:,-1])\n",
    "    \n",
    "    if len(np.unique(left[:,-1])) > 1:\n",
    "        create_decision_tree(left, parent_node = treenode, side_label = 'left')\n",
    "    if len(np.unique(right[:,-1])) > 1:\n",
    "        create_decision_tree(right, parent_node = treenode, side_label = 'right')\n",
    "    return treenode, ig_dims_vals, split_dims_vals"
   ]
  },
  {
   "cell_type": "code",
   "execution_count": 36,
   "metadata": {},
   "outputs": [
    {
     "data": {
      "image/png": "[encoded data removed]",
      "text/plain": [
       "<matplotlib.figure.Figure at 0x1137df780>"
      ]
     },
     "metadata": {},
     "output_type": "display_data"
    }
   ],
   "source": [
    "# cluster parameters\n",
    "nclusters=8\n",
    "dimensions=2\n",
    "covariance=4\n",
    "minRange=0\n",
    "maxRange=100\n",
    "npoints=5\n",
    "\n",
    "    \n",
    "dataset, clusters = dt.create_data.createData(nclusters, dimensions, covariance, npoints,)\n",
    "plotData(clusters, title=\"Training Data\", clusters=clusters,\n",
    "                  minRange = minRange, maxRange = maxRange, covariance=covariance)"
   ]
  },
  {
   "cell_type": "markdown",
   "metadata": {},
   "source": [
    "### Calculate the entropy over all possible split values in all dimensions (`calc_entropy attribute`)\n"
   ]
  },
  {
   "cell_type": "markdown",
   "metadata": {},
   "source": [
    "Now we can iterate the same procedure over the both splitted sides until there is no split left."
   ]
  },
  {
   "cell_type": "code",
   "execution_count": 37,
   "metadata": {},
   "outputs": [],
   "source": [
    "root, ig_dims_vals, split_dims_vals = create_decision_tree(dataset)"
   ]
  },
  {
   "cell_type": "code",
   "execution_count": 38,
   "metadata": {},
   "outputs": [
    {
     "data": {
      "image/png": "[encoded data removed]",
      "text/plain": [
       "<matplotlib.figure.Figure at 0x114069358>"
      ]
     },
     "metadata": {},
     "output_type": "display_data"
    }
   ],
   "source": [
    "cut_vals, cut_dims = get_values_preorder(root, [], [])\n",
    "#cut_vals = np.asarray(cut_vals)[np.not_equal(cut_vals,None)].astype(float)\n",
    "#cut_dims = np.asarray(cut_dims)[np.not_equal(cut_dims,None)].astype(int)\n",
    "x_split = np.asarray(cut_vals)[np.asarray(cut_dims) == 0]\n",
    "y_split = np.asarray(cut_vals)[np.asarray(cut_dims) == 1]\n",
    "\n",
    "plotData(clusters, \"Training data after splitting\", x_split, y_split,\n",
    "                            minRange = minRange, maxRange = maxRange, clusters = clusters, covariance=covariance)"
   ]
  },
  {
   "cell_type": "markdown",
   "metadata": {},
   "source": [
    "Next, we will output the decision forest to produce a $\\LaTeX$ figure."
   ]
  },
  {
   "cell_type": "code",
   "execution_count": 39,
   "metadata": {},
   "outputs": [
    {
     "data": {
      "text/plain": [
       "(array([ 42.56,  18.9 ,  57.19,  32.14,  71.39,  58.44,  82.27]),\n",
       " [0, 0, 1, 0, 0, 0, 0])"
      ]
     },
     "execution_count": 39,
     "metadata": {},
     "output_type": "execute_result"
    }
   ],
   "source": [
    "np.round(cut_vals,2), cut_dims"
   ]
  },
  {
   "cell_type": "code",
   "execution_count": 40,
   "metadata": {},
   "outputs": [
    {
     "data": {
      "text/plain": [
       "'[0$<$42.6[0$<$18.9[1$<$57.2[5][7]][0$<$32.1[6][2]]][0$<$71.4[0$<$58.4[4][8]][0$<$82.3[1][3]]]]'"
      ]
     },
     "execution_count": 40,
     "metadata": {},
     "output_type": "execute_result"
    }
   ],
   "source": [
    "def print_rule(root):\n",
    "    rule_string = str(root.split_dimension)+\"$<$\"+str(np.round(root.split_value,1))\n",
    "    return rule_string\n",
    "    #print(root.split_dimension,end=\"\")\n",
    "\n",
    "def printstuff(node,tree_string):\n",
    "    tree_string+=\"[\"\n",
    "    if len(node.labels) > 1: # if node is split node\n",
    "        tree_string += print_rule(node)\n",
    "        print_rule(node)\n",
    "    if len(node.left_labels) == 1:\n",
    "        tree_string+=\"[\"+str(int(node.left_labels))+\"]\"\n",
    "        \n",
    "    if len(node.right_labels) == 1:\n",
    "        tree_string+=\"[\"+str(int(node.right_labels))+\"]\"\n",
    "    \n",
    "    #else: # node is last node\n",
    "        #tree_string+=str(int(node.labels)+\"test\")\n",
    "        \n",
    "    if node.has_children():\n",
    "        tree_string =  printstuff(node.left,tree_string)\n",
    "        tree_string =  printstuff(node.right,tree_string)\n",
    "    tree_string+=\"]\"\n",
    "    \n",
    "    return tree_string\n",
    "\n",
    "tree_string = \"\"\n",
    "tree_string = printstuff(root,tree_string)\n",
    "tree_string"
   ]
  },
  {
   "cell_type": "code",
   "execution_count": 41,
   "metadata": {},
   "outputs": [
    {
     "data": {
      "image/png": "[encoded data removed]",
      "text/plain": [
       "<IPython.core.display.Image object>"
      ]
     },
     "metadata": {
      "image/png": {
       "height": 275,
       "width": 337
      }
     },
     "output_type": "display_data"
    }
   ],
   "source": [
    "import os\n",
    "import matplotlib.image as mpimg\n",
    "from IPython.core.display import Image, display\n",
    "\n",
    "os.system(\"cd figures; rm main.tex; more main_pt1.tex >> main.tex; echo '' >> main.tex;  echo '\" + tree_string + \"' >> main.tex;  more main_pt2.tex >> main.tex;\")\n",
    "os.system(\"cd figures; pdflatex main.tex; convert -density 300 -trim main.pdf -quality 100 main.png\")\n",
    "display(Image('./figures/main.png', retina=True))"
   ]
  },
  {
   "cell_type": "markdown",
   "metadata": {},
   "source": [
    "## Test data set on regular grid\n",
    "Next, we want to estimate the label of a new data point from the decision tree just built. We will always follow the path of strongest reduction of entropy."
   ]
  },
  {
   "cell_type": "code",
   "execution_count": 42,
   "metadata": {},
   "outputs": [],
   "source": [
    "def descend_decision_tree(data_test, node):\n",
    "    \"\"\"given some test data and decision tree, assign the correct label using a decision tree\"\"\"\n",
    "    \n",
    "    # check left or right side\n",
    "    if data_test[node.split_dimension] < node.split_value:  # split to the left    \n",
    "        if len(node.left_labels) == 1:  # if there is only one label, return it\n",
    "            return int(node.left_labels)\n",
    "        return descend_decision_tree(data_test, node.left)\n",
    "    else:  # split to the right\n",
    "        if len(node.right_labels) == 1:  # if there is only one label, return it\n",
    "            return int(node.right_labels)\n",
    "        return descend_decision_tree(data_test, node.right)"
   ]
  },
  {
   "cell_type": "code",
   "execution_count": 43,
   "metadata": {},
   "outputs": [],
   "source": [
    "dataset_test_eval=[]\n",
    "spacing=3\n",
    "for i in [[x,y] for x in range(minRange,maxRange,spacing) for y in range(minRange,maxRange,spacing)]:\n",
    "    label=descend_decision_tree(i,root)\n",
    "    dataset_test_eval.append(np.concatenate([i,[label]]))\n",
    "    \n",
    "dataset_test_eval=np.asarray(dataset_test_eval)"
   ]
  },
  {
   "cell_type": "code",
   "execution_count": 44,
   "metadata": {},
   "outputs": [
    {
     "data": {
      "image/png": "[encoded data removed]",
      "text/plain": [
       "<matplotlib.figure.Figure at 0x11390cd30>"
      ]
     },
     "metadata": {},
     "output_type": "display_data"
    },
    {
     "data": {
      "image/png": "[encoded data removed]",
      "text/plain": [
       "<matplotlib.figure.Figure at 0x1131c3208>"
      ]
     },
     "metadata": {},
     "output_type": "display_data"
    }
   ],
   "source": [
    "clusters_eval=data_to_clusters(dataset_test_eval)\n",
    "plotData(clusters_eval, \"Test Data and Splits of Training Data\", x_split, y_split, clusters = clusters_eval)\n",
    "plotData(clusters, \"Training Data and Splits\", x_split, y_split, clusters = clusters)"
   ]
  },
  {
   "cell_type": "code",
   "execution_count": null,
   "metadata": {},
   "outputs": [],
   "source": []
  }
 ],
 "metadata": {
  "kernelspec": {
   "display_name": "Python 3",
   "language": "python",
   "name": "python3"
  },
  "language_info": {
   "codemirror_mode": {
    "name": "ipython",
    "version": 3
   },
   "file_extension": ".py",
   "mimetype": "text/x-python",
   "name": "python",
   "nbconvert_exporter": "python",
   "pygments_lexer": "ipython3",
   "version": "3.6.1"
  }
 },
 "nbformat": 4,
 "nbformat_minor": 2
}
