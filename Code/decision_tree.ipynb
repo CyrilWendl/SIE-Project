{
 "cells": [
  {
   "cell_type": "markdown",
   "metadata": {},
   "source": [
    "# Decision Tree for N-dimensional data and labels\n",
    "The code below implements a decision tree calculated on all the data, for one label depending on several independent variables."
   ]
  },
  {
   "cell_type": "markdown",
   "metadata": {},
   "source": [
    "## Libraries\n",
    "First, some libraries are loaded and global figure settings are made for exporting."
   ]
  },
  {
   "cell_type": "code",
   "execution_count": 1,
   "metadata": {},
   "outputs": [],
   "source": [
    "import numpy as np\n",
    "import matplotlib.pyplot as plt\n",
    "import pandas as pd\n",
    "from math import log, e\n",
    "import pylab\n",
    "\n",
    "# Figure settings\n",
    "F = pylab.gcf()\n",
    "plt.rc('text', usetex=True)\n",
    "plt.rc('font', family='serif')"
   ]
  },
  {
   "cell_type": "markdown",
   "metadata": {},
   "source": [
    "## Functions"
   ]
  },
  {
   "cell_type": "code",
   "execution_count": 2,
   "metadata": {},
   "outputs": [],
   "source": [
    "def createTwoClusters(mean1, mean2, cov1, cov2, npoints):\n",
    "    \"\"\"\n",
    "    Generate `npoints` random points within two clusters characteristed by their `mean` and `diagonal covariance`\n",
    "    \"\"\"\n",
    "    x1, y1 = np.random.multivariate_normal(mean1, cov1, npoints).T\n",
    "    x2, y2 = np.random.multivariate_normal(mean2, cov2, npoints).T\n",
    "    return x1, y1, x2, y2\n",
    "\n",
    "\n",
    "def plotData(cluster1,cluster2):\n",
    "    \"\"\"\n",
    "    Plot the clustered data\n",
    "    \"\"\"\n",
    "    plt.plot(cluster1[:,0], cluster1[:,1], 'x')\n",
    "    plt.plot(cluster2[:,0], cluster2[:,1], 'o')\n",
    "    plt.axis('equal')\n",
    "    plt.grid()\n",
    "    plt.savefig('/Users/cyrilwendl/Documents/EPFL/Projet SIE/SIE-Project/random_data.pdf', bbox_inches='tight')\n",
    "    plt.show()\n",
    "\n",
    "\n",
    "def entropy(labels, base=None):  # [1]\n",
    "    \"\"\"\n",
    "    Calculate the entropy for a set of labels\n",
    "    \"\"\"\n",
    "    value, counts = np.unique(labels, return_counts=True)\n",
    "    norm_counts = counts / counts.sum()\n",
    "    base = e if base is None else base\n",
    "    return np.abs(-(norm_counts * np.log(norm_counts) / np.log(base)).sum())\n",
    "\n",
    "def differentialEntropy():\n",
    "    \"\"\"\n",
    "    # TODO implement: Gaussian entropy for continuous variables\n",
    "    \"\"\"\n",
    "    pass\n",
    "    \n",
    "\n",
    "def split(index, value, dataset):  # [2]\n",
    "    \"\"\"\n",
    "    split a dataset (columns: variables, rows: data) in two according to some column (index) value \n",
    "    \"\"\"\n",
    "    left, right = list(), list()\n",
    "    for row in dataset:\n",
    "        if row[index] < value:\n",
    "            left.append(row)\n",
    "        else:\n",
    "            right.append(row)\n",
    "    return left, right\n",
    "\n",
    "def entropy_discrete(dataset, col_index):\n",
    "    \"\"\"\n",
    "    calculate the entropy values for all cuts on one attribute (left<cut, right>=cut).\n",
    "    \n",
    "    Parameters\n",
    "    ----------\n",
    "    dataset :\n",
    "        Input array with data and label in rows. The last column contains the labels.\n",
    "    col_index :\n",
    "        The index of the column for which the entropy should be computed.\n",
    "    \"\"\"\n",
    "    x_vals, entropy_vals = list(), list()\n",
    "    uniquevals=(np.unique(dataset[:,col_index]))\n",
    "    for split_x in uniquevals[1:]:\n",
    "        x_vals.append(split_x)\n",
    "\n",
    "        # split\n",
    "        left, right = split(col_index, split_x, dataset)\n",
    "        left = np.asarray(left)\n",
    "        right = np.asarray(right)\n",
    "\n",
    "        # labels\n",
    "        left_labels = left[:, -1]  # last column = labels\n",
    "        right_labels = right[:, -1]\n",
    "\n",
    "        # entropy\n",
    "        left_entropy = entropy(left_labels, base=2)\n",
    "        right_entropy = entropy(right_labels, base=2)\n",
    "\n",
    "        # total entropy for attribute\n",
    "        entropy_attr_split = left_entropy * len(left) / len(dataset) + right_entropy * len(right) / len(dataset)\n",
    "        entropy_vals.append(entropy_attr_split)\n",
    "\n",
    "    return entropy_vals, x_vals\n"
   ]
  },
  {
   "cell_type": "markdown",
   "metadata": {},
   "source": [
    "## Test Data\n",
    "Next, some data is generated to test the functions above."
   ]
  },
  {
   "cell_type": "code",
   "execution_count": 5,
   "metadata": {},
   "outputs": [
    {
     "data": {
      "image/png": "[encoded data removed]",
      "text/plain": [
       "<matplotlib.figure.Figure at 0x115e23b70>"
      ]
     },
     "metadata": {},
     "output_type": "display_data"
    }
   ],
   "source": [
    "# cluster parameters\n",
    "mean1 = [18, 30]\n",
    "cov1 = [[1, 0], [0, 1]]  # diagonal covariance\n",
    "mean2 = [15, 40]\n",
    "cov2 = [[2, 0], [0, 2]]  # diagonal covariance\n",
    "npoints=50\n",
    "\n",
    "x1,y1,x2,y2=createTwoClusters(mean1,mean2,cov1,cov2,npoints)\n",
    "\n",
    "# zip for having tuples (x,y), round and unique for having discrete coordinates (eliminating duplicate points)\n",
    "cluster1=np.unique(np.round(list(zip(x1,y1,np.ones(len(x1))))),axis=0) # np.ones: label 1 for first cluster\n",
    "cluster2=np.unique(np.round(list(zip(x2,y2,np.ones(len(x2))*2))),axis=0) # np.ones*2: label 2 for second cluster\n",
    "\n",
    "# connect unique points of cluster 1 and cluster 2\n",
    "ataset=np.asarray(np.concatenate((cluster2,cluster1),axis=0))\n",
    "plotData(cluster1,cluster2)"
   ]
  },
  {
   "cell_type": "code",
   "execution_count": 6,
   "metadata": {},
   "outputs": [
    {
     "ename": "NameError",
     "evalue": "name 'dataset' is not defined",
     "traceback": [
      "\u001b[0;31m---------------------------------------------------------------------------\u001b[0m",
      "\u001b[0;31mNameError\u001b[0m                                 Traceback (most recent call last)",
      "\u001b[0;32m<ipython-input-6-a33c7e10cf95>\u001b[0m in \u001b[0;36m<module>\u001b[0;34m()\u001b[0m\n\u001b[1;32m      4\u001b[0m \u001b[0mattributes\u001b[0m\u001b[0;34m=\u001b[0m\u001b[0;34m[\u001b[0m\u001b[0;34m\"x\"\u001b[0m\u001b[0;34m,\u001b[0m\u001b[0;34m\"y\"\u001b[0m\u001b[0;34m]\u001b[0m\u001b[0;34m\u001b[0m\u001b[0m\n\u001b[1;32m      5\u001b[0m \u001b[0;34m\u001b[0m\u001b[0m\n\u001b[0;32m----> 6\u001b[0;31m \u001b[0;32mfor\u001b[0m \u001b[0mattribute_ind\u001b[0m \u001b[0;32min\u001b[0m \u001b[0mrange\u001b[0m\u001b[0;34m(\u001b[0m\u001b[0mnp\u001b[0m\u001b[0;34m.\u001b[0m\u001b[0mshape\u001b[0m\u001b[0;34m(\u001b[0m\u001b[0mdataset\u001b[0m\u001b[0;34m,\u001b[0m\u001b[0;34m)\u001b[0m\u001b[0;34m[\u001b[0m\u001b[0;36m1\u001b[0m\u001b[0;34m]\u001b[0m\u001b[0;34m-\u001b[0m\u001b[0;36m1\u001b[0m\u001b[0;34m)\u001b[0m\u001b[0;34m:\u001b[0m\u001b[0;34m\u001b[0m\u001b[0m\n\u001b[0m\u001b[1;32m      7\u001b[0m     \u001b[0mentropy_vals_attr\u001b[0m\u001b[0;34m,\u001b[0m \u001b[0mxs_vals_attr\u001b[0m \u001b[0;34m=\u001b[0m \u001b[0mentropy_discrete\u001b[0m\u001b[0;34m(\u001b[0m\u001b[0mcol_index\u001b[0m\u001b[0;34m=\u001b[0m\u001b[0mattribute_ind\u001b[0m\u001b[0;34m,\u001b[0m \u001b[0mdataset\u001b[0m\u001b[0;34m=\u001b[0m\u001b[0mdataset\u001b[0m\u001b[0;34m)\u001b[0m\u001b[0;34m\u001b[0m\u001b[0m\n\u001b[1;32m      8\u001b[0m     \u001b[0mx_attr\u001b[0m\u001b[0;34m.\u001b[0m\u001b[0mappend\u001b[0m\u001b[0;34m(\u001b[0m\u001b[0mxs_vals_attr\u001b[0m\u001b[0;34m)\u001b[0m\u001b[0;34m\u001b[0m\u001b[0m\n",
      "\u001b[0;31mNameError\u001b[0m: name 'dataset' is not defined"
     ],
     "output_type": "error"
    }
   ],
   "source": [
    "dfs=[]#pd.DataFrame(columns=([\"x\",\"y\"])\n",
    "entropy_attr=[]\n",
    "x_attr=[]\n",
    "attributes=[\"x\",\"y\"]\n",
    "\n",
    "for attribute_ind in range(np.shape(dataset,)[1]-1):\n",
    "    entropy_vals_attr, xs_vals_attr = entropy_discrete(col_index=attribute_ind, dataset=dataset)\n",
    "    x_attr.append(xs_vals_attr)\n",
    "    entropy_attr.append(np.asarray(entropy_vals_attr))\n",
    "    \n",
    "    df=pd.DataFrame(x_attr[attribute_ind], entropy_attr[attribute_ind])\n",
    "    df.reset_index(inplace=True)\n",
    "    df.columns=([\"entropy\",\"cut value\"])\n",
    "    dfs.append(df)\n",
    "\n",
    "dfs[1] # y data"
   ]
  },
  {
   "cell_type": "code",
   "execution_count": null,
   "metadata": {},
   "outputs": [],
   "source": []
  },
  {
   "cell_type": "markdown",
   "metadata": {},
   "source": [
    "We now want to get the variable for which the minimum entropy is lowest and make a cut there. Then continue on recursively until all labels are in the same split subarrays."
   ]
  },
  {
   "cell_type": "code",
   "execution_count": 100,
   "metadata": {},
   "outputs": [
    {
     "data": {
      "text/html": [
       "<div>\n",
       "<style>\n",
       "    .dataframe thead tr:only-child th {\n",
       "        text-align: right;\n",
       "    }\n",
       "\n",
       "    .dataframe thead th {\n",
       "        text-align: left;\n",
       "    }\n",
       "\n",
       "    .dataframe tbody tr th {\n",
       "        vertical-align: top;\n",
       "    }\n",
       "</style>\n",
       "<table border=\"1\" class=\"dataframe\">\n",
       "  <thead>\n",
       "    <tr style=\"text-align: right;\">\n",
       "      <th></th>\n",
       "      <th>indicator</th>\n",
       "    </tr>\n",
       "  </thead>\n",
       "  <tbody>\n",
       "    <tr>\n",
       "      <th>0.0</th>\n",
       "      <td>lowest entropy</td>\n",
       "    </tr>\n",
       "    <tr>\n",
       "      <th>37.0</th>\n",
       "      <td>cut value</td>\n",
       "    </tr>\n",
       "    <tr>\n",
       "      <th>1.0</th>\n",
       "      <td>variable number</td>\n",
       "    </tr>\n",
       "  </tbody>\n",
       "</table>\n",
       "</div>"
      ],
      "text/plain": [
       "            indicator\n",
       "0.0    lowest entropy\n",
       "37.0        cut value\n",
       "1.0   variable number"
      ]
     },
     "execution_count": 100,
     "metadata": {},
     "output_type": "execute_result"
    }
   ],
   "source": [
    "dfs[0].entropy.min()\n",
    "min_val=2 # over value range [0,1], min < min_vals will be necessarily true during first evaluation\n",
    "min_val_cut=np.nan\n",
    "min_var=np.nan\n",
    "for i in range(len(dfs)):\n",
    "    df=dfs[i]\n",
    "    min_df=df.loc[df['entropy'].argmin()]\n",
    "    if min_df[\"entropy\"] < min_val:\n",
    "        min_val = min_df[\"entropy\"] \n",
    "        min_val_cut = min_df[\"cut value\"] \n",
    "        min_var=i\n",
    "        \n",
    "df=pd.DataFrame([\"lowest entropy\",\"cut value\",\"variable number\"],[min_val,min_val_cut,min_var])\n",
    "df.columns=[\"indicator\"]\n",
    "df"
   ]
  },
  {
   "cell_type": "markdown",
   "metadata": {},
   "source": [
    "Now we can iterate the same procedure over the both splitted sides until there is no split left."
   ]
  },
  {
   "cell_type": "code",
   "execution_count": null,
   "metadata": {},
   "outputs": [],
   "source": [
    "# get left (l) and right (r) based on split\n",
    "# check if labels unique \n",
    "# get entropies for all split values in ll rr\n",
    "# recurse"
   ]
  },
  {
   "cell_type": "markdown",
   "metadata": {},
   "source": [
    "# TODO add code for continous entropy calculation"
   ]
  },
  {
   "cell_type": "code",
   "execution_count": null,
   "metadata": {},
   "outputs": [],
   "source": []
  }
 ],
 "metadata": {
  "kernelspec": {
   "display_name": "Python 3",
   "language": "python",
   "name": "python3"
  },
  "language_info": {
   "codemirror_mode": {
    "name": "ipython",
    "version": 3
   },
   "file_extension": ".py",
   "mimetype": "text/x-python",
   "name": "python",
   "nbconvert_exporter": "python",
   "pygments_lexer": "ipython3",
   "version": "3.6.1"
  }
 },
 "nbformat": 4,
 "nbformat_minor": 2
}
