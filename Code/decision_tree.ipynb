{
 "cells": [
  {
   "cell_type": "markdown",
   "metadata": {},
   "source": [
    "# Decision Tree for N-dimensional data and labels\n",
    "The code below implements a decision tree calculated on all the data, for one label depending on several independent variables."
   ]
  },
  {
   "cell_type": "markdown",
   "metadata": {},
   "source": [
    "## Libraries\n",
    "First, some libraries are loaded and global figure settings are made for exporting."
   ]
  },
  {
   "cell_type": "code",
   "execution_count": 13,
   "metadata": {},
   "outputs": [],
   "source": [
    "import numpy as np\n",
    "import matplotlib.pyplot as plt\n",
    "import pandas as pd\n",
    "from math import log, e\n",
    "import pylab\n",
    "import random\n",
    "\n",
    "# Figure settings\n",
    "F = pylab.gcf()\n",
    "plt.rc('text', usetex=True)\n",
    "plt.rc('font', family='serif')"
   ]
  },
  {
   "cell_type": "markdown",
   "metadata": {},
   "source": [
    "## Functions"
   ]
  },
  {
   "cell_type": "markdown",
   "metadata": {},
   "source": [
    "### Functions for creating and plotting data"
   ]
  },
  {
   "cell_type": "code",
   "execution_count": 14,
   "metadata": {},
   "outputs": [],
   "source": [
    "def createClusters(means, covs, npoints):\n",
    "    \"\"\"\n",
    "    Generate `npoints` random points within two clusters characteristed by their `mean` and `diagonal covariance`\n",
    "    # TODO generalize to return more than two clusters\n",
    "    \"\"\"\n",
    "    x,y=[],[]\n",
    "    for i in range(len(means)):\n",
    "        x1,y1=np.random.multivariate_normal(means[i], covs[i], npoints).T\n",
    "        x.append(np.array(x1))\n",
    "        y.append(np.array(y1))\n",
    "        \n",
    "    return x,y\n",
    "\n",
    "\n",
    "def plotData(clusters):\n",
    "    \"\"\"\n",
    "    Plot the clustered data\n",
    "    \"\"\"\n",
    "    for c in clusters:\n",
    "        plt.plot(c[:,0], c[:,1], 'x')\n",
    "    plt.axis('equal')\n",
    "    plt.grid()\n",
    "    plt.savefig('/Users/cyrilwendl/Documents/EPFL/Projet SIE/SIE-Project/random_data.pdf', bbox_inches='tight')\n",
    "    plt.show()"
   ]
  },
  {
   "cell_type": "markdown",
   "metadata": {},
   "source": [
    "### Functions for entropy and splitting"
   ]
  },
  {
   "cell_type": "code",
   "execution_count": 15,
   "metadata": {},
   "outputs": [],
   "source": [
    "def split(index, value, dataset):  # [2]\n",
    "    \"\"\"\n",
    "    split a dataset (columns: variables, rows: data) in two according to some column (index) value \n",
    "    \"\"\"\n",
    "    left, right = list(), list()\n",
    "    for row in dataset:\n",
    "        if row[index] < value:\n",
    "            left.append(row)\n",
    "        else:\n",
    "            right.append(row)\n",
    "    return left, right\n",
    "\n",
    "    \n",
    "def entropy(labels, base=None):  # [1]\n",
    "    \"\"\"\n",
    "    Calculate the entropy for a set of labels\n",
    "    \"\"\"\n",
    "    value, counts = np.unique(labels, return_counts=True)\n",
    "    norm_counts = counts / counts.sum()\n",
    "    base = e if base is None else base\n",
    "    return -(norm_counts * np.log(norm_counts) / np.log(base)).sum()\n",
    "\n",
    "def differentialEntropy():\n",
    "    \"\"\"\n",
    "    # TODO implement: Gaussian entropy for continuous variables\n",
    "    \"\"\"\n",
    "    pass\n",
    "    \n",
    "\n",
    "def entropy_discrete(dataset, col_index):\n",
    "    \"\"\"\n",
    "    calculate the entropy values for all cuts on one attribute (left<cut, right>=cut).\n",
    "    \n",
    "    Parameters\n",
    "    ----------\n",
    "    dataset :\n",
    "        Input array with data and label in rows. The last column contains the labels.\n",
    "    col_index :\n",
    "        The index of the column for which the entropy should be computed.\n",
    "    \"\"\"\n",
    "    x_vals, entropy_vals = list(), list()\n",
    "    uniquevals=(np.unique(dataset[:,col_index]))\n",
    "    left_labels_unique, right_labels_unique = list(), list()\n",
    "    \n",
    "    for split_x in uniquevals[1:]:\n",
    "        x_vals.append(split_x)\n",
    "\n",
    "        # split\n",
    "        left, right = split(col_index, split_x, dataset)\n",
    "        left = np.asarray(left)\n",
    "        right = np.asarray(right)\n",
    "\n",
    "        # labels\n",
    "        left_labels = left[:, -1]  # last column = labels\n",
    "        right_labels = right[:, -1]\n",
    "        \n",
    "        #print(\" \".join(left_labels))\n",
    "        \n",
    "        left_labels_unique.append(np.unique(left_labels))\n",
    "        right_labels_unique.append(np.unique(right_labels))\n",
    "        \n",
    "        # entropy\n",
    "        left_entropy = entropy(left_labels, base=2)\n",
    "        right_entropy = entropy(right_labels, base=2)\n",
    "\n",
    "        # total entropy for attribute\n",
    "        entropy_attr_split = left_entropy * len(left) / len(dataset) + right_entropy * len(right) / len(dataset)\n",
    "        entropy_vals.append(entropy_attr_split)\n",
    "\n",
    "    return entropy_vals, x_vals, left_labels_unique, right_labels_unique"
   ]
  },
  {
   "cell_type": "markdown",
   "metadata": {},
   "source": [
    "## Test Data\n",
    "Next, some data is generated to test the functions above. \n",
    "\n",
    "First, some functions are used to generate a random mean of n clusters in d dimensions and their covariance."
   ]
  },
  {
   "cell_type": "code",
   "execution_count": 16,
   "metadata": {},
   "outputs": [],
   "source": [
    "def createMeans(clusters,dimensions,minRange=1,maxRange=100):\n",
    "    \"\"\"\"\"\"\n",
    "    mean=[]\n",
    "    for c in range(clusters):\n",
    "        mean_c=[]\n",
    "        for d in range(dimensions):\n",
    "            mean_c.append(random.randint(minRange,maxRange))\n",
    "        mean.append(mean_c)\n",
    "    return mean\n",
    "\n",
    "def createCovs(clusters, dimensions, covariance):\n",
    "    \"\"\"create covariance matrix for n clusters of dimension d with covariance c\"\"\"\n",
    "    covs=[]\n",
    "    for c in range(clusters):\n",
    "        covs.append(np.identity(dimensions)*covariance)\n",
    "    return covs"
   ]
  },
  {
   "cell_type": "code",
   "execution_count": 22,
   "metadata": {},
   "outputs": [
    {
     "data": {
      "image/png": "[encoded data removed]",
      "text/plain": [
       "<matplotlib.figure.Figure at 0x11402fc88>"
      ]
     },
     "metadata": {},
     "output_type": "display_data"
    }
   ],
   "source": [
    "# cluster parameters\n",
    "nclusters=7\n",
    "dimensions=2\n",
    "covariance=3\n",
    "minRange=0\n",
    "maxRange=50\n",
    "npoints=10\n",
    "\n",
    "def createData(clusters, dimensions, covariance, npoints):\n",
    "    means=createMeans(clusters, dimensions, minRange, maxRange)\n",
    "    covs=createCovs(clusters, dimensions, covariance)\n",
    "    \n",
    "    x,y=createClusters(means, covs, npoints)\n",
    "\n",
    "    # zip for having tuples (x,y), round and unique for having discrete coordinates (eliminating duplicate points)\n",
    "    clusters=[]\n",
    "    for i in range(len(x)):\n",
    "        clusters.append(np.unique(np.round(list(zip(x[i],y[i],np.ones(len(x[i]))*(i+1)))),axis=0)) # np.ones: label 1 for first cluster\n",
    "    dataset=np.asarray(np.concatenate(clusters,axis=0))\n",
    "    return dataset, clusters\n",
    "    # connect unique points of cluster 1 and cluster 2\n",
    "    \n",
    "dataset, clusters = createData(nclusters, dimensions, covariance, npoints)\n",
    "plotData(clusters)"
   ]
  },
  {
   "cell_type": "markdown",
   "metadata": {},
   "source": [
    "### `calc_entropy attribute`\n",
    "Calculate the entropy over all possible split values in all dimensions"
   ]
  },
  {
   "cell_type": "code",
   "execution_count": 23,
   "metadata": {},
   "outputs": [],
   "source": [
    "import array\n",
    "def get_unique_labels(labels):\n",
    "    ul_side, ul_side_c=[], []\n",
    "\n",
    "    for i in labels:\n",
    "        ul_side_c.append(len(np.unique(i))) # count of unique values on right side\n",
    "        if len(np.unique(i))==1: # if there is only one label, print the label\n",
    "            ul_side.append(i)\n",
    "        else: # if there are several labels, print the number of the labels\n",
    "            ul_side.append(i)\n",
    "            #ul_side.append('several')\n",
    "    return ul_side,ul_side_c\n",
    "\n",
    "def calc_entropy_attribute(dataset):\n",
    "    '''find the lowest entropy for a given attribute'''\n",
    "    dfs=[]\n",
    "    entropy_attr=[]\n",
    "    x_attr=[]\n",
    "\n",
    "    for attribute_ind in range(np.shape(dataset,)[1]-1): # loop over all attributes\n",
    "        entropy_vals_attr, xs_vals_attr, left_l_unique, right_l_unique = entropy_discrete(col_index=attribute_ind,\n",
    "                                                                                          dataset=dataset)\n",
    "        # get number of unique labels (= cluster) on both sides \n",
    "        ul_l,ul_l_c=get_unique_labels(left_l_unique)\n",
    "        ul_r,ul_r_c=get_unique_labels(right_l_unique)\n",
    "            \n",
    "        x_attr.append(xs_vals_attr)\n",
    "        entropy_attr.append(np.asarray(entropy_vals_attr))\n",
    "        df=pd.DataFrame({'cut value':x_attr[attribute_ind],\n",
    "                         'entropy':list(entropy_attr[attribute_ind]),\n",
    "                         'left clusters':ul_l_c,\n",
    "                         'right clusters':ul_r_c,\n",
    "                         'left labels':ul_l,\n",
    "                         'right labels':ul_r},\n",
    "                        columns=['cut value', 'entropy', 'left clusters',\n",
    "                                 'right clusters', 'left labels', 'right labels'])\n",
    "        df.reset_index(inplace=True)\n",
    "        dfs.append(df)\n",
    "    return dfs"
   ]
  },
  {
   "cell_type": "markdown",
   "metadata": {},
   "source": [
    "### `get_best_attr`:\n",
    "Select the attribute having the lowest entropy\n"
   ]
  },
  {
   "cell_type": "code",
   "execution_count": 24,
   "metadata": {},
   "outputs": [],
   "source": [
    "def get_best_attr(dfs):\n",
    "    \"\"\"get the attribute cut lowering most the entropy and return the attribute, cut value and resulting entropy\"\"\"\n",
    "    min_e = np.infty \n",
    "    \n",
    "    for i in range(len(dfs)): # loop all variables\n",
    "        df = dfs[i]\n",
    "        min_df_attr = df.loc[df['entropy'].argmin()]\n",
    "        if min_df_attr['entropy'] < min_e:\n",
    "            min_e = min_df_attr['entropy']\n",
    "            min_df = pd.DataFrame(min_df_attr.drop(\"index\")).transpose()\n",
    "            min_df[\"dimension\"]=i\n",
    "            \n",
    "    return min_df  # value of lowest entropy after possible cut, cut value, dimensio"
   ]
  },
  {
   "cell_type": "markdown",
   "metadata": {},
   "source": [
    "Now we can iterate the same procedure over the both splitted sides until there is no split left."
   ]
  },
  {
   "cell_type": "code",
   "execution_count": 25,
   "metadata": {},
   "outputs": [],
   "source": [
    "# get left (l) and right (r) based on split\n",
    "# check if labels unique \n",
    "# get entropies for all split values in ll rr\n",
    "# recurse\n",
    "def next_split(left, right): \n",
    "    for side in (left,right):\n",
    "        labels=np.asarray(side)[:,2]\n",
    "        side=np.asarray(side)\n",
    "        if len(np.unique(np.asarray(side)[:,2])) != 1:\n",
    "            dfs = calc_entropy_attribute(dataset=side) # get entropies for all attributes within side\n",
    "            min_df = get_best_attr(dfs) # get best split value\n",
    "            left_new,right_new=split(dataset=side,index=min_df[\"dimension\"].values[0],value=min_df[\"cut value\"].values[0])\n",
    "            # save results for dataframe\n",
    "            results.append(min_df)\n",
    "            next_split(left_new,right_new) # split, recursion\n",
    "            \n",
    "            \n",
    "# initial split\n",
    "dfs = calc_entropy_attribute(dataset)\n",
    "min_df = get_best_attr(dfs)\n",
    "left,right=split(dataset=dataset,index=min_df[\"dimension\"].values[0],value=min_df[\"cut value\"].values[0])\n",
    "results=[min_df]\n",
    "next_split(left,right)\n",
    "\n",
    "df_results=pd.concat(results)"
   ]
  },
  {
   "cell_type": "code",
   "execution_count": 94,
   "metadata": {},
   "outputs": [],
   "source": [
    "def plotData_tree_split(clusters,linesX,linesY):\n",
    "    \"\"\"\n",
    "    Plot the clustered data\n",
    "    \"\"\"\n",
    "    for c in clusters:\n",
    "        plt.plot(c[:,0], c[:,1], 'x')\n",
    "    #plt.axis('equal')\n",
    "    plt.grid()\n",
    "    \n",
    "    # draw split lines after partitioning\n",
    "    for y_line in range(len(linesY)):\n",
    "        plt.axhline(y=linesY[y_line],c=\"red\")\n",
    "    for x_line in range(len(linesX)):\n",
    "        plt.axvline(x=linesX[x_line],c=\"red\")\n",
    "        \n",
    "    axes = plt.gca()\n",
    "    axes.set_xlim([-10,50])\n",
    "    axes.set_ylim([-10,50])\n",
    "    \n",
    "    \n",
    "    plt.savefig('/Users/cyrilwendl/Documents/EPFL/Projet SIE/SIE-Project/random_data.pdf', bbox_inches='tight')\n",
    "    plt.show()"
   ]
  },
  {
   "cell_type": "code",
   "execution_count": 95,
   "metadata": {},
   "outputs": [
    {
     "data": {
      "text/html": [
       "<div>\n",
       "<style>\n",
       "    .dataframe thead tr:only-child th {\n",
       "        text-align: right;\n",
       "    }\n",
       "\n",
       "    .dataframe thead th {\n",
       "        text-align: left;\n",
       "    }\n",
       "\n",
       "    .dataframe tbody tr th {\n",
       "        vertical-align: top;\n",
       "    }\n",
       "</style>\n",
       "<table border=\"1\" class=\"dataframe\">\n",
       "  <thead>\n",
       "    <tr style=\"text-align: right;\">\n",
       "      <th></th>\n",
       "      <th>cut value</th>\n",
       "      <th>entropy</th>\n",
       "      <th>left clusters</th>\n",
       "      <th>right clusters</th>\n",
       "      <th>left labels</th>\n",
       "      <th>right labels</th>\n",
       "      <th>dimension</th>\n",
       "    </tr>\n",
       "  </thead>\n",
       "  <tbody>\n",
       "    <tr>\n",
       "      <th>16</th>\n",
       "      <td>26</td>\n",
       "      <td>1.81158</td>\n",
       "      <td>3</td>\n",
       "      <td>4</td>\n",
       "      <td>[5.0, 6.0, 7.0]</td>\n",
       "      <td>[1.0, 2.0, 3.0, 4.0]</td>\n",
       "      <td>1</td>\n",
       "    </tr>\n",
       "    <tr>\n",
       "      <th>6</th>\n",
       "      <td>22</td>\n",
       "      <td>0.653863</td>\n",
       "      <td>1</td>\n",
       "      <td>2</td>\n",
       "      <td>[7.0]</td>\n",
       "      <td>[5.0, 6.0]</td>\n",
       "      <td>0</td>\n",
       "    </tr>\n",
       "    <tr>\n",
       "      <th>5</th>\n",
       "      <td>8</td>\n",
       "      <td>-0</td>\n",
       "      <td>1</td>\n",
       "      <td>1</td>\n",
       "      <td>[6.0]</td>\n",
       "      <td>[5.0]</td>\n",
       "      <td>1</td>\n",
       "    </tr>\n",
       "    <tr>\n",
       "      <th>9</th>\n",
       "      <td>12</td>\n",
       "      <td>0.997766</td>\n",
       "      <td>2</td>\n",
       "      <td>2</td>\n",
       "      <td>[2.0, 4.0]</td>\n",
       "      <td>[1.0, 3.0]</td>\n",
       "      <td>0</td>\n",
       "    </tr>\n",
       "    <tr>\n",
       "      <th>5</th>\n",
       "      <td>33</td>\n",
       "      <td>-0</td>\n",
       "      <td>1</td>\n",
       "      <td>1</td>\n",
       "      <td>[4.0]</td>\n",
       "      <td>[2.0]</td>\n",
       "      <td>1</td>\n",
       "    </tr>\n",
       "    <tr>\n",
       "      <th>3</th>\n",
       "      <td>37</td>\n",
       "      <td>-0</td>\n",
       "      <td>1</td>\n",
       "      <td>1</td>\n",
       "      <td>[1.0]</td>\n",
       "      <td>[3.0]</td>\n",
       "      <td>0</td>\n",
       "    </tr>\n",
       "  </tbody>\n",
       "</table>\n",
       "</div>"
      ],
      "text/plain": [
       "   cut value   entropy left clusters right clusters      left labels  \\\n",
       "16        26   1.81158             3              4  [5.0, 6.0, 7.0]   \n",
       "6         22  0.653863             1              2            [7.0]   \n",
       "5          8        -0             1              1            [6.0]   \n",
       "9         12  0.997766             2              2       [2.0, 4.0]   \n",
       "5         33        -0             1              1            [4.0]   \n",
       "3         37        -0             1              1            [1.0]   \n",
       "\n",
       "            right labels  dimension  \n",
       "16  [1.0, 2.0, 3.0, 4.0]          1  \n",
       "6             [5.0, 6.0]          0  \n",
       "5                  [5.0]          1  \n",
       "9             [1.0, 3.0]          0  \n",
       "5                  [2.0]          1  \n",
       "3                  [3.0]          0  "
      ]
     },
     "metadata": {},
     "output_type": "display_data"
    },
    {
     "data": {
      "image/png": "[encoded data removed]",
      "text/plain": [
       "<matplotlib.figure.Figure at 0x11393eb00>"
      ]
     },
     "metadata": {},
     "output_type": "display_data"
    }
   ],
   "source": [
    "x_split=df_results[df_results[\"dimension\"]==0][\"cut value\"].values\n",
    "y_split=df_results[df_results[\"dimension\"]==1][\"cut value\"].values\n",
    "\n",
    "display(df_results)\n",
    "plotData_tree_split(clusters,x_split,y_split)"
   ]
  },
  {
   "cell_type": "markdown",
   "metadata": {},
   "source": [
    "Visualize decision tree structure"
   ]
  },
  {
   "cell_type": "markdown",
   "metadata": {},
   "source": [
    "We are now extracting the data structure. As can see from the resulting dataframe below, split values for the left labels are always split further as follows:\n",
    "\n",
    "\n",
    "```4 labels on one side -> 3 more rows to divide them into unique labels\n",
    "3 -> 2\n",
    "2 -> 1\n",
    "1 -> 0.\n",
    "```\n",
    "\n",
    "\n",
    "If the labels are on the right, then the number of rows to jump is `# labels on the left - 1`."
   ]
  },
  {
   "cell_type": "code",
   "execution_count": 96,
   "metadata": {
    "scrolled": true
   },
   "outputs": [
    {
     "data": {
      "text/html": [
       "<div>\n",
       "<style>\n",
       "    .dataframe thead tr:only-child th {\n",
       "        text-align: right;\n",
       "    }\n",
       "\n",
       "    .dataframe thead th {\n",
       "        text-align: left;\n",
       "    }\n",
       "\n",
       "    .dataframe tbody tr th {\n",
       "        vertical-align: top;\n",
       "    }\n",
       "</style>\n",
       "<table border=\"1\" class=\"dataframe\">\n",
       "  <thead>\n",
       "    <tr style=\"text-align: right;\">\n",
       "      <th></th>\n",
       "      <th>cut value</th>\n",
       "      <th>entropy</th>\n",
       "      <th>left clusters</th>\n",
       "      <th>right clusters</th>\n",
       "      <th>left labels</th>\n",
       "      <th>right labels</th>\n",
       "      <th>dimension</th>\n",
       "    </tr>\n",
       "  </thead>\n",
       "  <tbody>\n",
       "    <tr>\n",
       "      <th>16</th>\n",
       "      <td>26</td>\n",
       "      <td>1.81158</td>\n",
       "      <td>3</td>\n",
       "      <td>4</td>\n",
       "      <td>[5.0, 6.0, 7.0]</td>\n",
       "      <td>[1.0, 2.0, 3.0, 4.0]</td>\n",
       "      <td>1</td>\n",
       "    </tr>\n",
       "    <tr>\n",
       "      <th>6</th>\n",
       "      <td>22</td>\n",
       "      <td>0.653863</td>\n",
       "      <td>1</td>\n",
       "      <td>2</td>\n",
       "      <td>[7.0]</td>\n",
       "      <td>[5.0, 6.0]</td>\n",
       "      <td>0</td>\n",
       "    </tr>\n",
       "    <tr>\n",
       "      <th>5</th>\n",
       "      <td>8</td>\n",
       "      <td>-0</td>\n",
       "      <td>1</td>\n",
       "      <td>1</td>\n",
       "      <td>[6.0]</td>\n",
       "      <td>[5.0]</td>\n",
       "      <td>1</td>\n",
       "    </tr>\n",
       "    <tr>\n",
       "      <th>9</th>\n",
       "      <td>12</td>\n",
       "      <td>0.997766</td>\n",
       "      <td>2</td>\n",
       "      <td>2</td>\n",
       "      <td>[2.0, 4.0]</td>\n",
       "      <td>[1.0, 3.0]</td>\n",
       "      <td>0</td>\n",
       "    </tr>\n",
       "    <tr>\n",
       "      <th>5</th>\n",
       "      <td>33</td>\n",
       "      <td>-0</td>\n",
       "      <td>1</td>\n",
       "      <td>1</td>\n",
       "      <td>[4.0]</td>\n",
       "      <td>[2.0]</td>\n",
       "      <td>1</td>\n",
       "    </tr>\n",
       "    <tr>\n",
       "      <th>3</th>\n",
       "      <td>37</td>\n",
       "      <td>-0</td>\n",
       "      <td>1</td>\n",
       "      <td>1</td>\n",
       "      <td>[1.0]</td>\n",
       "      <td>[3.0]</td>\n",
       "      <td>0</td>\n",
       "    </tr>\n",
       "  </tbody>\n",
       "</table>\n",
       "</div>"
      ],
      "text/plain": [
       "   cut value   entropy left clusters right clusters      left labels  \\\n",
       "16        26   1.81158             3              4  [5.0, 6.0, 7.0]   \n",
       "6         22  0.653863             1              2            [7.0]   \n",
       "5          8        -0             1              1            [6.0]   \n",
       "9         12  0.997766             2              2       [2.0, 4.0]   \n",
       "5         33        -0             1              1            [4.0]   \n",
       "3         37        -0             1              1            [1.0]   \n",
       "\n",
       "            right labels  dimension  \n",
       "16  [1.0, 2.0, 3.0, 4.0]          1  \n",
       "6             [5.0, 6.0]          0  \n",
       "5                  [5.0]          1  \n",
       "9             [1.0, 3.0]          0  \n",
       "5                  [2.0]          1  \n",
       "3                  [3.0]          0  "
      ]
     },
     "execution_count": 96,
     "metadata": {},
     "output_type": "execute_result"
    }
   ],
   "source": [
    "df_results"
   ]
  },
  {
   "cell_type": "markdown",
   "metadata": {},
   "source": [
    "We will now set up a data structure to save the decision strucutre, left and right labels and pointers to the next decision rule."
   ]
  },
  {
   "cell_type": "code",
   "execution_count": 97,
   "metadata": {},
   "outputs": [],
   "source": [
    "# Binary tree node to save binary tree nodes\n",
    "class Node:\n",
    "    \"\"\"\n",
    "    constructor for new nodes\n",
    "    # decision rule is the rule which splits labels in two groups labels_left and labels_right\n",
    "    # left_rule and right_rule are pointers to the rules that have to be used \n",
    "    # to further split labels_left and labels_right\n",
    "    \"\"\"\n",
    "    \n",
    "    def __init__(self):\n",
    "        self.decisionrule = None\n",
    "        self.split_value = None\n",
    "        self.dimension = None\n",
    "        self.left_rule = None\n",
    "        self.right_rule = None\n",
    "        self.labels_left = None\n",
    "        self.labels_right = None\n",
    "    def __format__(self):\n",
    "        print(\"rule: \" + self.decisionrule)\n",
    "        print(\"dimension: \" + str(self.dimension))\n",
    "        print(\"split value: \" + str(self.split_value))\n",
    "        print(\"left labels after split: \" + str(self.labels_left))\n",
    "        print(\"right labels after split: \" + str(self.labels_right))\n",
    "        if self.left_rule is not None:\n",
    "            print(\"next decision rule left: \" + self.left_rule)\n",
    "        if self.right_rule is not None:\n",
    "            print(\"next decision rule right: \" + self.right_rule)\n",
    "            "
   ]
  },
  {
   "cell_type": "code",
   "execution_count": 98,
   "metadata": {},
   "outputs": [],
   "source": [
    "# test data structure\n",
    "x = Node()\n",
    "x.decisionrule"
   ]
  },
  {
   "cell_type": "markdown",
   "metadata": {},
   "source": [
    "We will now extract the decision tree according to the explanations below."
   ]
  },
  {
   "cell_type": "code",
   "execution_count": 99,
   "metadata": {},
   "outputs": [
    {
     "name": "stdout",
     "output_type": "stream",
     "text": [
      "rule: d(1) < 26.0\n",
      "dimension: 1\n",
      "split value: 26.0\n",
      "left labels after split: [ 5.  6.  7.]\n",
      "right labels after split: [ 1.  2.  3.  4.]\n",
      "next decision rule left: d(0) < 22.0\n",
      "next decision rule right: d(0) < 12.0\n",
      "rule: d(0) < 22.0\n",
      "dimension: 0\n",
      "split value: 22.0\n",
      "left labels after split: [ 7.]\n",
      "right labels after split: [ 5.  6.]\n",
      "next decision rule right: d(1) < 8.0\n",
      "rule: d(1) < 8.0\n",
      "dimension: 1\n",
      "split value: 8.0\n",
      "left labels after split: [ 6.]\n",
      "right labels after split: [ 5.]\n",
      "rule: d(0) < 12.0\n",
      "dimension: 0\n",
      "split value: 12.0\n",
      "left labels after split: [ 2.  4.]\n",
      "right labels after split: [ 1.  3.]\n",
      "next decision rule left: d(1) < 33.0\n",
      "next decision rule right: d(0) < 37.0\n",
      "rule: d(1) < 33.0\n",
      "dimension: 1\n",
      "split value: 33.0\n",
      "left labels after split: [ 4.]\n",
      "right labels after split: [ 2.]\n",
      "rule: d(0) < 37.0\n",
      "dimension: 0\n",
      "split value: 37.0\n",
      "left labels after split: [ 1.]\n",
      "right labels after split: [ 3.]\n"
     ]
    }
   ],
   "source": [
    "def traverse_tree(df,decision_tree):\n",
    "    node = Node()\n",
    "    labels = np.asarray(df[[\"left labels\",\"right labels\"]].values)\n",
    "    labels_left=labels[0,0]\n",
    "    labels_right=labels[0,1]\n",
    "    def decision_string(ind):\n",
    "        \"\"\"print a decision rule on one line as a string (e.g., `d(2) < 20`)\"\"\"\n",
    "        thisrow = df.iloc[ind]\n",
    "        other_dim=thisrow.loc[\"dimension\"]\n",
    "        other_val=thisrow.loc[\"cut value\"]\n",
    "        string = \"d(\" + str(other_dim) + \") < \" + str(other_val)\n",
    "        return string\n",
    "\n",
    "    node.decisionrule=decision_string(0)\n",
    "    node.dimension=df.iloc[0].loc[\"dimension\"]\n",
    "    node.split_value=df.iloc[0].loc[\"cut value\"]\n",
    "    node.labels_left=labels_left\n",
    "    node.labels_right=labels_right\n",
    "\n",
    "    for i, row in enumerate(labels[1:,:]):\n",
    "\n",
    "        thisrow_labels_left = labels[0,0] # labels of this row, e.g., [2, 3, 6]\n",
    "        thisrow_labels_right = labels[0,1] # labels of this row, e.g., [2, 3, 6]\n",
    "\n",
    "        otherrow = np.concatenate(row) # labels of other row, e.g., [2, 3, 6]\n",
    "        if len(np.setdiff1d(thisrow_labels_left,otherrow))==0: # one of the rows below contains all values of the current topmost row\n",
    "            node.left_rule=decision_string(i+1)\n",
    "        elif len(np.setdiff1d(thisrow_labels_right,otherrow))==0:\n",
    "            node.right_rule=decision_string(i+1)\n",
    "\n",
    "    decision_tree.append(node)\n",
    "    if len(labels)>1:\n",
    "        traverse_tree(df.iloc[1:,:],decision_tree)\n",
    "\n",
    "def create_decision_tree(df):\n",
    "    decision_tree=[]\n",
    "    traverse_tree(df,decision_tree)\n",
    "    return decision_tree\n",
    "\n",
    "decision_tree=create_decision_tree(df_results)\n",
    "\n",
    "for i in decision_tree:\n",
    "    i.__format__()"
   ]
  },
  {
   "cell_type": "code",
   "execution_count": 100,
   "metadata": {},
   "outputs": [
    {
     "data": {
      "text/html": [
       "<div>\n",
       "<style>\n",
       "    .dataframe thead tr:only-child th {\n",
       "        text-align: right;\n",
       "    }\n",
       "\n",
       "    .dataframe thead th {\n",
       "        text-align: left;\n",
       "    }\n",
       "\n",
       "    .dataframe tbody tr th {\n",
       "        vertical-align: top;\n",
       "    }\n",
       "</style>\n",
       "<table border=\"1\" class=\"dataframe\">\n",
       "  <thead>\n",
       "    <tr style=\"text-align: right;\">\n",
       "      <th></th>\n",
       "      <th>cut value</th>\n",
       "      <th>entropy</th>\n",
       "      <th>left clusters</th>\n",
       "      <th>right clusters</th>\n",
       "      <th>left labels</th>\n",
       "      <th>right labels</th>\n",
       "      <th>dimension</th>\n",
       "    </tr>\n",
       "  </thead>\n",
       "  <tbody>\n",
       "    <tr>\n",
       "      <th>16</th>\n",
       "      <td>26</td>\n",
       "      <td>1.81158</td>\n",
       "      <td>3</td>\n",
       "      <td>4</td>\n",
       "      <td>[5.0, 6.0, 7.0]</td>\n",
       "      <td>[1.0, 2.0, 3.0, 4.0]</td>\n",
       "      <td>1</td>\n",
       "    </tr>\n",
       "    <tr>\n",
       "      <th>6</th>\n",
       "      <td>22</td>\n",
       "      <td>0.653863</td>\n",
       "      <td>1</td>\n",
       "      <td>2</td>\n",
       "      <td>[7.0]</td>\n",
       "      <td>[5.0, 6.0]</td>\n",
       "      <td>0</td>\n",
       "    </tr>\n",
       "    <tr>\n",
       "      <th>5</th>\n",
       "      <td>8</td>\n",
       "      <td>-0</td>\n",
       "      <td>1</td>\n",
       "      <td>1</td>\n",
       "      <td>[6.0]</td>\n",
       "      <td>[5.0]</td>\n",
       "      <td>1</td>\n",
       "    </tr>\n",
       "    <tr>\n",
       "      <th>9</th>\n",
       "      <td>12</td>\n",
       "      <td>0.997766</td>\n",
       "      <td>2</td>\n",
       "      <td>2</td>\n",
       "      <td>[2.0, 4.0]</td>\n",
       "      <td>[1.0, 3.0]</td>\n",
       "      <td>0</td>\n",
       "    </tr>\n",
       "    <tr>\n",
       "      <th>5</th>\n",
       "      <td>33</td>\n",
       "      <td>-0</td>\n",
       "      <td>1</td>\n",
       "      <td>1</td>\n",
       "      <td>[4.0]</td>\n",
       "      <td>[2.0]</td>\n",
       "      <td>1</td>\n",
       "    </tr>\n",
       "    <tr>\n",
       "      <th>3</th>\n",
       "      <td>37</td>\n",
       "      <td>-0</td>\n",
       "      <td>1</td>\n",
       "      <td>1</td>\n",
       "      <td>[1.0]</td>\n",
       "      <td>[3.0]</td>\n",
       "      <td>0</td>\n",
       "    </tr>\n",
       "  </tbody>\n",
       "</table>\n",
       "</div>"
      ],
      "text/plain": [
       "   cut value   entropy left clusters right clusters      left labels  \\\n",
       "16        26   1.81158             3              4  [5.0, 6.0, 7.0]   \n",
       "6         22  0.653863             1              2            [7.0]   \n",
       "5          8        -0             1              1            [6.0]   \n",
       "9         12  0.997766             2              2       [2.0, 4.0]   \n",
       "5         33        -0             1              1            [4.0]   \n",
       "3         37        -0             1              1            [1.0]   \n",
       "\n",
       "            right labels  dimension  \n",
       "16  [1.0, 2.0, 3.0, 4.0]          1  \n",
       "6             [5.0, 6.0]          0  \n",
       "5                  [5.0]          1  \n",
       "9             [1.0, 3.0]          0  \n",
       "5                  [2.0]          1  \n",
       "3                  [3.0]          0  "
      ]
     },
     "execution_count": 100,
     "metadata": {},
     "output_type": "execute_result"
    }
   ],
   "source": [
    "df_results"
   ]
  },
  {
   "cell_type": "markdown",
   "metadata": {},
   "source": [
    "We can see that using the splits above, all clusters can be partitioned into subregions."
   ]
  },
  {
   "cell_type": "markdown",
   "metadata": {},
   "source": [
    "### Test data\n",
    "Next, we want to estimate the label of a new data point from the decision tree just built. We will always follow the path of strongest reduction of entropy."
   ]
  },
  {
   "cell_type": "code",
   "execution_count": 101,
   "metadata": {},
   "outputs": [
    {
     "data": {
      "image/png": "[encoded data removed]",
      "text/plain": [
       "<matplotlib.figure.Figure at 0x1139c7358>"
      ]
     },
     "metadata": {},
     "output_type": "display_data"
    },
    {
     "data": {
      "image/png": "[encoded data removed]",
      "text/plain": [
       "<matplotlib.figure.Figure at 0x113faf208>"
      ]
     },
     "metadata": {},
     "output_type": "display_data"
    }
   ],
   "source": [
    "# first, we create a new test dataset\n",
    "dataset_test, clusters_test = createData(nclusters, dimensions, covariance, npoints)\n",
    "plotData(clusters_test)\n",
    "plotData_tree_split(clusters,x_split,y_split)"
   ]
  },
  {
   "cell_type": "markdown",
   "metadata": {},
   "source": [
    "The function belows enables descending the tree."
   ]
  },
  {
   "cell_type": "code",
   "execution_count": 102,
   "metadata": {},
   "outputs": [],
   "source": [
    "def descend_decision_tree(data_test, node, decision_tree):\n",
    "    \"\"\"given some test data and decision tree, assign the correct label using a decision tree\"\"\"\n",
    "    #node.__format__()\n",
    "    # check left or right side\n",
    "    if data_test[node.dimension]<node.split_value: # split to the left\n",
    "        if len(node.labels_left)==1: # if there is only one label, return it\n",
    "            return int(node.labels_left)\n",
    "        else:\n",
    "            if node.left_rule is not None: # else descent\n",
    "                for i in decision_tree:\n",
    "                    if i.decisionrule==node.left_rule:\n",
    "                        return descend_decision_tree(data_test, i, decision_tree)\n",
    "    else: # split to the right\n",
    "        if len(node.labels_right)==1:\n",
    "            return int(node.labels_right)\n",
    "        else:\n",
    "            if node.right_rule is not None:\n",
    "                for i in decision_tree:\n",
    "                    if i.decisionrule==node.right_rule:\n",
    "                        return descend_decision_tree(data_test, i, decision_tree)\n",
    "\n",
    "## if only one label on one of the leaves, return the label\n",
    "## else, descend the tree   \n",
    "    \n",
    "dataset_test_eval=[]\n",
    "for i in dataset_test[:,:2]:\n",
    "    label=descend_decision_tree(i,decision_tree[0], decision_tree)\n",
    "    dataset_test_eval.append(np.concatenate([i,[label]]))\n",
    "dataset_test_eval=np.asarray(dataset_test_eval)"
   ]
  },
  {
   "cell_type": "code",
   "execution_count": 103,
   "metadata": {},
   "outputs": [],
   "source": [
    "def data_to_clusters(dataset):\n",
    "    clusters=[]\n",
    "    for val in np.unique(dataset[:,2]):\n",
    "        clusters.append(dataset[dataset[:,2]==val])\n",
    "    return clusters"
   ]
  },
  {
   "cell_type": "code",
   "execution_count": 104,
   "metadata": {},
   "outputs": [
    {
     "data": {
      "image/png": "[encoded data removed]",
      "text/plain": [
       "<matplotlib.figure.Figure at 0x1173752e8>"
      ]
     },
     "metadata": {},
     "output_type": "display_data"
    },
    {
     "data": {
      "image/png": "[encoded data removed]",
      "text/plain": [
       "<matplotlib.figure.Figure at 0x115bef1d0>"
      ]
     },
     "metadata": {},
     "output_type": "display_data"
    },
    {
     "data": {
      "image/png": "[encoded data removed]",
      "text/plain": [
       "<matplotlib.figure.Figure at 0x11482c6d8>"
      ]
     },
     "metadata": {},
     "output_type": "display_data"
    }
   ],
   "source": [
    "clusters_eval=data_to_clusters(dataset_test_eval)\n",
    "plotData(clusters_test)\n",
    "plotData_tree_split(clusters_eval,x_split,y_split)\n",
    "plotData_tree_split(clusters,x_split,y_split)"
   ]
  },
  {
   "cell_type": "code",
   "execution_count": null,
   "metadata": {},
   "outputs": [],
   "source": []
  }
 ],
 "metadata": {
  "kernelspec": {
   "display_name": "Python 3",
   "language": "python",
   "name": "python3"
  },
  "language_info": {
   "codemirror_mode": {
    "name": "ipython",
    "version": 3
   },
   "file_extension": ".py",
   "mimetype": "text/x-python",
   "name": "python",
   "nbconvert_exporter": "python",
   "pygments_lexer": "ipython3",
   "version": "3.6.1"
  }
 },
 "nbformat": 4,
 "nbformat_minor": 2
}
