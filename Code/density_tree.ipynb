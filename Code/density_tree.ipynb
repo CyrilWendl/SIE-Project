{
 "cells": [
  {
   "cell_type": "markdown",
   "metadata": {},
   "source": [
    "# Density Tree for N-dimensional data and labels\n",
    "The code below implements a **density** tree for non-labelled data."
   ]
  },
  {
   "cell_type": "markdown",
   "metadata": {},
   "source": [
    "## Libraries\n",
    "First, some libraries are loaded and global figure settings are made for exporting."
   ]
  },
  {
   "cell_type": "code",
   "execution_count": 1,
   "metadata": {
    "collapsed": true
   },
   "outputs": [],
   "source": [
    "import numpy as np\n",
    "import matplotlib.pyplot as plt\n",
    "import pandas as pd\n",
    "from matplotlib.pyplot import cm\n",
    "from math import log, e\n",
    "import random\n",
    "import sys\n",
    "import os\n",
    "import matplotlib.image as mpimg\n",
    "from IPython.core.display import Image, display\n",
    "from tqdm import tqdm_notebook\n",
    "from six.moves import reload_module\n",
    "from matplotlib.patches import Ellipse"
   ]
  },
  {
   "cell_type": "markdown",
   "metadata": {},
   "source": [
    "### Custom Libraries"
   ]
  },
  {
   "cell_type": "code",
   "execution_count": 2,
   "metadata": {
    "collapsed": true
   },
   "outputs": [],
   "source": [
    "from density_tree.decision_tree_create import *\n",
    "from density_tree.create_data import *\n",
    "from density_tree.plots import *"
   ]
  },
  {
   "cell_type": "markdown",
   "metadata": {},
   "source": [
    "# Generic Functions\n",
    "The methods implemented for producing a decision tree can be found in the python files under the package `density_tree`.\n"
   ]
  },
  {
   "cell_type": "code",
   "execution_count": 3,
   "metadata": {},
   "outputs": [],
   "source": [
    "class Node:\n",
    "    \"\"\"\n",
    "    constructor for new nodes in a density tree.\n",
    "    \"\"\"\n",
    "\n",
    "    def __init__(self):\n",
    "        # data for node\n",
    "        self.parent = None  # parent node\n",
    "        self.split_value = None  # the split value\n",
    "        self.split_dimension = None  # the split dimension\n",
    "\n",
    "        # unlabelled data\n",
    "        self.entropy = None  # entropy, for unlabelled nodes\n",
    "        self.cov = None  # covariance at node\n",
    "        self.mean = None  # mean of data points in node\n",
    "        \n",
    "        # child nodes\n",
    "        self.left = None  # node to the left, e.g., for value < split_value\n",
    "        self.right = None\n",
    "        \n",
    "        self.left_entropy = None\n",
    "        self.left_cov = None\n",
    "        self.left_mean = None\n",
    "        self.right_entropy = None\n",
    "        self.right_cov = None\n",
    "        self.right_mean = None \n",
    "\n",
    "\n",
    "    def get_root(self):\n",
    "        if self.parent != None:\n",
    "            return self.parent.get_root()\n",
    "        else:\n",
    "            return self\n",
    "\n",
    "    def has_children(self):\n",
    "        \"\"\"print data for node\"\"\"\n",
    "        if (self.right != None) & (self.right != None):\n",
    "            return True\n",
    "        return False\n",
    "\n",
    "    def depth(self):\n",
    "        \"\"\"get tree depth\"\"\"\n",
    "        left_depth = self.left.depth() if self.left else 0\n",
    "        right_depth = self.right.depth() if self.right else 0\n",
    "        return max(left_depth, right_depth) + 1\n",
    "\n",
    "    def highest_entropy(self, node, e, side):\n",
    "        \"\"\"get the node in tree which has the highest entropy, \n",
    "        searching from the root node to the bottom\n",
    "        for every node, check the entropies left and right after splitting\n",
    "        if the node is not split yet to one of the sides and the entropy on the unsplit side\n",
    "        exceeds the  maximum entropy, return the node.\n",
    "        \"\"\"\n",
    "        if self.left_entropy is not None and self.left is None:\n",
    "            if self.left_entropy > e:\n",
    "                node = self\n",
    "                e = self.left_entropy\n",
    "                side = 'left'\n",
    "\n",
    "        if self.right_entropy is not None and self.right is None:\n",
    "            if self.right_entropy > e:\n",
    "                node = self\n",
    "                e = self.right_entropy\n",
    "                side = 'right'\n",
    "\n",
    "        if self.left is not None:\n",
    "            node_lower_l, e_lower_l, side_lower_l = self.left.highest_entropy(node, e, side)\n",
    "            if e_lower_l > e:\n",
    "                node, e, side = node_lower_l, e_lower_l, side_lower_l\n",
    "        if self.right is not None:\n",
    "            node_lower_r, e_lower_r, side_lower_r = self.right.highest_entropy(node, e, side)\n",
    "            if e_lower_r > e:\n",
    "                node, e, side = node_lower_r, e_lower_r, side_lower_r\n",
    "\n",
    "        return node, e, side\n",
    "\n",
    "    def __format__(self):\n",
    "        print(\"-\" * 15 + \"\\nTree Node: \\n\" + \"-\" * 15 + \"\\n split dimension: %i \" % self.split_dimension)\n",
    "        print(\"split value: %.2f \\n\" % self.split_value)\n",
    "        \n",
    "        print(\"entropy: %.2f \" % self.entropy)\n",
    "        print(\"mean: \" + str(self.mean))\n",
    "        print(\"cov: \" + str(self.cov))\n",
    "        print(\"left entropy: %.2f \" % self.left_entropy)\n",
    "        print(\"right entropy: %.2f \\n\" % self.right_entropy)\n",
    "        \n",
    "        print(\"node height: %i \" % (self.get_root().depth() - self.depth()))\n",
    "            \n",
    "    \"\"\"traversal methods\"\"\"\n",
    "    def traverse_inorder(self):\n",
    "        if self.left is not None:\n",
    "            print('\\n left')\n",
    "            self.left.traverse_inorder()\n",
    "        self.__format__()\n",
    "        if self.right is not None:\n",
    "            print('\\n right')\n",
    "            self.right.traverse_inorder()\n",
    "\n",
    "            \n",
    "    def traverse_preorder(self):\n",
    "        self.__format__()\n",
    "        if self.left is not None:\n",
    "            print('\\n left')\n",
    "            self.left.traverse_preorder()\n",
    "        if self.right is not None:\n",
    "            print('\\n right')\n",
    "            self.right.traverse_preorder()\n",
    "\n",
    "            \n",
    "    def traverse_postorder(self):\n",
    "        if self.left is not None:\n",
    "            self.left.traverse_preorder()\n",
    "            print('\\n left')\n",
    "        if self.right is not None:\n",
    "            self.right.traverse_preorder()\n",
    "            print('\\n right')\n",
    "        self.__format__()"
   ]
  },
  {
   "cell_type": "code",
   "execution_count": 4,
   "metadata": {},
   "outputs": [],
   "source": [
    "# %%writefile ./density_tree/density_tree.py\n",
    "\n",
    "\"\"\"\n",
    "unlabelled: working\n",
    "\"\"\"\n",
    "from . import *\n",
    "\n",
    "def entropy_gaussian(S, base=2):\n",
    "    \"\"\"\n",
    "    Differential entropy of a d-variate Gaussian density\n",
    "    :param S: dataset in R^(N*D)\n",
    "    :param base: base of entropy\n",
    "    :return: entropy\n",
    "    \"\"\"\n",
    "    K = np.linalg.det(np.cov(S.T))\n",
    "    d = np.shape(S)[1]\n",
    "\n",
    "    entropy = np.multiply(np.power(2 * np.pi * np.exp(1), d), K)\n",
    "    if entropy <= 0:\n",
    "        return 0\n",
    "    entropy = np.log(entropy) / (np.log(base) * 2)\n",
    "    if np.isnan(entropy):\n",
    "        entropy = 0\n",
    "    return entropy\n",
    "\n",
    "\n",
    "\"\"\"\n",
    "unlabelled: working\n",
    "labelled: working\n",
    "\"\"\"\n",
    "\n",
    "\n",
    "def split(dataset, index, split_value, return_entropy=False):  # [2]\n",
    "    \"\"\"\n",
    "    split a dataset (columns: variables, rows: data) in two according to some column (index) value.\n",
    "    :param dataset: input dataset\n",
    "    :param index: index of dimension to split values on\n",
    "    :param split_value: value of the dimension where the dataset is split\n",
    "    :return: left and right split datasets\n",
    "    \"\"\"\n",
    "    left, right = [], []\n",
    "    for row in dataset:\n",
    "        if row[index] < split_value:\n",
    "            left.append(row)\n",
    "        else:\n",
    "            right.append(row)\n",
    "\n",
    "    left = np.asarray(left)\n",
    "    right = np.asarray(right)\n",
    "\n",
    "    if return_entropy:\n",
    "        e_left = entropy_gaussian(left)\n",
    "        e_right = entropy_gaussian(right)\n",
    "        return left, right, e_left, e_right\n",
    "    else:\n",
    "        return left, right\n",
    "\n",
    "\n",
    "\"\"\"\n",
    "labelled: ?\n",
    "unlabelled: working\n",
    "\"\"\"\n",
    "\n",
    "\n",
    "def get_ig_dim(dataset, dim, entropy_f=entropy_gaussian, base=2, labelled=True):\n",
    "    \"\"\"\n",
    "    for one dimension, get information gain\n",
    "    :param dataset: dataset without labels (X)\n",
    "    :param dim: dimension for which all cut values are to be calculated\n",
    "    :param entropy_f: entropy function to be used (labelled / unlabelled)\n",
    "    \"\"\"\n",
    "    ig_vals = []\n",
    "    split_vals = []\n",
    "\n",
    "    # loop over all possible cut values\n",
    "\n",
    "    if labelled:\n",
    "        iter_set = dataset[:, dim]  # e.g.: 3,5,1,2,6,10,4\n",
    "    else:\n",
    "        dataset_dim_min = np.min(dataset[:, dim])\n",
    "        dataset_dim_max = np.max(dataset[:, dim])\n",
    "        iter_set = np.linspace(dataset_dim_min, dataset_dim_max, 100)\n",
    "        # iter_set = np.linspace(dataset[2, dim],dataset[-2, dim],100) # TODO remove 1:-2, find out why beginning and end cause crash\n",
    "\n",
    "    for split_val in iter_set:\n",
    "        # split values\n",
    "        split_l = dataset[dataset[:, dim] < split_val]\n",
    "        split_r = dataset[dataset[:, dim] >= split_val]\n",
    "\n",
    "        # entropy\n",
    "        entropy_l = entropy_f(split_l, base=base)\n",
    "        entropy_r = entropy_f(split_r, base=base)\n",
    "        entropy_tot = entropy_f(dataset, base=base)\n",
    "\n",
    "        # information gain\n",
    "        ig = entropy_tot - (entropy_l * len(split_l) / len(dataset) + entropy_r * len(split_r) / len(dataset))\n",
    "\n",
    "        # append split value and information gain\n",
    "        split_vals.append(split_val)\n",
    "        ig_vals.append(ig)\n",
    "\n",
    "    return np.array(ig_vals), np.array(split_vals)\n",
    "\n",
    "\n",
    "'''\n",
    "unlabelled: working\n",
    "labelled: working\n",
    "'''\n",
    "\n",
    "\n",
    "def get_best_split(dataset, labelled=False):\n",
    "    '''for a given dimension, get best split based on information gain'''\n",
    "    # get all information gains on all dimensions\n",
    "    ig_dims_vals, split_dims_vals = [], []\n",
    "\n",
    "    if labelled:\n",
    "        entropy_f = entropy\n",
    "        dimensions = range(np.shape(dataset)[1] - 1)\n",
    "\n",
    "    else:\n",
    "        entropy_f = entropy_gaussian\n",
    "        dimensions = range(np.shape(dataset)[1])\n",
    "\n",
    "    for dim in dimensions:  # loop all dimensions\n",
    "        ig_vals, split_vals = get_ig_dim(dataset, dim, entropy_f=entropy_f, labelled=labelled)\n",
    "        ig_dims_vals.append(ig_vals)\n",
    "        split_dims_vals.append(split_vals)\n",
    "\n",
    "    # split dimension of maximum gain\n",
    "    dim_max = np.argmax(np.max(ig_dims_vals, axis=1))\n",
    "\n",
    "    # split value of maximum gain\n",
    "    # get all maximum values and take the middle if there are several possible maximum values\n",
    "    # TODO get mean best split value, then find corresponding index\n",
    "\n",
    "    # middle_max_ind = np.where(np.equal(ig_dims_vals[dim_max],np.max(ig_dims_vals[dim_max])))\n",
    "    # middle_max_ind = int(np.floor(np.mean(middle_max_ind)))\n",
    "    middle_max_ind = np.argmax(ig_dims_vals[dim_max])\n",
    "    val_dim_max = split_dims_vals[dim_max][middle_max_ind]\n",
    "\n",
    "    return dim_max, val_dim_max, ig_dims_vals, split_dims_vals\n",
    "\n",
    "\n",
    "\"\"\"\n",
    "unlabelled: working\n",
    "\"\"\"\n",
    "def create_decision_tree_unlabelled(dataset, dimensions, clusters, parentnode=None, side_label=None, verbose = False):\n",
    "    \"\"\"create decision tree be performing initial split,\n",
    "    then recursively splitting until all labels are in unique bins\n",
    "    init: flag for first iteration\n",
    "    Principle:  create an initial split, save value, dimension, and entropies on node as well as on both split sides\n",
    "    As long as total number of splits < nclusters - 1, perform another split on the side having the higher entropy\n",
    "    Or, if there are parent nodes: perform a split on the side of the node that has the highest entropy on a side\n",
    "    \"\"\"\n",
    "    verboseprint = print if verbose else lambda *a, **k: None\n",
    "\n",
    "    # split\n",
    "    dim_max, val_dim_max, _, _ = get_best_split(dataset, labelled=False)\n",
    "    left, right, e_left, e_right = split(dataset, dim_max, val_dim_max,\n",
    "                                         return_entropy=True)  #  split along best dimension\n",
    "\n",
    "    treenode = Node()  # initial node\n",
    "    \n",
    "    # save tree node\n",
    "    treenode.split_dimension = dim_max\n",
    "    treenode.split_value = val_dim_max\n",
    "    treenode.dataset = dataset\n",
    "    treenode.dataset_left = left\n",
    "    treenode.dataset_right = right\n",
    "    treenode.entropy = entropy_gaussian(dataset)\n",
    "    treenode.cov = np.cov(dataset.T)\n",
    "    treenode.mean = np.mean(dataset, axis = 0)\n",
    "    treenode.left_cov = np.cov(left.T)\n",
    "    treenode.left_mean = np.mean(left, axis = 0)\n",
    "    treenode.right_cov = np.cov(right.T)\n",
    "    treenode.right_mean = np.mean(right, axis = 0)\n",
    "    treenode.left_entropy = e_left\n",
    "    treenode.right_entropy = e_right\n",
    "    \n",
    "    verboseprint(\"created new node:\") # verbose\n",
    "    verboseprint(treenode.__format__()) # verbose\n",
    "\n",
    "    # link parent node to new node.\n",
    "    if parentnode is not None:\n",
    "        treenode.parent = parentnode\n",
    "        if side_label == 'left':\n",
    "            treenode.parent.left = treenode\n",
    "            verboseprint('setting parent.left') # verbose\n",
    "        elif side_label == 'right':\n",
    "            treenode.parent.right = treenode\n",
    "            verboseprint('setting parent.right') # verbose\n",
    "\n",
    "    clusters_left = clusters - 1\n",
    "    if clusters_left > 1:\n",
    "        # recursively continue splitting\n",
    "        # continue splitting always splitting on worst side (highest entropy)\n",
    "        # find node where left or right entropy is highest and left or right node is not split yet\n",
    "        node_e, e, side = treenode.get_root().highest_entropy(dataset, 0, 'None')\n",
    "        #verboseprint(\"---\\nfound node with highest entropy: \") # verbose\n",
    "        #verboseprint(node_e.__format__()) # verbose\n",
    "        #verboseprint(\"----\")\n",
    "            \n",
    "        if side == 'left':\n",
    "            dataset = node_e.dataset_left\n",
    "            side_label = 'left'\n",
    "        elif side == 'right':\n",
    "            dataset = node_e.dataset_right\n",
    "            side_label = 'right'\n",
    "\n",
    "        create_decision_tree_unlabelled(dataset, dimensions, clusters=clusters_left, parentnode=node_e,\n",
    "                                        side_label=side_label)  # iterate\n",
    "\n",
    "    return treenode\n"
   ]
  },
  {
   "cell_type": "markdown",
   "metadata": {},
   "source": [
    "# Unsupervised entropy with unlabelled clusters\n",
    "Below are some functions that compute an optimal split for unlabelled data, using the differential entropy of a d-variate Gaussian density. \n",
    "\n",
    "First, let's generate some unlabelled data:\n"
   ]
  },
  {
   "cell_type": "code",
   "execution_count": 5,
   "metadata": {
    "collapsed": true
   },
   "outputs": [],
   "source": [
    "def createData(clusters, dimensions, covariance, npoints, minRange=1, maxRange=100, labelled = True):\n",
    "    \"\"\"Create Gaussian distributed points, in n dimensions\"\"\"\n",
    "    means = createMeans(clusters, dimensions, minRange, maxRange)\n",
    "    covs = createCovs(clusters, dimensions, covariance)\n",
    "\n",
    "    x, y = createClusters(means, covs, npoints)\n",
    "\n",
    "    # zip for having tuples (x,y), round and unique for having discrete coordinates (eliminating duplicate points)\n",
    "    if labelled:\n",
    "        clusters = []\n",
    "        for i in range(len(x)):\n",
    "            clusters.append(np.unique(list(zip(x[i], y[i], np.ones(len(x[i])) * (i + 1))),\n",
    "                                      axis=0))  # np.ones: label 1 for first cluster\n",
    "                                                # TODO meaning of np.unique?\n",
    "        dataset = np.asarray(np.concatenate(clusters, axis=0))\n",
    "        return dataset, clusters\n",
    "    else:\n",
    "        dataset=np.asarray([np.asarray(x).flatten(),np.asarray(y).flatten()]).T\n",
    "        print(dataset.shape)\n",
    "        return dataset\n",
    "    # connect unique points of cluster 1 and cluster 2"
   ]
  },
  {
   "cell_type": "code",
   "execution_count": 6,
   "metadata": {
    "collapsed": true
   },
   "outputs": [],
   "source": [
    "def eigsorted(cov):\n",
    "    vals, vecs = np.linalg.eigh(cov)\n",
    "    order = vals.argsort()[::-1]\n",
    "    return vals[order], vecs[:,order]\n",
    "\n",
    "def plotData(data, title, ax, clusters=None, save=False, linesX=None, linesY=None,\n",
    "             labels=True, minRange=1, maxRange=100, covariance=2, grid_eval = None, showData = True, covs = None, means = None):\n",
    "    \"\"\"\n",
    "    Generic function to plot randomly generated labelled or unlabelled data.\n",
    "    :param data: the data to plot\n",
    "    :param title: the title of the plot\n",
    "    :param linesX, linesY: x and y splitting lines to plot\n",
    "    :param save [True | False]: save plot to a pdf file\n",
    "    :param labels [True | False]: indicator whether data contains labels\n",
    "    :param minRange, maxRange, covariance: data parameters for setting axis limits\n",
    "    \"\"\"\n",
    "    if showData:\n",
    "        if labels:\n",
    "            color = iter(cm.rainbow(np.linspace(0, 1, len(clusters))))\n",
    "            for i, c in enumerate(data):\n",
    "                color_cluster = next(color)\n",
    "                ax.scatter(c[:, 0], c[:, 1], s=40, color=color_cluster)\n",
    "\n",
    "                x = c[:, 0]\n",
    "                y = c[:, 1]\n",
    "                n = [int(c) for c in c[:, 2]]\n",
    "\n",
    "                for i, txt in enumerate(n):\n",
    "                    ax.annotate(txt, (x[i], y[i]))\n",
    "        else:\n",
    "            ax.plot(data[:, 0], data[:, 1], '.')\n",
    "\n",
    "\n",
    "    ax.set_title(title)\n",
    "\n",
    "    # draw split lines after partitioning\n",
    "    ax.grid()\n",
    "    if linesX is not None and linesY is not None:\n",
    "        for y_line in range(len(linesY)):\n",
    "            ax.axhline(y=linesY[y_line], c=\"red\")\n",
    "        for x_line in range(len(linesX)):\n",
    "            ax.axvline(x=linesX[x_line], c=\"red\")\n",
    "\n",
    "    # draw colored meshgrid\n",
    "    if grid_eval is not None:\n",
    "        x_min, x_max = [minRange, maxRange]\n",
    "        y_min, y_max = [minRange, maxRange]\n",
    "        xx, yy = np.meshgrid(np.linspace(x_min, x_max, 100),\n",
    "                             np.linspace(y_min, y_max, 100))\n",
    "\n",
    "        Z = grid_eval\n",
    "\n",
    "        # Put the result into a color plot\n",
    "        Z = Z.reshape(xx.shape)\n",
    "        ax.pcolormesh(xx, yy, Z, alpha=0.2, cmap='rainbow')\n",
    "        #ax.set_clim(y.min(), y.max())\n",
    "\n",
    "    ax.set_xlim([minRange - 4 * covariance, maxRange + 4 * covariance])\n",
    "    ax.set_ylim([minRange - 4 * covariance, maxRange + 4 * covariance])\n",
    "    \n",
    "    # covariance\n",
    "    nstd = 2\n",
    "    if covs is not None:\n",
    "        for i in range(len(covs)):\n",
    "            vals, vecs = eigsorted(covs[i])\n",
    "            theta = np.degrees(np.arctan2(*vecs[:,0][::-1]))\n",
    "            w, h = 2 * nstd * np.sqrt(vals)\n",
    "            ell = Ellipse(xy=means[i],\n",
    "                          width=w, height=h,\n",
    "                          angle=theta, color='red')\n",
    "            ell.set_facecolor('none')\n",
    "            ax.add_artist(ell)\n",
    "    \n",
    "    if (save):\n",
    "        plt.savefig('/Users/cyrilwendl/Documents/EPFL/Projet SIE/SIE-Project/random_data.pdf', bbox_inches='tight')"
   ]
  },
  {
   "cell_type": "code",
   "execution_count": 7,
   "metadata": {},
   "outputs": [
    {
     "name": "stdout",
     "output_type": "stream",
     "text": [
      "(500, 2)\n"
     ]
    },
    {
     "data": {
      "image/png": "[encoded data removed]",
      "text/plain": [
       "<matplotlib.figure.Figure at 0x114037a90>"
      ]
     },
     "metadata": {},
     "output_type": "display_data"
    }
   ],
   "source": [
    "dimensions = 2\n",
    "nclusters = 5\n",
    "covariance =  10\n",
    "npoints = 100\n",
    "minRange = 10\n",
    "maxRange = 100\n",
    "\n",
    "dataset = createData(nclusters, dimensions, covariance, npoints, \n",
    "                                              minRange=minRange, maxRange=maxRange, labelled = False, )\n",
    "\n",
    "m = np.mean(dataset, axis = 0)\n",
    "cov = np.cov(dataset.T)\n",
    "figure, axes = plt.subplots(nrows = 1, ncols = 1)\n",
    "plotData(dataset, \"Unlabelled data\", axes, labels=False, covs=[cov], means=[m])\n",
    "plt.show()"
   ]
  },
  {
   "cell_type": "markdown",
   "metadata": {},
   "source": [
    "For tree descent, we have to decide how many clusters we want to produce (limit depth) or what should be the threshold of information gain for the algorithm to stop (information gain limit)"
   ]
  },
  {
   "cell_type": "code",
   "execution_count": 8,
   "metadata": {},
   "outputs": [
    {
     "name": "stderr",
     "output_type": "stream",
     "text": [
      "/Users/cyrilwendl/anaconda3/lib/python3.6/site-packages/numpy/lib/function_base.py:1110: RuntimeWarning: Mean of empty slice.\n",
      "  avg = a.mean(axis)\n",
      "/Users/cyrilwendl/anaconda3/lib/python3.6/site-packages/numpy/core/_methods.py:73: RuntimeWarning: invalid value encountered in true_divide\n",
      "  ret, rcount, out=ret, casting='unsafe', subok=False)\n",
      "/Users/cyrilwendl/anaconda3/lib/python3.6/site-packages/ipykernel_launcher.py:15: RuntimeWarning: Degrees of freedom <= 0 for slice\n",
      "  from ipykernel import kernelapp as app\n",
      "/Users/cyrilwendl/anaconda3/lib/python3.6/site-packages/numpy/lib/function_base.py:3093: RuntimeWarning: divide by zero encountered in double_scalars\n",
      "  c *= 1. / np.float64(fact)\n",
      "/Users/cyrilwendl/anaconda3/lib/python3.6/site-packages/numpy/lib/function_base.py:3093: RuntimeWarning: invalid value encountered in multiply\n",
      "  c *= 1. / np.float64(fact)\n",
      "/Users/cyrilwendl/anaconda3/lib/python3.6/site-packages/numpy/linalg/linalg.py:1804: RuntimeWarning: invalid value encountered in det\n",
      "  r = _umath_linalg.det(a, signature=signature)\n"
     ]
    },
    {
     "name": "stdout",
     "output_type": "stream",
     "text": [
      "created new node:\n",
      "---------------\n",
      "Tree Node: \n",
      "---------------\n",
      " split dimension: 0 \n",
      "split value: 63.22 \n",
      "\n",
      "entropy: 12.03 \n",
      "mean: [ 52.01901221  59.46050723]\n",
      "cov: [[ 732.71376393    7.00816657]\n",
      " [   7.00816657   81.63827986]]\n",
      "left entropy: 10.82 \n",
      "right entropy: 7.32 \n",
      "\n",
      "node height: 0 \n",
      "None\n",
      "---------------\n",
      "Tree Node: \n",
      "---------------\n",
      " split dimension: 0 \n",
      "split value: 43.06 \n",
      "\n",
      "entropy: 10.82 \n",
      "mean: [ 40.05737643  57.98529986]\n",
      "cov: [[ 196.83099294  -79.44597362]\n",
      " [ -79.44597362   88.84513964]]\n",
      "left entropy: 8.90 \n",
      "right entropy: 9.31 \n",
      "\n",
      "node height: 0 \n",
      "---------------\n",
      "Tree Node: \n",
      "---------------\n",
      " split dimension: 1 \n",
      "split value: 50.67 \n",
      "\n",
      "entropy: 9.31 \n",
      "mean: [ 52.29886323  53.40145295]\n",
      "cov: [[  17.73012297  -28.37023763]\n",
      " [ -28.37023763  122.96899468]]\n",
      "left entropy: 7.69 \n",
      "right entropy: 7.16 \n",
      "\n",
      "node height: 0 \n",
      "---------------\n",
      "Tree Node: \n",
      "---------------\n",
      " split dimension: 0 \n",
      "split value: 26.90 \n",
      "\n",
      "entropy: 8.90 \n",
      "mean: [ 28.05829531  62.47837752]\n",
      "cov: [[ 81.03529693 -20.44391206]\n",
      " [-20.44391206  14.85615285]]\n",
      "left entropy: 7.29 \n",
      "right entropy: 7.18 \n",
      "\n",
      "node height: 0 \n"
     ]
    }
   ],
   "source": [
    "root = create_decision_tree_unlabelled(dataset, dimensions=2, clusters = nclusters, verbose=True)"
   ]
  },
  {
   "cell_type": "code",
   "execution_count": 9,
   "metadata": {
    "collapsed": true
   },
   "outputs": [],
   "source": [
    "def get_values_preorder(node, cut_dims, cut_vals):\n",
    "    cut_dims.append(node.split_dimension)\n",
    "    cut_vals.append(node.split_value)\n",
    "    if node.left is not None:\n",
    "        get_values_preorder(node.left, cut_dims, cut_vals)\n",
    "    if node.right is not None:\n",
    "        get_values_preorder(node.right, cut_dims, cut_vals)\n",
    "    return cut_vals, cut_dims\n",
    "\n",
    "cut_vals, cut_dims = get_values_preorder(root, [], [])\n",
    "cut_vals = np.asarray(cut_vals)[np.not_equal(cut_vals,None)].astype(float)\n",
    "cut_dims = np.asarray(cut_dims)[np.not_equal(cut_dims,None)].astype(int)"
   ]
  },
  {
   "cell_type": "code",
   "execution_count": 10,
   "metadata": {},
   "outputs": [
    {
     "name": "stdout",
     "output_type": "stream",
     "text": [
      "\u001b[H\u001b[2J"
     ]
    },
    {
     "data": {
      "image/png": "[encoded data removed]",
      "text/plain": [
       "<matplotlib.figure.Figure at 0x11c5ce748>"
      ]
     },
     "metadata": {},
     "output_type": "display_data"
    }
   ],
   "source": [
    "x_split = cut_vals[cut_dims == 0]\n",
    "y_split = cut_vals[cut_dims == 1]\n",
    "\n",
    "fig, ax = plt.subplots(1,1)\n",
    "plotData(dataset, \"Training data after splitting\", ax, labels=False, linesX = x_split, linesY = y_split, \n",
    "                            minRange = minRange, maxRange = maxRange, covariance=covariance)\n",
    "\n",
    "%clear\n",
    "plt.show()"
   ]
  },
  {
   "cell_type": "code",
   "execution_count": 11,
   "metadata": {},
   "outputs": [
    {
     "name": "stdout",
     "output_type": "stream",
     "text": [
      "[0 0 0 1] [ 63.21835488  43.06437693  26.90152521  50.67127843]\n"
     ]
    }
   ],
   "source": [
    "print(cut_dims, cut_vals)"
   ]
  },
  {
   "cell_type": "markdown",
   "metadata": {},
   "source": [
    "# Printing the Tree"
   ]
  },
  {
   "cell_type": "code",
   "execution_count": 12,
   "metadata": {},
   "outputs": [],
   "source": [
    "def print_rule(node):\n",
    "    \"\"\"Helper function to print the split decision of a given node\"\"\"\n",
    "    rule_string = str(node.split_dimension) + \"$<$\" + str(np.round(node.split_value, 1))\n",
    "    return rule_string\n",
    "\n",
    "\n",
    "def print_density_tree_latex(node, tree_string):\n",
    "    \"\"\"print decision tree in a LaTeX syntax for visualizing the decision tree\n",
    "    To be called as:\n",
    "    tree_string = \"\"\n",
    "    tree_string = printstuff(root,tree_string)\n",
    "    \"\"\"\n",
    "    tree_string += \"[\"\n",
    "\n",
    "    tree_string += print_rule(node)\n",
    "    #print(tree_string)\n",
    "    print_rule(node)\n",
    "\n",
    "    # check if node is leaf node\n",
    "    if node.left is None:\n",
    "        tree_string += \"[ent:%.2f]\"  % node.left_entropy\n",
    "    # check if node is leaf node\n",
    "    if node.right is None:\n",
    "        tree_string += \"[ent:%.2f]\"  % node.right_entropy\n",
    "\n",
    "    # iterate over node's children\n",
    "    if node.left is not None:\n",
    "        tree_string = print_density_tree_latex(node.left, tree_string)\n",
    "\n",
    "    if node.right is not None:\n",
    "        tree_string = print_density_tree_latex(node.right, tree_string)\n",
    "    tree_string += \"]\"\n",
    "\n",
    "    return tree_string"
   ]
  },
  {
   "cell_type": "code",
   "execution_count": 13,
   "metadata": {},
   "outputs": [
    {
     "data": {
      "text/plain": [
       "'[0$<$63.2[ent:7.32][0$<$43.1[0$<$26.9[ent:7.29][ent:7.18]][1$<$50.7[ent:7.69][ent:7.16]]]]'"
      ]
     },
     "execution_count": 13,
     "metadata": {},
     "output_type": "execute_result"
    }
   ],
   "source": [
    "tree_string = \"\"\n",
    "tree_string = print_density_tree_latex(root,tree_string)\n",
    "tree_string"
   ]
  },
  {
   "cell_type": "code",
   "execution_count": 14,
   "metadata": {},
   "outputs": [
    {
     "data": {
      "image/png": "[encoded data removed]",
      "text/plain": [
       "<IPython.core.display.Image object>"
      ]
     },
     "metadata": {
      "image/png": {
       "height": 275,
       "width": 368
      }
     },
     "output_type": "display_data"
    }
   ],
   "source": [
    "def tree_visualize(root):\n",
    "    tree_string = \"\"\n",
    "    tree_string = print_density_tree_latex(root,tree_string)\n",
    "    \n",
    "    os.system(\"cd figures; rm main.tex; more main_pt1.tex >> main.tex; echo '' >> main.tex;  echo '\" + tree_string + \"' >> main.tex;  more main_pt2.tex >> main.tex;\")\n",
    "    os.system(\"cd figures; /Library/TeX/texbin/pdflatex main.tex; convert -density 300 -trim main.pdf -quality 100 main.png\")\n",
    "    display(Image('./figures/main.png', retina=True))\n",
    "    \n",
    "tree_visualize(root)"
   ]
  },
  {
   "cell_type": "markdown",
   "metadata": {},
   "source": [
    "#### Showing all Clusters Covariances"
   ]
  },
  {
   "cell_type": "code",
   "execution_count": 15,
   "metadata": {},
   "outputs": [],
   "source": [
    "covs = []\n",
    "means = []\n",
    "def get_clusters(node):\n",
    "    \"\"\"add all leaf nodes to an array in preorder traversal fashion\"\"\"\n",
    "    # check for leaf node\n",
    "    if node.left is not None:\n",
    "        get_clusters(node.left)\n",
    "    else:\n",
    "        covs.append(node.left_cov)\n",
    "        means.append(node.left_mean)\n",
    "    if node.right is not None:\n",
    "        get_clusters(node.right)  \n",
    "    else:\n",
    "        covs.append(node.right_cov)\n",
    "        means.append(node.right_mean)\n",
    "        \n",
    "        \n",
    "get_clusters(root)"
   ]
  },
  {
   "cell_type": "code",
   "execution_count": 16,
   "metadata": {},
   "outputs": [
    {
     "data": {
      "image/png": "[encoded data removed]",
      "text/plain": [
       "<matplotlib.figure.Figure at 0x11cb6c160>"
      ]
     },
     "metadata": {},
     "output_type": "display_data"
    }
   ],
   "source": [
    "figure, axes = plt.subplots(nrows = 1, ncols = 1)\n",
    "plotData(dataset, \"Unlabelled data\", axes, labels=False, covs=covs, means=means)\n",
    "plt.show()"
   ]
  },
  {
   "cell_type": "code",
   "execution_count": null,
   "metadata": {
    "collapsed": true
   },
   "outputs": [],
   "source": []
  }
 ],
 "metadata": {
  "kernelspec": {
   "display_name": "Python 3",
   "language": "python",
   "name": "python3"
  },
  "language_info": {
   "codemirror_mode": {
    "name": "ipython",
    "version": 3
   },
   "file_extension": ".py",
   "mimetype": "text/x-python",
   "name": "python",
   "nbconvert_exporter": "python",
   "pygments_lexer": "ipython3",
   "version": "3.6.3"
  }
 },
 "nbformat": 4,
 "nbformat_minor": 2
}
