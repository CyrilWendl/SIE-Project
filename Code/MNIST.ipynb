{
 "cells": [
  {
   "cell_type": "markdown",
   "metadata": {},
   "source": [
    "# MNIST test dataset "
   ]
  },
  {
   "cell_type": "code",
   "execution_count": 8,
   "metadata": {
    "collapsed": true
   },
   "outputs": [],
   "source": [
    "'''Trains a simple convnet on the MNIST dataset.\n",
    "Gets to 99.25% test accuracy after 12 epochs\n",
    "(there is still a lot of margin for parameter tuning).\n",
    "16 seconds per epoch on a GRID K520 GPU.\n",
    "'''\n",
    "\n",
    "from __future__ import print_function\n",
    "import keras\n",
    "from keras.datasets import mnist\n",
    "from keras.models import Sequential, load_model\n",
    "from keras.layers import Dense, Dropout, Flatten\n",
    "from keras.layers import Conv2D, MaxPooling2D\n",
    "from keras import backend as K\n",
    "import multiprocessing\n",
    "import numpy as np\n",
    "import matplotlib.pyplot as plt\n",
    "from scipy.misc import imsave\n",
    "import numpy as np\n",
    "import time"
   ]
  },
  {
   "cell_type": "markdown",
   "metadata": {},
   "source": [
    "# Data Import \n",
    "Import the data, delete all data in the training set of class 7\n"
   ]
  },
  {
   "cell_type": "code",
   "execution_count": 9,
   "metadata": {},
   "outputs": [
    {
     "name": "stdout",
     "output_type": "stream",
     "text": [
      "(array([0, 1, 2, 3, 4, 5, 6, 7, 8, 9], dtype=uint8), array([5923, 6742, 5958, 6131, 5842, 5421, 5918, 6265, 5851, 5949]))\n",
      "(array([0, 1, 2, 3, 4, 5, 6, 7, 8], dtype=uint8), array([5923, 6742, 5958, 6131, 5842, 5421, 5918, 5851, 5949]))\n"
     ]
    }
   ],
   "source": [
    "# adapted from Source: https://github.com/keras-team/keras/tree/master/examples\n",
    "\n",
    "# the data, shuffled and split between train and test sets\n",
    "(x_train, y_train), (x_test_all, y_test_all) = mnist.load_data()\n",
    "print(np.unique(y_train, return_counts=True))\n",
    "\n",
    "label_to_remove = 7\n",
    "    \n",
    "\n",
    "# remove all trainig samples containing a label label_to_remove\n",
    "x_train = x_train[y_train!=label_to_remove]\n",
    "y_train = y_train[y_train!=label_to_remove]\n",
    "    \n",
    "x_test = x_test_all[y_test_all!=label_to_remove]\n",
    "y_test = y_test_all[y_test_all!=label_to_remove]\n",
    "\n",
    "# decrease all labels that are higher by -1 to avoid gaps\n",
    "for i in range(label_to_remove+1, 11):\n",
    "    y_train[y_train == i] = (i-1)\n",
    "    y_test[y_test == i] = (i-1)\n",
    "print(np.unique(y_train, return_counts=True))"
   ]
  },
  {
   "cell_type": "code",
   "execution_count": 10,
   "metadata": {},
   "outputs": [
    {
     "name": "stdout",
     "output_type": "stream",
     "text": [
      "x_train shape: (53735, 28, 28, 1)\n",
      "53735 train samples\n",
      "8972 test samples\n"
     ]
    }
   ],
   "source": [
    "batch_size = 128\n",
    "num_classes = 9\n",
    "epochs = 12 # TODO increase number of epochs\n",
    "\n",
    "# input image dimensions\n",
    "img_rows, img_cols = 28, 28\n",
    "\n",
    "# Reshape for Tensorflow\n",
    "x_train = x_train.reshape(x_train.shape[0], img_rows, img_cols, 1)\n",
    "x_test = x_test.reshape(x_test.shape[0], img_rows, img_cols, 1)\n",
    "x_test_all = x_test_all.reshape(x_test_all.shape[0], img_rows, img_cols, 1)\n",
    "input_shape = (img_rows, img_cols, 1)\n",
    "\n",
    "x_train = x_train.astype('float32')\n",
    "x_test = x_test.astype('float32')\n",
    "x_test_all = x_test_all.astype('float32')\n",
    "x_train /= 255\n",
    "x_test /= 255\n",
    "x_test_all /= 255\n",
    "print('x_train shape:', x_train.shape)\n",
    "print(x_train.shape[0], 'train samples')\n",
    "print(x_test.shape[0], 'test samples')\n",
    "\n",
    "# convert class vectors to binary class matrices\n",
    "y_train = keras.utils.to_categorical(y_train, num_classes)\n",
    "y_test = keras.utils.to_categorical(y_test, num_classes)"
   ]
  },
  {
   "cell_type": "code",
   "execution_count": 11,
   "metadata": {},
   "outputs": [
    {
     "name": "stdout",
     "output_type": "stream",
     "text": [
      "_________________________________________________________________\n",
      "Layer (type)                 Output Shape              Param #   \n",
      "=================================================================\n",
      "conv2d_3 (Conv2D)            (None, 26, 26, 32)        320       \n",
      "_________________________________________________________________\n",
      "conv2d_4 (Conv2D)            (None, 24, 24, 64)        18496     \n",
      "_________________________________________________________________\n",
      "max_pooling2d_2 (MaxPooling2 (None, 12, 12, 64)        0         \n",
      "_________________________________________________________________\n",
      "dropout_3 (Dropout)          (None, 12, 12, 64)        0         \n",
      "_________________________________________________________________\n",
      "flatten_2 (Flatten)          (None, 9216)              0         \n",
      "_________________________________________________________________\n",
      "dense_3 (Dense)              (None, 128)               1179776   \n",
      "_________________________________________________________________\n",
      "dropout_4 (Dropout)          (None, 128)               0         \n",
      "_________________________________________________________________\n",
      "dense_4 (Dense)              (None, 9)                 1161      \n",
      "=================================================================\n",
      "Total params: 1,199,753\n",
      "Trainable params: 1,199,753\n",
      "Non-trainable params: 0\n",
      "_________________________________________________________________\n",
      "None\n",
      "Test loss: 0.0245974460649\n",
      "Test accuracy: 0.992197949175\n"
     ]
    }
   ],
   "source": [
    "model = Sequential()\n",
    "model.add(Conv2D(32, kernel_size=(3, 3),\n",
    "                 activation='relu',\n",
    "                 input_shape=input_shape))\n",
    "model.add(Conv2D(64, (3, 3), activation='relu'))\n",
    "model.add(MaxPooling2D(pool_size=(2, 2)))\n",
    "model.add(Dropout(0.25))\n",
    "model.add(Flatten())\n",
    "model.add(Dense(128, activation='relu'))\n",
    "model.add(Dropout(0.5))\n",
    "model.add(Dense(num_classes, activation='softmax'))\n",
    "\n",
    "model.compile(loss=keras.losses.categorical_crossentropy,\n",
    "              optimizer=keras.optimizers.Adadelta(),\n",
    "              metrics=['accuracy'])\n",
    "\n",
    "print(model.summary())\n",
    "\n",
    "model_train = False;\n",
    "if model_train:\n",
    "    model.fit(x_train, y_train,\n",
    "          batch_size=batch_size,\n",
    "          epochs=epochs,\n",
    "          verbose=1,\n",
    "          validation_data=(x_test, y_test))\n",
    "    model.save('mnist-weights.h5')\n",
    "else :\n",
    "    model = load_model('mnist-weights.h5')\n",
    "\n",
    "score = model.evaluate(x_test, y_test, verbose=0)\n",
    "print('Test loss:', score[0])\n",
    "print('Test accuracy:', score[1])"
   ]
  },
  {
   "cell_type": "markdown",
   "metadata": {},
   "source": [
    "#### Make some predictions for the unseen class"
   ]
  },
  {
   "cell_type": "code",
   "execution_count": 12,
   "metadata": {},
   "outputs": [
    {
     "data": {
      "image/png": "[encoded data removed]",
      "text/plain": [
       "<matplotlib.figure.Figure at 0x181a8e6fd0>"
      ]
     },
     "metadata": {},
     "output_type": "display_data"
    }
   ],
   "source": [
    "# all images in the test set containing a label label_to_remove\n",
    "x_unseen_class = x_test_all[np.where(y_test_all==label_to_remove)[0]] \n",
    "\n",
    "# make prodictions for class unseen during training\n",
    "y_pred = model.predict(x_unseen_class)\n",
    "y_pred_label = np.argmax(y_pred, axis = 1);\n",
    "\n",
    "for i in range(label_to_remove, 9):\n",
    "    y_pred_label[y_pred_label == i] = (i+1)\n",
    "\n",
    "# distribution of predicted label\n",
    "pred_labels, pred_counts = np.unique(y_pred_label,return_counts=True)\n",
    "\n",
    "# visualization\n",
    "fig = plt.figure(figsize=(7,5))\n",
    "plt.bar(pred_labels, pred_counts, color='darkgray')\n",
    "plt.xticks(pred_labels)\n",
    "plt.xlabel(\"Predicted Label\")\n",
    "plt.ylabel(\"Count\")\n",
    "plt.savefig(\"../Figures/pred-count.pdf\", bbox_inches='tight', pad_inches=0)\n",
    "plt.show()"
   ]
  },
  {
   "cell_type": "code",
   "execution_count": 13,
   "metadata": {},
   "outputs": [
    {
     "name": "stdout",
     "output_type": "stream",
     "text": [
      "Mean accuracy: 70.07 %\n",
      "Std accuracy: 30.46 %\n",
      "30.93% of all predictions made with an accuracy higher than 0.95%\n"
     ]
    }
   ],
   "source": [
    "# Avarage certitude for unseen class: 1-max_margin\n",
    "c = []\n",
    "for i in range(len(y_pred_label)):\n",
    "    y_probas = np.sort(y_pred[i])  # probabilities for one image\n",
    "    c.append(y_probas[-1]-y_probas[-2])  # margin\n",
    "\n",
    "    \n",
    "pred_acc_mean = np.mean(c)\n",
    "pred_acc_std = np.std(c)\n",
    "    \n",
    "print(\"Mean accuracy: %.2f %%\" % (pred_acc_mean*100) )\n",
    "print(\"Std accuracy: %.2f %%\" % (pred_acc_std*100) )\n",
    "\n",
    "c = np.asarray(c)\n",
    "pred_acc_high = .95 # 95 % is considered a very high confidence\n",
    "\n",
    "\n",
    "pct = np.round(len(c[c>pred_acc_high])/len(c),4)*100\n",
    "print(\"%.2f%% of all predictions made with an accuracy higher than %.2f%%\" % (pct, pred_acc_high))"
   ]
  },
  {
   "cell_type": "code",
   "execution_count": 14,
   "metadata": {},
   "outputs": [
    {
     "name": "stdout",
     "output_type": "stream",
     "text": [
      "Mean accuracy: 98.85 %\n",
      "Std accuracy: 7.22 %\n",
      "96.59 % of all predictions made with an accuracy higher than 0.95%\n"
     ]
    }
   ],
   "source": [
    "# Avarage certitude for seen class: 1-max_margin\n",
    "y_pred_seen = model.predict(x_test)\n",
    "y_pred_label_seen = np.argmax(y_pred_seen, axis = 1);\n",
    "\n",
    "for i in range(label_to_remove, 9):\n",
    "    y_pred_label_seen[y_pred_label_seen == i] = (i+1)\n",
    "\n",
    "c = []\n",
    "for i in range(len(y_pred_label_seen)):\n",
    "    y_probas_seen = np.sort(y_pred_seen[i])  # probabilities for one image\n",
    "    c.append(y_probas_seen[-1]-y_probas_seen[-2])  # margin\n",
    "\n",
    "    \n",
    "pred_acc_mean = np.mean(c)\n",
    "pred_acc_std = np.std(c)\n",
    "    \n",
    "print(\"Mean accuracy: %.2f %%\" % (pred_acc_mean*100) )\n",
    "print(\"Std accuracy: %.2f %%\" % (pred_acc_std*100) )\n",
    "\n",
    "c = np.asarray(c)\n",
    "pred_acc_high = .95 # 95 % is considered a very high confidence\n",
    "\n",
    "\n",
    "pct = np.round(len(c[c>pred_acc_high])/len(c),4)*100\n",
    "print(\"%.2f %% of all predictions made with an accuracy higher than %.2f%%\" % (pct, pred_acc_high))"
   ]
  },
  {
   "cell_type": "markdown",
   "metadata": {},
   "source": [
    "# Activation weights visualization"
   ]
  },
  {
   "cell_type": "code",
   "execution_count": 15,
   "metadata": {
    "collapsed": true
   },
   "outputs": [],
   "source": [
    "# from https://github.com/keras-team/keras/issues/41\n",
    "\n",
    "from keras import backend as K\n",
    "def get_activations(model, layer, X_batch):\n",
    "    get_activations = K.function([model.layers[0].input, K.learning_phase()], [model.layers[layer].output,])\n",
    "    activations = get_activations([X_batch,0])\n",
    "    return activations"
   ]
  },
  {
   "cell_type": "code",
   "execution_count": 16,
   "metadata": {},
   "outputs": [
    {
     "name": "stdout",
     "output_type": "stream",
     "text": [
      "(1, 1, 24, 24, 64)\n"
     ]
    },
    {
     "data": {
      "image/png": "[encoded data removed]",
      "text/plain": [
       "<matplotlib.figure.Figure at 0x18252c1b38>"
      ]
     },
     "metadata": {},
     "output_type": "display_data"
    }
   ],
   "source": [
    "ind_im_test = 10\n",
    "activations = get_activations(model, 1, x_unseen_class[ind_im_test][np.newaxis,:,:,:])\n",
    "print(np.shape(activations))\n",
    "plt.imshow(x_unseen_class[ind_im_test][:,:,0])\n",
    "plt.show()"
   ]
  },
  {
   "cell_type": "code",
   "execution_count": 17,
   "metadata": {},
   "outputs": [
    {
     "data": {
      "image/png": "[encoded data removed]",
      "text/plain": [
       "<matplotlib.figure.Figure at 0x181aa4d5c0>"
      ]
     },
     "metadata": {},
     "output_type": "display_data"
    }
   ],
   "source": [
    "fig, axes = plt.subplots(8,8)\n",
    "fig.set_size_inches(20,20)\n",
    "for i in range(8):\n",
    "    for j in range(8):\n",
    "        axes[i][j].imshow(activations[0][0][:,:,i*8+j])\n",
    "plt.show()"
   ]
  },
  {
   "cell_type": "code",
   "execution_count": 18,
   "metadata": {
    "collapsed": true
   },
   "outputs": [],
   "source": [
    "y_test = np.argmax(y_test, axis = 1)"
   ]
  },
  {
   "cell_type": "code",
   "execution_count": 19,
   "metadata": {},
   "outputs": [
    {
     "name": "stdout",
     "output_type": "stream",
     "text": [
      "(1028, 128)\n",
      "(2000, 128)\n"
     ]
    }
   ],
   "source": [
    "# get activation weights of last layer\n",
    "activations_unseen_class = get_activations(model, 6, x_unseen_class)[0]\n",
    "print(np.shape(activations_unseen_class))\n",
    "\n",
    "activations_seen_classes = get_activations(model, 6, x_test[:2000])[0]\n",
    "print(np.shape(activations_seen_classes))"
   ]
  },
  {
   "cell_type": "markdown",
   "metadata": {
    "collapsed": true
   },
   "source": [
    "# Density Tree\n",
    "Feed activation weigths into density tree"
   ]
  },
  {
   "cell_type": "code",
   "execution_count": 20,
   "metadata": {
    "collapsed": true
   },
   "outputs": [],
   "source": [
    "from density_tree.density_forest import *\n",
    "from density_tree.density_tree_create import *\n",
    "from density_tree.density_tree_traverse import *\n",
    "from density_tree.create_data import *\n",
    "from density_tree.helpers import *\n",
    "from density_tree.plots import *\n",
    "from sklearn import decomposition\n",
    "import warnings"
   ]
  },
  {
   "cell_type": "code",
   "execution_count": 21,
   "metadata": {
    "collapsed": true
   },
   "outputs": [],
   "source": [
    "# create density tree for activation weights of training data\n",
    "\n",
    "dimensions = activations_seen_classes.shape[1]\n",
    "nclusters = 9\n",
    "\n",
    "# PCA\n",
    "plt.cla()\n",
    "pca = decomposition.PCA(n_components=10)\n",
    "pca.fit(activations_seen_classes)\n",
    "\n",
    "X_seen = pca.transform(activations_seen_classes)\n",
    "X_unseen = pca.transform(activations_unseen_class)\n",
    "\n",
    "warnings.filterwarnings(\"ignore\")\n",
    "root = create_density_tree(X_seen, dimensions = dimensions, clusters = nclusters)"
   ]
  },
  {
   "cell_type": "code",
   "execution_count": 42,
   "metadata": {},
   "outputs": [
    {
     "name": "stderr",
     "output_type": "stream",
     "text": [
      "[Parallel(n_jobs=8)]: Done  34 tasks      | elapsed:   28.7s\n",
      "[Parallel(n_jobs=8)]: Done 184 tasks      | elapsed:  2.3min\n",
      "[Parallel(n_jobs=8)]: Done 434 tasks      | elapsed:  5.0min\n",
      "[Parallel(n_jobs=8)]: Done 500 out of 500 | elapsed:  5.7min finished\n",
      "100%|██████████| 2000/2000 [03:15<00:00, 10.21it/s]\n"
     ]
    }
   ],
   "source": [
    "root_nodes_seen = density_forest_create(X_seen, dimensions, nclusters, 500, .3, -1)\n",
    "\n",
    "probas_seen = density_forest_traverse(X_seen, root_nodes_seen)\n",
    "probas_seen = probas_seen[np.isnan(probas_seen)==False] # only keep non-NaN values"
   ]
  },
  {
   "cell_type": "code",
   "execution_count": 43,
   "metadata": {},
   "outputs": [
    {
     "name": "stderr",
     "output_type": "stream",
     "text": [
      "100%|██████████| 1028/1028 [01:11<00:00, 14.35it/s]\n"
     ]
    }
   ],
   "source": [
    "probas_unseen = density_forest_traverse(X_unseen, root_nodes_seen)\n",
    "probas_unseen = probas_unseen[np.isnan(probas_unseen)==False] # only keep non-NaN values"
   ]
  },
  {
   "cell_type": "code",
   "execution_count": 44,
   "metadata": {
    "collapsed": true
   },
   "outputs": [],
   "source": [
    "mean_proba_seen = np.mean(probas_seen)\n",
    "mean_proba_unseen = np.mean(probas_unseen)\n",
    "\n",
    "std_proba_seen = np.std(probas_seen)\n",
    "std_proba_unseen = np.std(probas_unseen)"
   ]
  },
  {
   "cell_type": "code",
   "execution_count": 45,
   "metadata": {},
   "outputs": [
    {
     "name": "stdout",
     "output_type": "stream",
     "text": [
      "Mean probability of unseen class to belong to clusters: 1.31 \n",
      "Std probability of unseen class to belong to clusters: 4.93 \n",
      "Mean probability of seen classes to belong to clusters: 33.58 \n",
      "Std probability of seen classes to belong to clusters: 61.10 \n"
     ]
    }
   ],
   "source": [
    "print(\"Mean probability of unseen class to belong to clusters: %.2f \" % (mean_proba_unseen * 1e+10))\n",
    "print(\"Std probability of unseen class to belong to clusters: %.2f \" % (std_proba_unseen * 1e+10))\n",
    "\n",
    "print(\"Mean probability of seen classes to belong to clusters: %.2f \" % (mean_proba_seen * 1e+10))\n",
    "print(\"Std probability of seen classes to belong to clusters: %.2f \" % (std_proba_seen * 1e+10))"
   ]
  },
  {
   "cell_type": "code",
   "execution_count": 46,
   "metadata": {},
   "outputs": [
    {
     "name": "stdout",
     "output_type": "stream",
     "text": [
      "Ratio unseen / seen: 0.0390\n",
      "Ratio seen / unseen: 25.6629\n"
     ]
    }
   ],
   "source": [
    "print(\"Ratio unseen / seen: %.4f\" % (mean_proba_unseen/mean_proba_seen))\n",
    "print(\"Ratio seen / unseen: %.4f\" % (mean_proba_seen/mean_proba_unseen))"
   ]
  },
  {
   "cell_type": "code",
   "execution_count": null,
   "metadata": {
    "collapsed": true
   },
   "outputs": [],
   "source": []
  }
 ],
 "metadata": {
  "kernelspec": {
   "display_name": "Python 3",
   "language": "python",
   "name": "python3"
  },
  "language_info": {
   "codemirror_mode": {
    "name": "ipython",
    "version": 3
   },
   "file_extension": ".py",
   "mimetype": "text/x-python",
   "name": "python",
   "nbconvert_exporter": "python",
   "pygments_lexer": "ipython3",
   "version": "3.6.3"
  }
 },
 "nbformat": 4,
 "nbformat_minor": 2
}
